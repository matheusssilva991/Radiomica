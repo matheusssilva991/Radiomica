{
 "cells": [
  {
   "cell_type": "code",
   "execution_count": 1,
   "metadata": {},
   "outputs": [],
   "source": [
    "import os, sys\n",
    "sys.path.insert(0, \"/\".join(os.path.abspath(os.curdir).split(\"/\")[:-1]))\n",
    "from pathlib import Path\n",
    "\n",
    "from src.utils.imageProcessing import *"
   ]
  },
  {
   "cell_type": "code",
   "execution_count": 2,
   "metadata": {},
   "outputs": [],
   "source": [
    "path = \"../src/utils/\"\n",
    "dim = (255, 255)\n",
    "imageType = \"dcm\"\n",
    "\n",
    "directory = Path(path)\n",
    "images_paths = list(directory.rglob(f\"*.{imageType}*\"))\n",
    "images_paths = list(map(str, images_paths))\n",
    "\n",
    "for i, image_path in enumerate(images_paths):\n",
    "    image = extract_image_dicom(image_path, save=True)\n",
    "    image = resize_image(image, dim, save=True, path=images_paths[i].replace(\"dcm\", \"png\"))"
   ]
  }
 ],
 "metadata": {
  "kernelspec": {
   "display_name": "radiomica",
   "language": "python",
   "name": "python3"
  },
  "language_info": {
   "codemirror_mode": {
    "name": "ipython",
    "version": 3
   },
   "file_extension": ".py",
   "mimetype": "text/x-python",
   "name": "python",
   "nbconvert_exporter": "python",
   "pygments_lexer": "ipython3",
   "version": "3.11.3"
  },
  "orig_nbformat": 4
 },
 "nbformat": 4,
 "nbformat_minor": 2
}
