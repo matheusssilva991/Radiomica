{
 "cells": [
  {
   "cell_type": "code",
   "execution_count": 1,
   "metadata": {},
   "outputs": [],
   "source": [
    "import os\n",
    "import sys\n",
    "\n",
    "sys.path.insert(0, \"\\\\\".join(os.path.abspath(os.curdir).split(\"\\\\\")[:-1:]))\n",
    "from pathlib import Path\n",
    "\n",
    "from copy import deepcopy\n",
    "\n",
    "from src.utils.utils import *\n",
    "from src.utils.imageProcessing import *"
   ]
  },
  {
   "attachments": {},
   "cell_type": "markdown",
   "metadata": {},
   "source": [
    "# Pré processar os metadados"
   ]
  },
  {
   "attachments": {},
   "cell_type": "markdown",
   "metadata": {},
   "source": [
    "### CBIS-DDSM"
   ]
  },
  {
   "cell_type": "code",
   "execution_count": 2,
   "metadata": {},
   "outputs": [],
   "source": [
    "json_names = ['calc_case_description_test_set', 'calc_case_description_train_set', \n",
    "              'mass_case_description_test_set', 'mass_case_description_train_set']\n",
    "\n",
    "path_metadata = \"../metadata/mamografia/extracted_metadata/csv_and_dicom_DSSM\"\n",
    "\n",
    "# Cria o objeto do banco de dados\n",
    "database = {\"name\": \"CBIS-DDSM\",\n",
    "            \"exameType\": \"Mamografia\",\n",
    "            \"description\": \"Banco de dados gerado pelo processamento do banco DDSM\",\n",
    "            \"imageQuality\": set(),\n",
    "            \"imageType\": \"DDSM\",\n",
    "            \"sourceLink\": \"https://wiki.cancerimagingarchive.net/pages/viewpage.action?pageId=22516629\",\n",
    "            }\n",
    "\n",
    "studies = []\n",
    "list_metadata = []\n",
    "images = []\n",
    "\n",
    "# Pega e junta todos os metadados\n",
    "for json_name in json_names:\n",
    "    list_metadata = list_metadata + load_json(json_name, path_metadata)\n",
    "    \n",
    "for i, metadata in enumerate(list_metadata):\n",
    "    metadata_csv = rename_keys(metadata[\"metadata_csv\"])\n",
    "    metadata_dicom = metadata[\"metadata_dicom_files\"][\"original\"][0]\n",
    "    \n",
    "    database[\"imageQuality\"].add(int(metadata_dicom[\"bits_stored (0028, 0101)\"]))\n",
    "    resizedImagePath = f\"D:\\\\mathe\\\\Documents\\BancoDados_IC\\\\resized_images\\\\CBIS-DDSM\\\\image_resized_CBIS-DDSM_{i}.png\"\n",
    "    \n",
    "    directory = Path(metadata_csv[\"original_image_path\"])\n",
    "    images_paths = list(directory.rglob(f\"*.dcm*\"))\n",
    "    images_paths = list(map(str, images_paths))\n",
    "    metadata_csv[\"original_image_path\"] = images_paths[0]\n",
    "    \n",
    "    \"\"\" image_array = extract_image_dicom(metadata_csv[\"original_image_path\"])\n",
    "    resize_image(image_array, (255, 255), save=True, path=resizedImagePath, image_type=\"png\") \"\"\"\n",
    "    \n",
    "    image = {\n",
    "             \"patient_id\": metadata_csv[\"patient_id\"],\n",
    "             \"leftOrRightBreast\": metadata_csv[\"left_or_right_breast\"],\n",
    "             \"orientation\": metadata_csv[\"image_view\"],\n",
    "             \"width\": metadata_dicom[\"columns (0028, 0011)\"],\n",
    "             \"height\": metadata_dicom[\"rows (0028, 0010)\"],\n",
    "             \"imagePath\": metadata_csv[\"original_image_path\"],\n",
    "             \"resizedImagePath\": resizedImagePath,\n",
    "             \"imageQuality\": metadata_dicom[\"bits_stored (0028, 0101)\"],\n",
    "             \"classification\": {\n",
    "                                 \"pathology\": metadata_csv[\"pathology\"],\n",
    "                                 \"biRads\": metadata_csv[\"bi_rads\"],\n",
    "                                 \"breastDensity\": metadata_csv[\"breast_density\"],\n",
    "                                 \"abnormalityType\": metadata_csv[\"abnormality_type\"],\n",
    "                                 \"subtlety\": metadata_csv[\"subtlety\"]\n",
    "                                },\n",
    "            }\n",
    "\n",
    "    images.append(image)\n",
    "\n",
    "if len(database[\"imageQuality\"]) == 1:\n",
    "       database[\"imageQuality\"] = database[\"imageQuality\"][0]\n",
    "else:\n",
    "    database[\"imageQuality\"] = list(database[\"imageQuality\"]) \n",
    "    \n",
    "database[\"images\"] = images\n",
    "\n",
    "save_json(\"metadata\", database, \"./mongodb_database\") "
   ]
  },
  {
   "attachments": {},
   "cell_type": "markdown",
   "metadata": {},
   "source": [
    "### CMMD"
   ]
  },
  {
   "cell_type": "code",
   "execution_count": 3,
   "metadata": {},
   "outputs": [
    {
     "data": {
      "text/plain": [
       "'#CMMD e INBREAST     \\ndatabase_names = [\\'CMMD\\', \\'INBREAST\\']\\njson_names = [\\'csv_and_dicom_CMMD\\', \\'csv_and_dicom_INBREAST\\']\\n\\nfor database_name, json_name in zip(database_names, json_names):\\n    list_metadata = load_json(json_name, \"../metadata/mamografia/extracted_metadata\")\\n    \\n    for metadata in list_metadata: \\n        new_metadata = {}\\n        new_metadata[\\'database_name\\'] = database_name\\n        new_metadata[\\'study_name\\'] = metadata[\\'study_name\\']\\n        \\n        metadata_csv = rename_keys(metadata[\\'metadata_csv\\'])\\n    \\n        new_metadata = new_metadata | metadata_csv\\n        new_metadata[\\'metadata_dicom_files\\'] = metadata[\\'metadata_dicom_files\\']\\n        \\n        studies.append(new_metadata)\\n    \\nsave_json(\"metadata\", studies, \"./mongodb_database\") '"
      ]
     },
     "execution_count": 3,
     "metadata": {},
     "output_type": "execute_result"
    }
   ],
   "source": [
    "\"\"\"#CMMD e INBREAST     \n",
    "database_names = ['CMMD', 'INBREAST']\n",
    "json_names = ['csv_and_dicom_CMMD', 'csv_and_dicom_INBREAST']\n",
    "\n",
    "for database_name, json_name in zip(database_names, json_names):\n",
    "    list_metadata = load_json(json_name, \"../metadata/mamografia/extracted_metadata\")\n",
    "    \n",
    "    for metadata in list_metadata: \n",
    "        new_metadata = {}\n",
    "        new_metadata['database_name'] = database_name\n",
    "        new_metadata['study_name'] = metadata['study_name']\n",
    "        \n",
    "        metadata_csv = rename_keys(metadata['metadata_csv'])\n",
    "    \n",
    "        new_metadata = new_metadata | metadata_csv\n",
    "        new_metadata['metadata_dicom_files'] = metadata['metadata_dicom_files']\n",
    "        \n",
    "        studies.append(new_metadata)\n",
    "    \n",
    "save_json(\"metadata\", studies, \"./mongodb_database\") \"\"\""
   ]
  }
 ],
 "metadata": {
  "kernelspec": {
   "display_name": "prov",
   "language": "python",
   "name": "python3"
  },
  "language_info": {
   "codemirror_mode": {
    "name": "ipython",
    "version": 3
   },
   "file_extension": ".py",
   "mimetype": "text/x-python",
   "name": "python",
   "nbconvert_exporter": "python",
   "pygments_lexer": "ipython3",
   "version": "3.10.6"
  },
  "orig_nbformat": 4,
  "vscode": {
   "interpreter": {
    "hash": "72b0e7aef17bfaf12a24a38efe1b5729927abea9daa7ebf89509f441d033e89a"
   }
  }
 },
 "nbformat": 4,
 "nbformat_minor": 2
}
