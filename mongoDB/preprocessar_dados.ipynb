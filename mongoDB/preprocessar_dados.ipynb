{
 "cells": [
  {
   "cell_type": "code",
   "execution_count": 1,
   "metadata": {},
   "outputs": [],
   "source": [
    "import os\n",
    "import sys\n",
    "\n",
    "sys.path.insert(0, \"\\\\\".join(os.path.abspath(os.curdir).split(\"\\\\\")[:-1:]))\n",
    "from pathlib import Path\n",
    "\n",
    "from copy import deepcopy\n",
    "\n",
    "from src.utils.utils import *"
   ]
  },
  {
   "attachments": {},
   "cell_type": "markdown",
   "metadata": {},
   "source": [
    "# Pré processar os metadados"
   ]
  },
  {
   "cell_type": "code",
   "execution_count": 2,
   "metadata": {},
   "outputs": [],
   "source": [
    "from copy import deepcopy\n",
    "\n",
    "def rename_keys(dictionary):\n",
    "    dict_keys_to_rename = {\n",
    "        \"id1\": \"patient_id\",\n",
    "        \"leftright\": \"left_or_right_breast\",\n",
    "        \"abnormality\": \"abnormality_type\",\n",
    "        \"classification\": \"pathology\",\n",
    "        \"reference_number\": \"patient_id\",\n",
    "        \"laterality\": \"left_or_right breast\",\n",
    "        \"view\": \"image_view\",\n",
    "        \"assessment\": \"bi-rads\",\n",
    "        \"age\": \"patient_age\",\n",
    "        \"acr\": \"breast_density\"\n",
    "    }\n",
    "\n",
    "    keys_order = dictionary.keys()\n",
    "    \n",
    "    for key in dictionary.keys():\n",
    "        key_lower = deepcopy(key)\n",
    "        key_lower = key_lower.lower().replace(\" \", \"_\")\n",
    "        \n",
    "        if key in dict_keys_to_rename.keys():\n",
    "            keys_order = list(map(lambda x: x.replace(key, dict_keys_to_rename[key_lower]), keys_order))\n",
    "            \n",
    "    new_dict = {}\n",
    "    for key_order, key in zip(keys_order, dictionary.keys()):\n",
    "        new_dict[key_order.lower().replace(\" \", \"_\").replace(\"-\", \"_\")] = dictionary[key]\n",
    "           \n",
    "    return new_dict"
   ]
  },
  {
   "attachments": {},
   "cell_type": "markdown",
   "metadata": {},
   "source": [
    "### DDSM"
   ]
  },
  {
   "cell_type": "code",
   "execution_count": 3,
   "metadata": {},
   "outputs": [],
   "source": [
    "studies = []\n",
    "json_names = ['calc_case_description_test_set', 'calc_case_description_train_set', \n",
    "              'mass_case_description_test_set', 'mass_case_description_train_set']\n",
    "list_id = set()\n",
    "\n",
    "list_metadata = []\n",
    "path_metadata = \"../metadata/mamografia/extracted_metadata/csv_and_dicom_DSSM\"\n",
    "\n",
    "# Pega e junta todos os metadados\n",
    "for json_name in json_names:\n",
    "    list_metadata = list_metadata + load_json(json_name, path_metadata)\n",
    "    \n",
    "# Pega os id's de todos os pacientes    \n",
    "for metadata in list_metadata:\n",
    "    list_id.add(metadata[\"metadata_csv\"][\"patient_id\"])\n",
    "    \n",
    "# Itera sobre todos os pacientes    \n",
    "for id in list_id:\n",
    "    list_patient_metadata = []\n",
    "    new_metadata = {}\n",
    "    \n",
    "    # Pega todos os metadados associados a um paciente\n",
    "    for metadata in list_metadata:\n",
    "        if id == metadata[\"metadata_csv\"][\"patient_id\"]:\n",
    "            list_patient_metadata.append(metadata)\n",
    "    \n",
    "    # Cria o objeto paciente  \n",
    "    tmp = list_patient_metadata[0][\"metadata_dicom_files\"]['original'][0]   \n",
    "    patient = {'sex': tmp[\"patient's_sex (0010, 0040)\"],\n",
    "               'birth_date': tmp[\"patient's_birth_date (0010, 0030)\"]}\n",
    "    \n",
    "    new_metadata['researcher'] = {\"name\": \"\", \"email\": \"\", \"orcid\": \"\", \"lattes\": \"\"}\n",
    "    new_metadata['patient'] = patient\n",
    "    images = []\n",
    "    \n",
    "    # Cria a lista de imagens\n",
    "    for patient_metadata in list_patient_metadata:\n",
    "        metadata_csv = patient_metadata['metadata_csv']\n",
    "        \n",
    "        image = {'orientation': metadata_csv['image view']}\n",
    "        \n",
    "        # Pega o path da imagem original\n",
    "        directory = Path(metadata_csv[\"original_image_path\"])\n",
    "        path_original_image = list(directory.rglob(\"*.dcm*\"))[0]\n",
    "        \n",
    "        # Salva o path e classificação na imagem\n",
    "        image['original_image_path'] = metadata_csv['original_image_path']\n",
    "        image['classification'] = metadata_csv['pathology']\n",
    "        \n",
    "        # Processamento para o objeto image_metadata\n",
    "        tmp = deepcopy(metadata_csv)\n",
    "        del tmp['original_image_path']\n",
    "        del tmp['cropped_image_path']\n",
    "        del tmp['image view']\n",
    "        del tmp['patient_id']\n",
    "        del tmp['pathology']\n",
    "        \n",
    "        # Cria o objeto image_metadata\n",
    "        image_metadata = {'study_name': 'DDSM'} | tmp\n",
    "        image['image_metadata'] = image_metadata\n",
    "        \n",
    "        # Pega os paths das imagens cropped\n",
    "        directory = Path(metadata_csv[\"cropped_image_path\"])\n",
    "        paths_processed_images = list(directory.rglob(\"*.dcm*\"))\n",
    "        \n",
    "        # Cria o objeto image_processing\n",
    "        processings = [{'processing_type': 'Cropped', 'result_image_type': str(path)} for path in paths_processed_images]\n",
    "        image['image_processing'] = processings\n",
    "        \n",
    "        # Cria o objeto image_type\n",
    "        image['image_type'] = {'label': 'DICOM', 'description': '(tag_group, tag_element)',\n",
    "                      'data': patient_metadata['metadata_dicom_files']['original']}\n",
    "        \n",
    "        images.append(image)\n",
    "        \n",
    "    new_metadata['image'] = images\n",
    "    \n",
    "    studies.append(new_metadata)\n",
    "\n",
    "save_json(\"metadata\", studies, \"./mongodb_database\") "
   ]
  },
  {
   "attachments": {},
   "cell_type": "markdown",
   "metadata": {},
   "source": [
    "### CMMD"
   ]
  },
  {
   "cell_type": "code",
   "execution_count": 5,
   "metadata": {},
   "outputs": [
    {
     "data": {
      "text/plain": [
       "' #CMMD e INBREAST     \\ndatabase_names = [\\'CMMD\\', \\'INBREAST\\']\\njson_names = [\\'csv_and_dicom_CMMD\\', \\'csv_and_dicom_INBREAST\\']\\n\\nfor database_name, json_name in zip(database_names, json_names):\\n    list_metadata = load_json(json_name, \"../metadata/mamografia/extracted_metadata\")\\n    \\n    for metadata in list_metadata: \\n        new_metadata = {}\\n        new_metadata[\\'database_name\\'] = database_name\\n        new_metadata[\\'study_name\\'] = metadata[\\'study_name\\']\\n        \\n        metadata_csv = rename_keys(metadata[\\'metadata_csv\\'])\\n    \\n        new_metadata = new_metadata | metadata_csv\\n        new_metadata[\\'metadata_dicom_files\\'] = metadata[\\'metadata_dicom_files\\']\\n        \\n        studies.append(new_metadata)\\n    \\nsave_json(\"metadata\", studies, \"./mongodb_database\") '"
      ]
     },
     "execution_count": 5,
     "metadata": {},
     "output_type": "execute_result"
    }
   ],
   "source": [
    "\"\"\"#CMMD e INBREAST     \n",
    "database_names = ['CMMD', 'INBREAST']\n",
    "json_names = ['csv_and_dicom_CMMD', 'csv_and_dicom_INBREAST']\n",
    "\n",
    "for database_name, json_name in zip(database_names, json_names):\n",
    "    list_metadata = load_json(json_name, \"../metadata/mamografia/extracted_metadata\")\n",
    "    \n",
    "    for metadata in list_metadata: \n",
    "        new_metadata = {}\n",
    "        new_metadata['database_name'] = database_name\n",
    "        new_metadata['study_name'] = metadata['study_name']\n",
    "        \n",
    "        metadata_csv = rename_keys(metadata['metadata_csv'])\n",
    "    \n",
    "        new_metadata = new_metadata | metadata_csv\n",
    "        new_metadata['metadata_dicom_files'] = metadata['metadata_dicom_files']\n",
    "        \n",
    "        studies.append(new_metadata)\n",
    "    \n",
    "save_json(\"metadata\", studies, \"./mongodb_database\") \"\"\""
   ]
  }
 ],
 "metadata": {
  "kernelspec": {
   "display_name": "prov",
   "language": "python",
   "name": "python3"
  },
  "language_info": {
   "codemirror_mode": {
    "name": "ipython",
    "version": 3
   },
   "file_extension": ".py",
   "mimetype": "text/x-python",
   "name": "python",
   "nbconvert_exporter": "python",
   "pygments_lexer": "ipython3",
   "version": "3.10.6"
  },
  "orig_nbformat": 4,
  "vscode": {
   "interpreter": {
    "hash": "72b0e7aef17bfaf12a24a38efe1b5729927abea9daa7ebf89509f441d033e89a"
   }
  }
 },
 "nbformat": 4,
 "nbformat_minor": 2
}
