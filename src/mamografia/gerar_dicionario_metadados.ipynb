{
 "cells": [
  {
   "cell_type": "code",
   "execution_count": 1,
   "metadata": {},
   "outputs": [],
   "source": [
    "import os, sys\n",
    "sys.path.insert(0, \"\\\\\".join(os.path.abspath(os.curdir).split(\"\\\\\")[:-2:]))\n",
    "\n",
    "from src.utils.utils import *"
   ]
  },
  {
   "cell_type": "markdown",
   "metadata": {},
   "source": [
    "# Dicionário de metadados"
   ]
  },
  {
   "attachments": {},
   "cell_type": "markdown",
   "metadata": {},
   "source": [
    "## Metadados cabeçalho"
   ]
  },
  {
   "attachments": {},
   "cell_type": "markdown",
   "metadata": {},
   "source": [
    "Cabeçalho Dicom - CBIS-DDSM"
   ]
  },
  {
   "cell_type": "code",
   "execution_count": 2,
   "metadata": {},
   "outputs": [],
   "source": [
    "\n",
    "dictionary_metadata_cbis_ddsm = {}\n",
    "dictionary_empty_meta = {}\n",
    "\n",
    "metadata_cbis_ddsm = load_json(\"extracted_metadata_CBIS-DDSM\",  \"../../outputs/mamografia/extracted_metadata\")\n",
    "\n",
    "for current_meta_study in metadata_cbis_ddsm: # itera sobre os estudos\n",
    "    tmp_meta = current_meta_study['metadata_dicom_files']\n",
    "    \n",
    "    all_tags = set()\n",
    "    empty_tags = set()\n",
    "    \n",
    "    meta_dicom_files = tmp_meta['original'] + tmp_meta['cropped']\n",
    "    \n",
    "    for meta_dicom_file in meta_dicom_files: # Itera sobre os arquivos dicom no estudo\n",
    "        for key, value in meta_dicom_file.items(): # Iterar sobre as tags no arquivo dicom\n",
    "            all_tags = all_tags | set(meta_dicom_file.keys()) # união\n",
    "            empty_tags = empty_tags | set([key for key, value in meta_dicom_file.items() \n",
    "                                            if meta_dicom_file[key] == \"\"]) # união\n",
    "    update_count_tag(all_tags, dictionary_metadata_cbis_ddsm)\n",
    "    update_count_tag(empty_tags, dictionary_empty_meta) \n",
    "        \n",
    "for key in dictionary_metadata_cbis_ddsm.keys():\n",
    "    if key in dictionary_empty_meta.keys():\n",
    "        dictionary_metadata_cbis_ddsm[key] -= dictionary_empty_meta[key]\n",
    "        \n",
    "save_json(\"dictionary_dicom_CBIS-DDSM\", dictionary_metadata_cbis_ddsm, f\"../../outputs/mamografia/dictionary_metadata/dicom_pgm\")"
   ]
  },
  {
   "attachments": {},
   "cell_type": "markdown",
   "metadata": {},
   "source": [
    "Cabeçalho Dicom - CMMD"
   ]
  },
  {
   "cell_type": "code",
   "execution_count": 3,
   "metadata": {},
   "outputs": [],
   "source": [
    "metadata_cmmd = load_json(\"extracted_metadata_CMMD\",  \"../../outputs/mamografia/extracted_metadata\")\n",
    "\n",
    "dictionary_metadata_cbis_ddsm = {}\n",
    "dictionary_empty_meta = {}\n",
    "\n",
    "for current_meta in metadata_cmmd: # Iterar sobre os estudos\n",
    "    meta_dicom_files = current_meta['metadata_dicom_files']\n",
    "    \n",
    "    all_tags = set()\n",
    "    empty_tags = set()\n",
    "    \n",
    "    for current_meta_dicom in meta_dicom_files: # Iterar sobre os arquivos dicom no estudo\n",
    "        for key, value in current_meta_dicom.items(): # Iterar sobre as tags no arquivo dicom\n",
    "            all_tags = all_tags | set(current_meta_dicom.keys()) # união\n",
    "            empty_tags = empty_tags | set([key for key, value in current_meta_dicom.items() \n",
    "                                           if current_meta_dicom[key] == \"\"]) # união\n",
    "    \n",
    "            if isinstance(value, list):\n",
    "                for seq_item in value:\n",
    "                    all_tags = all_tags | set(seq_item.keys()) # união\n",
    "                    empty_tags = empty_tags | set([key for key, value in seq_item.items() \n",
    "                                           if seq_item[key] == \"\"]) # união\n",
    "                    \n",
    "    update_count_tag(all_tags, dictionary_metadata_cbis_ddsm)\n",
    "    update_count_tag(empty_tags, dictionary_empty_meta) \n",
    "    \n",
    "for key in dictionary_metadata_cbis_ddsm.keys():\n",
    "    if key in dictionary_empty_meta.keys():\n",
    "        dictionary_metadata_cbis_ddsm[key] -= dictionary_empty_meta[key]\n",
    "\n",
    "save_json(\"dictionary_dicom_CMMD\", dictionary_metadata_cbis_ddsm, f\"../../outputs/mamografia/dictionary_metadata/dicom_pgm\") "
   ]
  },
  {
   "attachments": {},
   "cell_type": "markdown",
   "metadata": {},
   "source": [
    "Cabelçalho Dicom - INBREAST"
   ]
  },
  {
   "cell_type": "code",
   "execution_count": 4,
   "metadata": {},
   "outputs": [],
   "source": [
    "metadata_inbreast = load_json(\"extracted_metadata_INBREAST\",  \"../../outputs/mamografia/extracted_metadata\")\n",
    "\n",
    "dictionary_metadata_cbis_ddsm = {}\n",
    "dictionary_empty_meta = {}\n",
    "\n",
    "for current_meta in metadata_inbreast: # Iterar sobre os estudos\n",
    "    meta_dicom_file = current_meta['metadata_dicom_files']\n",
    "    \n",
    "    all_tags = set()\n",
    "    empty_tags = set()\n",
    "    \n",
    "    for key, value in meta_dicom_file.items(): # Iterar sobre as tags no arquivo dicom\n",
    "        all_tags = all_tags | set(meta_dicom_file.keys()) # união\n",
    "        empty_tags = empty_tags | set([key for key, value in meta_dicom_file.items() \n",
    "                                       if meta_dicom_file[key] == \"\"]) # união\n",
    "            \n",
    "    update_count_tag(all_tags, dictionary_metadata_cbis_ddsm)\n",
    "    update_count_tag(empty_tags, dictionary_empty_meta) \n",
    "    \n",
    "for key in dictionary_metadata_cbis_ddsm.keys():\n",
    "    if key in dictionary_empty_meta.keys():\n",
    "        dictionary_metadata_cbis_ddsm[key] -= dictionary_empty_meta[key]\n",
    "\n",
    "save_json(\"dictionary_dicom_INBREAST\", dictionary_metadata_cbis_ddsm, f\"../../outputs/mamografia/dictionary_metadata/dicom_pgm\")"
   ]
  },
  {
   "attachments": {},
   "cell_type": "markdown",
   "metadata": {},
   "source": [
    "Cabeçalho PGM - MIAS"
   ]
  },
  {
   "cell_type": "code",
   "execution_count": 5,
   "metadata": {},
   "outputs": [],
   "source": [
    "metadata_mias = load_json(\"extracted_metadata_MIAS\",  \"../../outputs/mamografia/extracted_metadata\")\n",
    "\n",
    "dictionary_metadata_cbis_ddsm = {}\n",
    "\n",
    "for current_meta in metadata_mias:\n",
    "    metadata_pgm_file = current_meta['metadata_pgm_file']\n",
    "    \"\"\" normalized_dict = {}\n",
    "    \n",
    "    #Criar dicionário com tags normalizada\n",
    "    normalized_dict[\"rows (0028, 0010)\"] = metadata_pgm_file['rows']\n",
    "    normalized_dict[\"columns (0028, 0011)\"] = metadata_pgm_file['columns']\n",
    "    \n",
    "    bits_used = get_bits_allocated(metadata_pgm_file['max_value'])\n",
    "    normalized_dict[\"bits_allocated (0028, 0100)\"] = bits_used\n",
    "    normalized_dict[\"bits_stored (0028, 0101)\"] = bits_used\n",
    "    normalized_dict[\"high_bit (0028, 0102)\"] = bits_used - 1\"\"\"\n",
    "    \n",
    "    for key, value in metadata_pgm_file.items():\n",
    "        if value == \"\" or key == \"img_path\":\n",
    "            del metadata_pgm_file[key]\n",
    "    \n",
    "    update_count_tag(metadata_pgm_file.keys(), dictionary_metadata_cbis_ddsm)\n",
    "    \n",
    "save_json(\"dictionary_pgm_MIAS\", dictionary_metadata_cbis_ddsm, f\"../../outputs/mamografia/dictionary_metadata/dicom_pgm\")"
   ]
  },
  {
   "attachments": {},
   "cell_type": "markdown",
   "metadata": {},
   "source": [
    "Juntar Dicionários de tags do cabelhaço Dicom - CMMD, DDSM e INBREAST"
   ]
  },
  {
   "cell_type": "code",
   "execution_count": 6,
   "metadata": {},
   "outputs": [],
   "source": [
    "dictionary_cmmd = load_json(\"dictionary_dicom_CMMD\", \"../../outputs/mamografia/dictionary_metadata/dicom_pgm\")\n",
    "dictionary_cbis_ddsm = load_json(\"dictionary_dicom_CBIS-DDSM\", \"../../outputs/mamografia/dictionary_metadata/dicom_pgm\")\n",
    "dictionary_inbreast = load_json(\"dictionary_dicom_INBREAST\", \"../../outputs/mamografia/dictionary_metadata/dicom_pgm\")\n",
    "\n",
    "full_dictionary = merge_dictionary(dictionary_cmmd, dictionary_cbis_ddsm)\n",
    "full_dictionary = merge_dictionary(full_dictionary, dictionary_inbreast)\n",
    "\n",
    "save_json(\"full_dictionary_dicom_pgm\", full_dictionary, \"../../outputs/mamografia/dictionary_metadata/dicom_pgm\")"
   ]
  },
  {
   "attachments": {},
   "cell_type": "markdown",
   "metadata": {},
   "source": [
    "## Metadados arquivos CSV e TXT"
   ]
  },
  {
   "cell_type": "code",
   "execution_count": 10,
   "metadata": {},
   "outputs": [],
   "source": [
    "# CMMD\n",
    "metadata_cmmd = load_json(\"extracted_metadata_CMMD\", \"../../outputs/mamografia/extracted_metadata\")               \n",
    "dictionary_metadata_cmmd = create_dict_meta(metadata_cmmd, 'csv')\n",
    "save_json(\"dictionary_csv_CMMD\", dictionary_metadata_cmmd, \"../../outputs/mamografia/dictionary_metadata/csv_txt\")\n",
    "\n",
    "# CBIS - DDSM\n",
    "metadata_cbis_ddsm = load_json(\"extracted_metadata_CBIS-DDSM\", \"../../outputs/mamografia/extracted_metadata\")\n",
    "dictionary_metadata_cbis_ddsm = create_dict_meta(metadata_cbis_ddsm, 'csv')\n",
    "save_json(\"dictionary_csv_CBIS-DDSM\", dictionary_metadata_cbis_ddsm, \"../../outputs/mamografia/dictionary_metadata/csv_txt\")\n",
    "\n",
    "# INBREAST\n",
    "metadata_inbreast = load_json(\"extracted_metadata_INBREAST\", \"../../outputs/mamografia/extracted_metadata\")\n",
    "dictionary_metadata_inbreast = create_dict_meta(metadata_inbreast, 'csv')\n",
    "save_json(\"dictionary_csv_INBREAST\", dictionary_metadata_inbreast, \"../../outputs/mamografia/dictionary_metadata/csv_txt\")\n",
    "\n",
    "# MIAS\n",
    "metadata_mias = load_json(\"extracted_metadata_MIAS\", \"../../outputs/mamografia/extracted_metadata\")           \n",
    "dictionary_metadata_mias = create_dict_meta(metadata_mias, 'txt')\n",
    "save_json(\"dictionary_txt_MIAS\", dictionary_metadata_mias, \"../../outputs/mamografia/dictionary_metadata/csv_txt\")\n",
    "\n",
    "# Juntar e salvar os dicionários de metadados\n",
    "full_dictionary = merge_dictionary(dictionary_metadata_cmmd, dictionary_metadata_cbis_ddsm)\n",
    "full_dictionary = merge_dictionary(full_dictionary, dictionary_metadata_inbreast)\n",
    "save_json(\"full_dictionary_metadata\", full_dictionary, \"../../outputs/mamografia/dictionary_metadata/csv_txt\")"
   ]
  }
 ],
 "metadata": {
  "kernelspec": {
   "display_name": "Python 3.10.4 ('prov')",
   "language": "python",
   "name": "python3"
  },
  "language_info": {
   "codemirror_mode": {
    "name": "ipython",
    "version": 3
   },
   "file_extension": ".py",
   "mimetype": "text/x-python",
   "name": "python",
   "nbconvert_exporter": "python",
   "pygments_lexer": "ipython3",
   "version": "3.10.6"
  },
  "orig_nbformat": 4,
  "vscode": {
   "interpreter": {
    "hash": "72b0e7aef17bfaf12a24a38efe1b5729927abea9daa7ebf89509f441d033e89a"
   }
  }
 },
 "nbformat": 4,
 "nbformat_minor": 2
}
