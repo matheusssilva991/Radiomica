{
 "cells": [
  {
   "cell_type": "code",
   "execution_count": 1,
   "metadata": {},
   "outputs": [],
   "source": [
    "import os, sys\n",
    "sys.path.insert(0, \"\\\\\".join(os.path.abspath(os.curdir).split(\"\\\\\")[:-2:]))\n",
    "\n",
    "from src.utils.utils import *"
   ]
  },
  {
   "cell_type": "markdown",
   "metadata": {},
   "source": [
    "# Dicionário de metadados"
   ]
  },
  {
   "attachments": {},
   "cell_type": "markdown",
   "metadata": {},
   "source": [
    "## Metadados cabeçalho"
   ]
  },
  {
   "attachments": {},
   "cell_type": "markdown",
   "metadata": {},
   "source": [
    "Cabeçalho Dicom - DDSM"
   ]
  },
  {
   "cell_type": "code",
   "execution_count": null,
   "metadata": {},
   "outputs": [],
   "source": [
    "metadata_files = ['calc_case_description_test_set',\n",
    "             'mass_case_description_train_set',\n",
    "             'calc_case_description_train_set',\n",
    "             'mass_case_description_test_set']\n",
    "\n",
    "dictionary_metadata = {}\n",
    "dictionary_empty_meta = {}\n",
    "\n",
    "for current_meta in metadata_files: # Itera sobre os json de metados\n",
    "    metadata_ddsm = load_json(current_meta,  \"../../metadata/extracted_metadata/csv_and_dicom_DSSM\")\n",
    "    \n",
    "    for current_meta_study in metadata_ddsm: # itera sobre os estudos\n",
    "        tmp_meta = current_meta_study['metadata_dicom_files']\n",
    "        \n",
    "        all_tags = set()\n",
    "        empty_tags = set()\n",
    "        \n",
    "        meta_dicom_files = tmp_meta['original'] + tmp_meta['cropped']\n",
    "        \n",
    "        for meta_dicom_file in meta_dicom_files: # Itera sobre os arquivos dicom no estudo\n",
    "            for key, value in meta_dicom_file.items(): # Iterar sobre as tags no arquivo dicom\n",
    "                all_tags = all_tags | set(meta_dicom_file.keys()) # união\n",
    "                empty_tags = empty_tags | set([key for key, value in meta_dicom_file.items() \n",
    "                                               if meta_dicom_file[key] == \"\"]) # união\n",
    "        update_count_tag(all_tags, dictionary_metadata)\n",
    "        update_count_tag(empty_tags, dictionary_empty_meta) \n",
    "        \n",
    "for key in dictionary_metadata.keys():\n",
    "    if key in dictionary_empty_meta.keys():\n",
    "        dictionary_metadata[key] -= dictionary_empty_meta[key]\n",
    "        \n",
    "save_json(\"dictionary_header_DDSM\", dictionary_metadata, f\"../../metadata/dictionary_dicom\")"
   ]
  },
  {
   "attachments": {},
   "cell_type": "markdown",
   "metadata": {},
   "source": [
    "Cabeçalho Dicom - CMMD"
   ]
  },
  {
   "cell_type": "code",
   "execution_count": null,
   "metadata": {},
   "outputs": [],
   "source": [
    "metadata_cmmd = load_json(\"csv_and_dicom_CMMD\", \"../../metadata/extracted_metadata\")\n",
    "\n",
    "dictionary_metadata = {}\n",
    "dictionary_empty_meta = {}\n",
    "\n",
    "for current_meta in metadata_cmmd: # Iterar sobre os estudos\n",
    "    meta_dicom_files = current_meta['metadata_dicom_files']\n",
    "    \n",
    "    all_tags = set()\n",
    "    empty_tags = set()\n",
    "    \n",
    "    for current_meta_dicom in meta_dicom_files: # Iterar sobre os arquivos dicom no estudo\n",
    "        for key, value in current_meta_dicom.items(): # Iterar sobre as tags no arquivo dicom\n",
    "            all_tags = all_tags | set(current_meta_dicom.keys()) # união\n",
    "            empty_tags = empty_tags | set([key for key, value in current_meta_dicom.items() \n",
    "                                           if current_meta_dicom[key] == \"\"]) # união\n",
    "    \n",
    "            if isinstance(value, list):\n",
    "                for seq_item in value:\n",
    "                    all_tags = all_tags | set(seq_item.keys()) # união\n",
    "                    empty_tags = empty_tags | set([key for key, value in seq_item.items() \n",
    "                                           if seq_item[key] == \"\"]) # união\n",
    "                    \n",
    "    update_count_tag(all_tags, dictionary_metadata)\n",
    "    update_count_tag(empty_tags, dictionary_empty_meta) \n",
    "    \n",
    "for key in dictionary_metadata.keys():\n",
    "    if key in dictionary_empty_meta.keys():\n",
    "        dictionary_metadata[key] -= dictionary_empty_meta[key]\n",
    "\n",
    "save_json(\"dictionary_header_CMMD\", dictionary_metadata, f\"../../metadata/dictionary_dicom\") "
   ]
  },
  {
   "attachments": {},
   "cell_type": "markdown",
   "metadata": {},
   "source": [
    "Cabelçalho Dicom - INBREAST"
   ]
  },
  {
   "cell_type": "code",
   "execution_count": null,
   "metadata": {},
   "outputs": [],
   "source": [
    "metadata_inbreast = load_json(\"csv_and_dicom_INBREAST\", \"../../metadata/extracted_metadata\")\n",
    "\n",
    "dictionary_metadata = {}\n",
    "dictionary_empty_meta = {}\n",
    "\n",
    "for current_meta in metadata_inbreast: # Iterar sobre os estudos\n",
    "    meta_dicom_file = current_meta['metadata_dicom_files']\n",
    "    \n",
    "    all_tags = set()\n",
    "    empty_tags = set()\n",
    "    \n",
    "    for key, value in meta_dicom_file.items(): # Iterar sobre as tags no arquivo dicom\n",
    "        all_tags = all_tags | set(meta_dicom_file.keys()) # união\n",
    "        empty_tags = empty_tags | set([key for key, value in meta_dicom_file.items() \n",
    "                                       if meta_dicom_file[key] == \"\"]) # união\n",
    "            \n",
    "    update_count_tag(all_tags, dictionary_metadata)\n",
    "    update_count_tag(empty_tags, dictionary_empty_meta) \n",
    "    \n",
    "for key in dictionary_metadata.keys():\n",
    "    if key in dictionary_empty_meta.keys():\n",
    "        dictionary_metadata[key] -= dictionary_empty_meta[key]\n",
    "\n",
    "save_json(\"dictionary_header_INBREAST\", dictionary_metadata, f\"../../metadata/dictionary_dicom\")"
   ]
  },
  {
   "attachments": {},
   "cell_type": "markdown",
   "metadata": {},
   "source": [
    "Cabeçalho PGM - MIAS"
   ]
  },
  {
   "cell_type": "code",
   "execution_count": null,
   "metadata": {},
   "outputs": [],
   "source": [
    "mias_metadata = load_json(\"txt_and_pgm_MIAS\", \"../../metadata/extracted_metadata\")\n",
    "dictionary_metadata = {}\n",
    "\n",
    "for current_meta in mias_metadata:\n",
    "    metadata_pgm_file = current_meta['metadata_pgm_file']\n",
    "    \"\"\" normalized_dict = {}\n",
    "    \n",
    "    #Criar dicionário com tags normalizada\n",
    "    normalized_dict[\"rows (0028, 0010)\"] = metadata_pgm_file['rows']\n",
    "    normalized_dict[\"columns (0028, 0011)\"] = metadata_pgm_file['columns']\n",
    "    \n",
    "    bits_used = get_bits_allocated(metadata_pgm_file['max_value'])\n",
    "    normalized_dict[\"bits_allocated (0028, 0100)\"] = bits_used\n",
    "    normalized_dict[\"bits_stored (0028, 0101)\"] = bits_used\n",
    "    normalized_dict[\"high_bit (0028, 0102)\"] = bits_used - 1\"\"\"\n",
    "    \n",
    "    for key, value in metadata_pgm_file.items():\n",
    "        if value == \"\" or key == \"img_path\":\n",
    "            del metadata_pgm_file[key]\n",
    "    \n",
    "    update_count_tag(metadata_pgm_file.keys(), dictionary_metadata)\n",
    "    \n",
    "save_json(\"dictionary_header_MIAS\", dictionary_metadata, f\"../../metadata/dictionary_dicom\")"
   ]
  },
  {
   "attachments": {},
   "cell_type": "markdown",
   "metadata": {},
   "source": [
    "Juntar Dicionários de tags do cabelhaço Dicom - CMMD, DDSM e INBREAST"
   ]
  },
  {
   "cell_type": "code",
   "execution_count": null,
   "metadata": {},
   "outputs": [],
   "source": [
    "dictionary_cmmd = load_json(\"dictionary_header_CMMD\", \"../../metadata/dictionary_dicom\")\n",
    "dictionary_ddsm = load_json(\"dictionary_header_DDSM\", \"../../metadata/dictionary_dicom\")\n",
    "dictionary_inbreast = load_json(\"dictionary_header_INBREAST\", \"../../metadata/dictionary_dicom\")\n",
    "\n",
    "full_dictionary = merge_dictionary(dictionary_cmmd, dictionary_ddsm)\n",
    "full_dictionary = merge_dictionary(full_dictionary, dictionary_inbreast)\n",
    "\n",
    "save_json(\"full_dictionary_header\", full_dictionary, f\"../../metadata/dictionary_dicom\")"
   ]
  },
  {
   "attachments": {},
   "cell_type": "markdown",
   "metadata": {},
   "source": [
    "## Metadados arquivos CSV e TXT"
   ]
  },
  {
   "attachments": {},
   "cell_type": "markdown",
   "metadata": {},
   "source": [
    "Arquivo CSV - CMMD"
   ]
  },
  {
   "cell_type": "code",
   "execution_count": null,
   "metadata": {},
   "outputs": [],
   "source": [
    "metadata_cmmd = load_json(\"csv_and_dicom_CMMD\", \"../../metadata/extracted_metadata\")\n",
    "               \n",
    "dictionary_metadata = create_dict_meta(metadata_cmmd, 'csv')\n",
    "save_json(\"dictionary_csv_CMMD\", dictionary_metadata, f\"../../metadata/dictionary_csv_txt\")"
   ]
  },
  {
   "attachments": {},
   "cell_type": "markdown",
   "metadata": {},
   "source": [
    "Arquivo CSV - DDSM"
   ]
  },
  {
   "cell_type": "code",
   "execution_count": null,
   "metadata": {},
   "outputs": [],
   "source": [
    "metadata_files = ['calc_case_description_test_set',\n",
    "             'mass_case_description_train_set',\n",
    "             'calc_case_description_train_set',\n",
    "             'mass_case_description_test_set']\n",
    "\n",
    "dictionary_metadata = {}\n",
    "\n",
    "for current_meta in metadata_files:\n",
    "    metadata_ddsm = load_json(current_meta, \"../../metadata/extracted_metadata/csv_and_dicom_DSSM\")\n",
    "    \n",
    "    dictionary_metadata = merge_dictionary(dictionary_metadata, create_dict_meta(metadata_ddsm, 'csv'))\n",
    "    \n",
    "save_json(\"dictionary_csv_DDSM\", dictionary_metadata, f\"../../metadata/dictionary_csv_txt\")    "
   ]
  },
  {
   "attachments": {},
   "cell_type": "markdown",
   "metadata": {},
   "source": [
    "Arquivo CSV - INBREAST"
   ]
  },
  {
   "cell_type": "code",
   "execution_count": null,
   "metadata": {},
   "outputs": [],
   "source": [
    "metadata_inbreast = load_json(\"csv_and_dicom_INBREAST\", \"../../metadata/extracted_metadata\")\n",
    "\n",
    "dictionary_metadata = create_dict_meta(metadata_inbreast, 'csv')\n",
    "save_json(\"dictionary_csv_INBREAST\", dictionary_metadata, f\"../../metadata/dictionary_csv_txt\")"
   ]
  },
  {
   "attachments": {},
   "cell_type": "markdown",
   "metadata": {},
   "source": [
    "Arquivo txt - MIAS"
   ]
  },
  {
   "cell_type": "code",
   "execution_count": null,
   "metadata": {},
   "outputs": [],
   "source": [
    "metadata_mias = load_json(\"txt_and_pgm_mias\", \"../../metadata/extracted_metadata\")\n",
    "               \n",
    "dictionary_metadata = create_dict_meta(metadata_mias, 'txt')\n",
    "save_json(\"dictionary_txt_MIAS\", dictionary_metadata, f\"../../metadata/dictionary_csv_txt\")"
   ]
  },
  {
   "attachments": {},
   "cell_type": "markdown",
   "metadata": {},
   "source": [
    "Juntar Dicionários de metadados CSV - DDSM e CMMD"
   ]
  },
  {
   "cell_type": "code",
   "execution_count": null,
   "metadata": {},
   "outputs": [],
   "source": [
    "dictionary_cmmd = load_json(\"dictionary_csv_CMMD\", \"../../metadata/dictionary_csv_txt\")\n",
    "dictionary_ddsm = load_json(\"dictionary_csv_DDSM\", \"../../metadata/dictionary_csv_txt\")\n",
    "dictionary_inbreast = load_json(\"dictionary_csv_INBREAST\", \"../../metadata/dictionary_csv_txt\")\n",
    "\n",
    "full_dictionary = merge_dictionary(dictionary_cmmd, dictionary_ddsm)\n",
    "full_dictionary = merge_dictionary(full_dictionary, dictionary_inbreast)\n",
    "\n",
    "save_json(\"full_dictionary_csv\", full_dictionary, f\"../../metadata/dictionary_Csv_txt\")"
   ]
  }
 ],
 "metadata": {
  "kernelspec": {
   "display_name": "Python 3.10.4 ('prov')",
   "language": "python",
   "name": "python3"
  },
  "language_info": {
   "codemirror_mode": {
    "name": "ipython",
    "version": 3
   },
   "file_extension": ".py",
   "mimetype": "text/x-python",
   "name": "python",
   "nbconvert_exporter": "python",
   "pygments_lexer": "ipython3",
   "version": "3.10.6 | packaged by conda-forge | (main, Oct 24 2022, 16:02:16) [MSC v.1916 64 bit (AMD64)]"
  },
  "orig_nbformat": 4,
  "vscode": {
   "interpreter": {
    "hash": "72b0e7aef17bfaf12a24a38efe1b5729927abea9daa7ebf89509f441d033e89a"
   }
  }
 },
 "nbformat": 4,
 "nbformat_minor": 2
}
