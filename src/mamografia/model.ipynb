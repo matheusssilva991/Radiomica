{
 "cells": [
  {
   "cell_type": "code",
   "execution_count": 1,
   "metadata": {},
   "outputs": [
    {
     "name": "stderr",
     "output_type": "stream",
     "text": [
      "Intel(R) Extension for Scikit-learn* enabled (https://github.com/intel/scikit-learn-intelex)\n"
     ]
    }
   ],
   "source": [
    "import matplotlib.pyplot as plt\n",
    "import pandas as pd\n",
    "from sklearnex import patch_sklearn\n",
    "\n",
    "patch_sklearn()\n",
    "\n",
    "from imblearn.over_sampling import SMOTE\n",
    "from imblearn.under_sampling import NearMiss\n",
    "from keras import regularizers\n",
    "from keras.layers import Dense, Dropout\n",
    "from keras.models import Sequential\n",
    "from sklearn.ensemble import GradientBoostingClassifier, RandomForestClassifier\n",
    "from sklearn.metrics import (accuracy_score, f1_score, precision_score,\n",
    "                             recall_score)\n",
    "from sklearn.model_selection import train_test_split, GridSearchCV\n",
    "from sklearn.preprocessing import StandardScaler\n",
    "from sklearn.decomposition import PCA\n",
    "from keras.optimizers import RMSprop, Adam"
   ]
  },
  {
   "cell_type": "markdown",
   "metadata": {},
   "source": [
    "# Detecção câncer de mama"
   ]
  },
  {
   "attachments": {},
   "cell_type": "markdown",
   "metadata": {},
   "source": [
    "### Importação"
   ]
  },
  {
   "cell_type": "code",
   "execution_count": 2,
   "metadata": {},
   "outputs": [
    {
     "data": {
      "text/html": [
       "<div>\n",
       "<style scoped>\n",
       "    .dataframe tbody tr th:only-of-type {\n",
       "        vertical-align: middle;\n",
       "    }\n",
       "\n",
       "    .dataframe tbody tr th {\n",
       "        vertical-align: top;\n",
       "    }\n",
       "\n",
       "    .dataframe thead th {\n",
       "        text-align: right;\n",
       "    }\n",
       "</style>\n",
       "<table border=\"1\" class=\"dataframe\">\n",
       "  <thead>\n",
       "    <tr style=\"text-align: right;\">\n",
       "      <th></th>\n",
       "      <th>mean</th>\n",
       "      <th>std</th>\n",
       "      <th>smoothness</th>\n",
       "      <th>third_moment</th>\n",
       "      <th>uniformity</th>\n",
       "      <th>entropy</th>\n",
       "      <th>dissimilarity_dist_1_ang_0</th>\n",
       "      <th>dissimilarity_dist_1_ang_45</th>\n",
       "      <th>dissimilarity_dist_1_ang_90</th>\n",
       "      <th>dissimilarity_dist_1_ang_135</th>\n",
       "      <th>...</th>\n",
       "      <th>contrast_dist_1_ang_135</th>\n",
       "      <th>energy_dist_1_ang_0</th>\n",
       "      <th>energy_dist_1_ang_45</th>\n",
       "      <th>energy_dist_1_ang_90</th>\n",
       "      <th>energy_dist_1_ang_135</th>\n",
       "      <th>ASM_dist_1_ang_0</th>\n",
       "      <th>ASM_dist_1_ang_45</th>\n",
       "      <th>ASM_dist_1_ang_90</th>\n",
       "      <th>ASM_dist_1_ang_135</th>\n",
       "      <th>pathology</th>\n",
       "    </tr>\n",
       "  </thead>\n",
       "  <tbody>\n",
       "    <tr>\n",
       "      <th>0</th>\n",
       "      <td>154.24557</td>\n",
       "      <td>51.805473</td>\n",
       "      <td>0.999628</td>\n",
       "      <td>-38705.156</td>\n",
       "      <td>0.005436</td>\n",
       "      <td>7.633350</td>\n",
       "      <td>4.625919</td>\n",
       "      <td>6.196418</td>\n",
       "      <td>5.005535</td>\n",
       "      <td>5.335784</td>\n",
       "      <td>...</td>\n",
       "      <td>52.560922</td>\n",
       "      <td>0.020599</td>\n",
       "      <td>0.017327</td>\n",
       "      <td>0.019312</td>\n",
       "      <td>0.018479</td>\n",
       "      <td>0.000424</td>\n",
       "      <td>0.000300</td>\n",
       "      <td>0.000373</td>\n",
       "      <td>0.000341</td>\n",
       "      <td>benign</td>\n",
       "    </tr>\n",
       "    <tr>\n",
       "      <th>1</th>\n",
       "      <td>187.77623</td>\n",
       "      <td>33.506527</td>\n",
       "      <td>0.999110</td>\n",
       "      <td>-8337.195</td>\n",
       "      <td>0.008888</td>\n",
       "      <td>6.943397</td>\n",
       "      <td>3.868332</td>\n",
       "      <td>4.704555</td>\n",
       "      <td>3.893180</td>\n",
       "      <td>4.551105</td>\n",
       "      <td>...</td>\n",
       "      <td>40.583774</td>\n",
       "      <td>0.031036</td>\n",
       "      <td>0.026001</td>\n",
       "      <td>0.028314</td>\n",
       "      <td>0.026572</td>\n",
       "      <td>0.000963</td>\n",
       "      <td>0.000676</td>\n",
       "      <td>0.000802</td>\n",
       "      <td>0.000706</td>\n",
       "      <td>benign</td>\n",
       "    </tr>\n",
       "    <tr>\n",
       "      <th>2</th>\n",
       "      <td>226.20087</td>\n",
       "      <td>20.717611</td>\n",
       "      <td>0.997676</td>\n",
       "      <td>-26923.965</td>\n",
       "      <td>0.029172</td>\n",
       "      <td>5.512225</td>\n",
       "      <td>2.808325</td>\n",
       "      <td>4.833903</td>\n",
       "      <td>3.721335</td>\n",
       "      <td>3.431363</td>\n",
       "      <td>...</td>\n",
       "      <td>37.676600</td>\n",
       "      <td>0.066008</td>\n",
       "      <td>0.053864</td>\n",
       "      <td>0.060593</td>\n",
       "      <td>0.063414</td>\n",
       "      <td>0.004357</td>\n",
       "      <td>0.002901</td>\n",
       "      <td>0.003672</td>\n",
       "      <td>0.004021</td>\n",
       "      <td>benign</td>\n",
       "    </tr>\n",
       "    <tr>\n",
       "      <th>3</th>\n",
       "      <td>226.20087</td>\n",
       "      <td>20.717611</td>\n",
       "      <td>0.997676</td>\n",
       "      <td>-26923.965</td>\n",
       "      <td>0.029172</td>\n",
       "      <td>5.512225</td>\n",
       "      <td>2.808325</td>\n",
       "      <td>4.833903</td>\n",
       "      <td>3.721335</td>\n",
       "      <td>3.431363</td>\n",
       "      <td>...</td>\n",
       "      <td>37.676600</td>\n",
       "      <td>0.066008</td>\n",
       "      <td>0.053864</td>\n",
       "      <td>0.060593</td>\n",
       "      <td>0.063414</td>\n",
       "      <td>0.004357</td>\n",
       "      <td>0.002901</td>\n",
       "      <td>0.003672</td>\n",
       "      <td>0.004021</td>\n",
       "      <td>benign</td>\n",
       "    </tr>\n",
       "    <tr>\n",
       "      <th>4</th>\n",
       "      <td>219.05660</td>\n",
       "      <td>28.411573</td>\n",
       "      <td>0.998763</td>\n",
       "      <td>-33156.960</td>\n",
       "      <td>0.020903</td>\n",
       "      <td>6.114886</td>\n",
       "      <td>4.324955</td>\n",
       "      <td>5.098914</td>\n",
       "      <td>4.809695</td>\n",
       "      <td>6.073281</td>\n",
       "      <td>...</td>\n",
       "      <td>100.520808</td>\n",
       "      <td>0.053347</td>\n",
       "      <td>0.049548</td>\n",
       "      <td>0.052149</td>\n",
       "      <td>0.047895</td>\n",
       "      <td>0.002846</td>\n",
       "      <td>0.002455</td>\n",
       "      <td>0.002720</td>\n",
       "      <td>0.002294</td>\n",
       "      <td>benign</td>\n",
       "    </tr>\n",
       "  </tbody>\n",
       "</table>\n",
       "<p>5 rows × 31 columns</p>\n",
       "</div>"
      ],
      "text/plain": [
       "        mean        std  smoothness  third_moment  uniformity   entropy  \\\n",
       "0  154.24557  51.805473    0.999628    -38705.156    0.005436  7.633350   \n",
       "1  187.77623  33.506527    0.999110     -8337.195    0.008888  6.943397   \n",
       "2  226.20087  20.717611    0.997676    -26923.965    0.029172  5.512225   \n",
       "3  226.20087  20.717611    0.997676    -26923.965    0.029172  5.512225   \n",
       "4  219.05660  28.411573    0.998763    -33156.960    0.020903  6.114886   \n",
       "\n",
       "   dissimilarity_dist_1_ang_0  dissimilarity_dist_1_ang_45  \\\n",
       "0                    4.625919                     6.196418   \n",
       "1                    3.868332                     4.704555   \n",
       "2                    2.808325                     4.833903   \n",
       "3                    2.808325                     4.833903   \n",
       "4                    4.324955                     5.098914   \n",
       "\n",
       "   dissimilarity_dist_1_ang_90  dissimilarity_dist_1_ang_135  ...  \\\n",
       "0                     5.005535                      5.335784  ...   \n",
       "1                     3.893180                      4.551105  ...   \n",
       "2                     3.721335                      3.431363  ...   \n",
       "3                     3.721335                      3.431363  ...   \n",
       "4                     4.809695                      6.073281  ...   \n",
       "\n",
       "   contrast_dist_1_ang_135  energy_dist_1_ang_0  energy_dist_1_ang_45  \\\n",
       "0                52.560922             0.020599              0.017327   \n",
       "1                40.583774             0.031036              0.026001   \n",
       "2                37.676600             0.066008              0.053864   \n",
       "3                37.676600             0.066008              0.053864   \n",
       "4               100.520808             0.053347              0.049548   \n",
       "\n",
       "   energy_dist_1_ang_90  energy_dist_1_ang_135  ASM_dist_1_ang_0  \\\n",
       "0              0.019312               0.018479          0.000424   \n",
       "1              0.028314               0.026572          0.000963   \n",
       "2              0.060593               0.063414          0.004357   \n",
       "3              0.060593               0.063414          0.004357   \n",
       "4              0.052149               0.047895          0.002846   \n",
       "\n",
       "   ASM_dist_1_ang_45  ASM_dist_1_ang_90  ASM_dist_1_ang_135  pathology  \n",
       "0           0.000300           0.000373            0.000341     benign  \n",
       "1           0.000676           0.000802            0.000706     benign  \n",
       "2           0.002901           0.003672            0.004021     benign  \n",
       "3           0.002901           0.003672            0.004021     benign  \n",
       "4           0.002455           0.002720            0.002294     benign  \n",
       "\n",
       "[5 rows x 31 columns]"
      ]
     },
     "execution_count": 2,
     "metadata": {},
     "output_type": "execute_result"
    }
   ],
   "source": [
    "SELECTED_DATABASE = \"mias\"\n",
    "\n",
    "try:\n",
    "    breast_cancer_df = pd.read_csv(\n",
    "        f\"../../outputs/mamografia/{SELECTED_DATABASE}/first_order_features_{SELECTED_DATABASE}.csv\"\n",
    "    )\n",
    "    aux = pd.read_csv(f\"../../outputs/mamografia/{SELECTED_DATABASE}/glcm_features_{SELECTED_DATABASE}.csv\")\n",
    "    breast_cancer_df = pd.concat([breast_cancer_df.drop(columns='pathology'), aux], axis=1)\n",
    "except FileNotFoundError:\n",
    "    raise Exception(\"Database not found!\")\n",
    "\n",
    "breast_cancer_df.head()"
   ]
  },
  {
   "cell_type": "code",
   "execution_count": 3,
   "metadata": {},
   "outputs": [
    {
     "data": {
      "image/png": "[encoded data removed]",
      "text/plain": [
       "<Figure size 800x400 with 2 Axes>"
      ]
     },
     "metadata": {},
     "output_type": "display_data"
    }
   ],
   "source": [
    "fig = plt.figure(figsize=(8, 4))\n",
    "titles = ['', 'Relative']\n",
    "\n",
    "for i, title in enumerate(titles, start=1):\n",
    "    isRelative = True if i == 2 else False\n",
    "    frequency = breast_cancer_df['pathology'].value_counts(normalize=isRelative)\n",
    "    plt.subplot(1, 2, i)\n",
    "    plt.bar(frequency.index, frequency)\n",
    "    plt.title(f' {title} Class Frequency')\n",
    "    plt.xlabel('Class'), plt.ylabel(f'{title} Frequency')\n",
    "    plt.xticks(rotation=45)\n",
    "fig.subplots_adjust(wspace=0.5)\n",
    "plt.show()"
   ]
  },
  {
   "attachments": {},
   "cell_type": "markdown",
   "metadata": {},
   "source": [
    "### Pré-Processamento"
   ]
  },
  {
   "cell_type": "code",
   "execution_count": 4,
   "metadata": {},
   "outputs": [],
   "source": [
    "# Elimina os dados com classe BENIGN_WITHOUT_CALLBACK ou NORMAL\n",
    "breast_cancer_df = breast_cancer_df[breast_cancer_df[\"pathology\"] != \"benign_without_callback\"]\n",
    "breast_cancer_df = breast_cancer_df[breast_cancer_df[\"pathology\"] != \"normal\"]\n",
    "\n",
    "# Elimina os dados com valores nulos\n",
    "breast_cancer_df.dropna(inplace=True)\n",
    "\n",
    "# Separa em features e labels\n",
    "X, y = (breast_cancer_df.drop([\"pathology\"], axis=1), breast_cancer_df[\"pathology\"])\n",
    "\n",
    "pca = PCA(n_components=11)\n",
    "X_pca = pca.fit_transform(X)\n",
    "\n",
    "# Tratamos os rótulos categóricos\n",
    "y = y.map({\"benign\": 0, \"malignant\": 1})\n",
    "\n",
    "# Separa os dados em treino e teste\n",
    "X_train, X_test, y_train, y_test = train_test_split(X_pca, y, test_size=0.20)\n",
    "\n",
    "# Balanceamento dos dados\n",
    "if SELECTED_DATABASE in [\"inbreast\", \"mias\"]:\n",
    "    smote = SMOTE()\n",
    "    X_train, y_train = smote.fit_resample(X_train, y_train)\n",
    "elif SELECTED_DATABASE == \"cmmd\":\n",
    "    nearmiss = NearMiss(version=1)\n",
    "    X_train, y_train = nearmiss.fit_resample(X_train, y_train)\n",
    "\n",
    "# Padroniza os dados\n",
    "scaler = StandardScaler()\n",
    "X_train = scaler.fit_transform(X_train)\n",
    "X_test = scaler.transform(X_test)"
   ]
  },
  {
   "attachments": {},
   "cell_type": "markdown",
   "metadata": {},
   "source": [
    "### Treinamento dos modelos"
   ]
  },
  {
   "cell_type": "code",
   "execution_count": 5,
   "metadata": {},
   "outputs": [
    {
     "data": {
      "text/plain": [
       "' epochs = [5, 7, 10, 12, 15, 20, 25, 30, 35, 40]\\ndropouts = [0.0, 0.1, 0.2, 0.3, 0.4, 0.5, 0.6, 0.7]\\n\\nbest_config = None\\nbest_score = 0\\n\\nfor epoch in epochs:\\n    for dropout1 in dropouts:\\n        for dropout2 in dropouts:\\n            model = Sequential()\\n            model.add(Dropout(dropout1, input_dim=input_dim))\\n            model.add(Dense(32, activation=\"relu\"))\\n            model.add(Dropout(dropout2))\\n            model.add(Dense(1, activation=\"sigmoid\"))\\n\\n            model.compile(optimizer=RMSprop(learning_rate=0.001), loss=\"binary_crossentropy\", metrics=[\"accuracy\"])\\n            model.fit(X_train, y_train, epochs=epoch, batch_size=16, verbose=0)\\n\\n            y_train_pred = model.predict(X_train)\\n            y_train_pred = (y_train_pred > 0.5)\\n            y_pred = model.predict(X_valid)\\n            y_pred = (y_pred > 0.5)\\n\\n            if accuracy_score(y_valid, y_pred) > best_score:\\n                best_score = accuracy_score(y_valid, y_pred)\\n                best_config = (epoch, dropout1, dropout2)\\n\\n                print(f\"Dropout1: {dropout1}\")\\n                print(f\"Dropout2: {dropout2}\")\\n                print(f\"Accuracy: {accuracy_score(y_valid, y_pred)}\")\\n                print(f\"Train Accuracy: {accuracy_score(y_train, y_train_pred)}\")\\n                print() '"
      ]
     },
     "execution_count": 5,
     "metadata": {},
     "output_type": "execute_result"
    }
   ],
   "source": [
    "X_train, X_valid, y_train, y_valid = train_test_split(X_train, y_train, test_size=0.20)\n",
    "input_dim = X_train.shape[1]\n",
    "\n",
    "\"\"\" epochs = [5, 7, 10, 12, 15, 20, 25, 30, 35, 40]\n",
    "dropouts = [0.0, 0.1, 0.2, 0.3, 0.4, 0.5, 0.6, 0.7]\n",
    "\n",
    "best_config = None\n",
    "best_score = 0\n",
    "\n",
    "for epoch in epochs:\n",
    "    for dropout1 in dropouts:\n",
    "        for dropout2 in dropouts:\n",
    "            model = Sequential()\n",
    "            model.add(Dropout(dropout1, input_dim=input_dim))\n",
    "            model.add(Dense(32, activation=\"relu\"))\n",
    "            model.add(Dropout(dropout2))\n",
    "            model.add(Dense(1, activation=\"sigmoid\"))\n",
    "\n",
    "            model.compile(optimizer=RMSprop(learning_rate=0.001), loss=\"binary_crossentropy\", metrics=[\"accuracy\"])\n",
    "            model.fit(X_train, y_train, epochs=epoch, batch_size=16, verbose=0)\n",
    "\n",
    "            y_train_pred = model.predict(X_train)\n",
    "            y_train_pred = (y_train_pred > 0.5)\n",
    "            y_pred = model.predict(X_valid)\n",
    "            y_pred = (y_pred > 0.5)\n",
    "\n",
    "            if accuracy_score(y_valid, y_pred) > best_score:\n",
    "                best_score = accuracy_score(y_valid, y_pred)\n",
    "                best_config = (epoch, dropout1, dropout2)\n",
    "\n",
    "                print(f\"Dropout1: {dropout1}\")\n",
    "                print(f\"Dropout2: {dropout2}\")\n",
    "                print(f\"Accuracy: {accuracy_score(y_valid, y_pred)}\")\n",
    "                print(f\"Train Accuracy: {accuracy_score(y_train, y_train_pred)}\")\n",
    "                print() \"\"\""
   ]
  },
  {
   "cell_type": "code",
   "execution_count": 6,
   "metadata": {},
   "outputs": [
    {
     "data": {
      "text/plain": [
       "'\\n# Melhor configuração encontrada\\nmodel = Sequential()\\nmodel.add(Dropout(dropout1, input_dim=input_dim))\\nmodel.add(Dense(32, activation=\"relu\"))\\nmodel.add(Dropout(dropout2))\\nmodel.add(Dense(1, activation=\"sigmoid\"))\\n\\nEpochs = 7\\nBatchSize = 16\\nNeurons = 32\\nDropout1 = 0.7\\nDropout2 = 0.5\\n'"
      ]
     },
     "execution_count": 6,
     "metadata": {},
     "output_type": "execute_result"
    }
   ],
   "source": [
    "\"\"\"\n",
    "# Melhor configuração encontrada\n",
    "model = Sequential()\n",
    "model.add(Dropout(dropout1, input_dim=input_dim))\n",
    "model.add(Dense(32, activation=\"relu\"))\n",
    "model.add(Dropout(dropout2))\n",
    "model.add(Dense(1, activation=\"sigmoid\"))\n",
    "\n",
    "Epochs = 7\n",
    "BatchSize = 16\n",
    "Neurons = 32\n",
    "Dropout1 = 0.7\n",
    "Dropout2 = 0.5\n",
    "\"\"\""
   ]
  },
  {
   "cell_type": "code",
   "execution_count": 7,
   "metadata": {},
   "outputs": [
    {
     "data": {
      "image/png": "[encoded data removed]",
      "text/plain": [
       "<Figure size 640x480 with 1 Axes>"
      ]
     },
     "metadata": {},
     "output_type": "display_data"
    }
   ],
   "source": [
    "from keras.callbacks import EarlyStopping\n",
    "\n",
    "epochs = 2000\n",
    "batch_size = 16\n",
    "\n",
    "def create_mlp_model(shape):\n",
    "    model = Sequential()\n",
    "    model.add(Dense(25, activation=\"relu\", input_dim=shape))\n",
    "    model.add(Dense(50, activation=\"relu\"))\n",
    "    model.add(Dense(1, activation=\"sigmoid\"))\n",
    "    model.compile(loss=\"binary_crossentropy\", optimizer=RMSprop(learning_rate=0.0001), metrics=[\"accuracy\"])\n",
    "    return model\n",
    "\n",
    "callbacks = [\n",
    "    EarlyStopping(monitor=\"val_loss\", patience=5),\n",
    "]\n",
    "\n",
    "model = create_mlp_model(input_dim)\n",
    "history = model.fit(X_train, y_train, validation_data=(X_valid, y_valid),\n",
    "                    epochs=epochs, batch_size=batch_size,\n",
    "                    verbose=0)\n",
    "\n",
    "# Get training and test loss histories\n",
    "training_loss = history.history[\"accuracy\"]\n",
    "test_loss = history.history[\"val_accuracy\"]\n",
    "# Create count of the number of epochs\n",
    "epoch_count = range(1, len(training_loss) + 1)\n",
    "# Visualize loss history\n",
    "plt.plot(epoch_count, training_loss, \"r--\")\n",
    "plt.plot(epoch_count, test_loss, \"b-\")\n",
    "plt.legend([\"Training Accuracy\", \"Valid Accuracy\"])\n",
    "plt.xlabel(\"Epoch\")\n",
    "plt.ylabel(\"Accuracy\")\n",
    "plt.show()\n"
   ]
  },
  {
   "cell_type": "code",
   "execution_count": 8,
   "metadata": {},
   "outputs": [
    {
     "name": "stdout",
     "output_type": "stream",
     "text": [
      "Random Forest:\n",
      "Train Accuracy: 0.9881\n",
      "Valid Accuracy: 0.6364\n",
      "\n",
      "Gradient Boosting:\n",
      "Train Accuracy: 0.9881\n",
      "Valid Accuracy: 0.7273\n",
      "\n",
      "3/3 [==============================] - 0s 1ms/step\n",
      "1/1 [==============================] - 0s 22ms/step\n",
      "MLP:\n",
      "Train Accuracy: 0.8690\n",
      "Valid Accuracy: 0.6818\n",
      "\n"
     ]
    }
   ],
   "source": [
    "\n",
    "random_forest_best_param = {'bootstrap': True, 'class_weight': 'balanced', 'criterion': 'entropy',\n",
    "                            'max_depth': 20, 'max_features': 1.0, 'n_estimators': 20, 'oob_score': True}\n",
    "random_forest_model = RandomForestClassifier(**random_forest_best_param)\n",
    "\n",
    "gradient_boosting_best_param = {'learning_rate': 0.5, 'max_depth': 150, 'max_features': 1.0,\n",
    "                                'n_estimators': 50, 'subsample': 0.9}\n",
    "gradient_boosting_model = GradientBoostingClassifier(**gradient_boosting_best_param)\n",
    "\n",
    "mlp_model = create_mlp_model(X_train.shape[1])\n",
    "\n",
    "models = [random_forest_model, gradient_boosting_model]\n",
    "titles = ['Random Forest', 'Gradient Boosting']\n",
    "\n",
    "for model, title in zip(models, titles):\n",
    "    model.fit(X_train, y_train)\n",
    "    y_train_pred = model.predict(X_train)\n",
    "    y_valid_pred = model.predict(X_valid)\n",
    "\n",
    "    train_accuracy = accuracy_score(y_train, y_train_pred)\n",
    "    valid_accuracy = accuracy_score(y_valid, y_valid_pred)\n",
    "\n",
    "    print(\n",
    "        f\"{title}:\\n\"\n",
    "        f\"Train Accuracy: {train_accuracy:.4f}\\n\"\n",
    "        f\"Valid Accuracy: {valid_accuracy:.4f}\\n\"\n",
    "    )\n",
    "\n",
    "mlp_model.fit(X_train, y_train, epochs=400, batch_size=batch_size, verbose=0)\n",
    "\n",
    "y_train_pred = mlp_model.predict(X_train)\n",
    "y_valid_pred = mlp_model.predict(X_valid)\n",
    "y_train_pred = (y_train_pred > 0.5).astype(int)\n",
    "y_valid_pred = (y_valid_pred > 0.5).astype(int)\n",
    "\n",
    "\n",
    "train_accuracy = accuracy_score(y_train, y_train_pred)\n",
    "valid_accuracy = accuracy_score(y_valid, y_valid_pred)\n",
    "\n",
    "print(\n",
    "    f\"MLP:\\n\"\n",
    "    f\"Train Accuracy: {train_accuracy:.4f}\\n\"\n",
    "    f\"Valid Accuracy: {valid_accuracy:.4f}\\n\"\n",
    ")"
   ]
  },
  {
   "cell_type": "code",
   "execution_count": 9,
   "metadata": {},
   "outputs": [
    {
     "data": {
      "text/plain": [
       "' # Função para criar o modelo do Keras\\ndef create_mlp_model(shape):\\n    model = Sequential()\\n    model.add(Dense(25, input_dim=shape, activation=\"relu\"))\\n    model.add(Dense(50, activation=\"relu\"))\\n    model.add(Dense(1, activation=\"sigmoid\"))\\n    model.compile(loss=\"binary_crossentropy\", optimizer=\"rmsprop\", metrics=[\"accuracy\"])\\n    return model\\n\\n\\n# Models\\nrandom_forest_best_param = {\\'bootstrap\\': True, \\'class_weight\\': \\'balanced\\', \\'criterion\\': \\'entropy\\',\\n                            \\'max_depth\\': 20, \\'max_features\\': 1.0, \\'n_estimators\\': 20, \\'oob_score\\': True}\\nrandom_forest_model = RandomForestClassifier(**random_forest_best_param)\\n\\nboosted_tree_best_param = {\\'learning_rate\\': 0.5, \\'max_depth\\': 150, \\'max_features\\': 1.0,\\n                                \\'n_estimators\\': 50, \\'subsample\\': 0.9}\\nboosted_tree_model = GradientBoostingClassifier(**boosted_tree_best_param)\\n\\nmlp_model = create_mlp_model(X_train.shape[1])\\n\\nthreshold = 0.5\\ntitles = [\"Random Forest\", \"Boosted Tree\", \"MLP\"]\\nmodels = [random_forest_model, boosted_tree_model, mlp_model]\\nscores = {}\\n\\nfor model, title in zip(models, titles):\\n    predict = []\\n    if title == \"MLP\":\\n        model.fit(X_train, y_train, epochs=100, batch_size=1, verbose=0)\\n        predict = model.predict(X_test)\\n        predict = (predict > threshold).astype(int) # Transformar as saídas em rótulos\\n    else:\\n        model.fit(X_train, y_train)\\n        predict = model.predict(X_test)\\n\\n    scores[title] = {\"accuracy_score\": accuracy_score(y_test, predict) * 100}\\n    scores[title][\"precision_score\"] = precision_score(y_test, predict) * 100\\n    scores[title][\"recall_score\"] = recall_score(y_test, predict) * 100\\n    scores[title][\"f1_score\"] = f1_score(y_test, predict) * 100 '"
      ]
     },
     "execution_count": 9,
     "metadata": {},
     "output_type": "execute_result"
    }
   ],
   "source": [
    "\"\"\" # Função para criar o modelo do Keras\n",
    "def create_mlp_model(shape):\n",
    "    model = Sequential()\n",
    "    model.add(Dense(25, input_dim=shape, activation=\"relu\"))\n",
    "    model.add(Dense(50, activation=\"relu\"))\n",
    "    model.add(Dense(1, activation=\"sigmoid\"))\n",
    "    model.compile(loss=\"binary_crossentropy\", optimizer=\"rmsprop\", metrics=[\"accuracy\"])\n",
    "    return model\n",
    "\n",
    "\n",
    "# Models\n",
    "random_forest_best_param = {'bootstrap': True, 'class_weight': 'balanced', 'criterion': 'entropy',\n",
    "                            'max_depth': 20, 'max_features': 1.0, 'n_estimators': 20, 'oob_score': True}\n",
    "random_forest_model = RandomForestClassifier(**random_forest_best_param)\n",
    "\n",
    "boosted_tree_best_param = {'learning_rate': 0.5, 'max_depth': 150, 'max_features': 1.0,\n",
    "                                'n_estimators': 50, 'subsample': 0.9}\n",
    "boosted_tree_model = GradientBoostingClassifier(**boosted_tree_best_param)\n",
    "\n",
    "mlp_model = create_mlp_model(X_train.shape[1])\n",
    "\n",
    "threshold = 0.5\n",
    "titles = [\"Random Forest\", \"Boosted Tree\", \"MLP\"]\n",
    "models = [random_forest_model, boosted_tree_model, mlp_model]\n",
    "scores = {}\n",
    "\n",
    "for model, title in zip(models, titles):\n",
    "    predict = []\n",
    "    if title == \"MLP\":\n",
    "        model.fit(X_train, y_train, epochs=100, batch_size=1, verbose=0)\n",
    "        predict = model.predict(X_test)\n",
    "        predict = (predict > threshold).astype(int) # Transformar as saídas em rótulos\n",
    "    else:\n",
    "        model.fit(X_train, y_train)\n",
    "        predict = model.predict(X_test)\n",
    "\n",
    "    scores[title] = {\"accuracy_score\": accuracy_score(y_test, predict) * 100}\n",
    "    scores[title][\"precision_score\"] = precision_score(y_test, predict) * 100\n",
    "    scores[title][\"recall_score\"] = recall_score(y_test, predict) * 100\n",
    "    scores[title][\"f1_score\"] = f1_score(y_test, predict) * 100 \"\"\""
   ]
  },
  {
   "attachments": {},
   "cell_type": "markdown",
   "metadata": {},
   "source": [
    "### Avaliação dos modelos"
   ]
  },
  {
   "cell_type": "code",
   "execution_count": 10,
   "metadata": {},
   "outputs": [],
   "source": [
    "#scores_df = pd.DataFrame(scores).T\n",
    "#scores_df"
   ]
  },
  {
   "cell_type": "code",
   "execution_count": 11,
   "metadata": {},
   "outputs": [
    {
     "data": {
      "text/plain": [
       "\" result = [[66.66, 66.66, 66.66, 58.33], [50.00, 50.00, 54.16, 50.00], []]\\n\\ncolumns=['Random Forest', 'Boosted Tree', 'MLP']\\ndf = pd.DataFrame(result, columns=columns)\\n\\ndef mean_without_extremes(df):\\n    new_df = pd.DataFrame(columns=df.columns)\\n    for col in df.columns:\\n        df.sort_values(by=col, inplace=True)\\n        df[col] = df[col].drop(df[col].index[[0, -1]])\\n        new_df[col] = [df[col].mean()]\\n    return new_df\\n\\ndf = mean_without_extremes(df)\\ndf \""
      ]
     },
     "execution_count": 11,
     "metadata": {},
     "output_type": "execute_result"
    }
   ],
   "source": [
    "\"\"\" result = [[66.66, 66.66, 66.66, 58.33], [50.00, 50.00, 54.16, 50.00], []]\n",
    "\n",
    "columns=['Random Forest', 'Boosted Tree', 'MLP']\n",
    "df = pd.DataFrame(result, columns=columns)\n",
    "\n",
    "def mean_without_extremes(df):\n",
    "    new_df = pd.DataFrame(columns=df.columns)\n",
    "    for col in df.columns:\n",
    "        df.sort_values(by=col, inplace=True)\n",
    "        df[col] = df[col].drop(df[col].index[[0, -1]])\n",
    "        new_df[col] = [df[col].mean()]\n",
    "    return new_df\n",
    "\n",
    "df = mean_without_extremes(df)\n",
    "df \"\"\""
   ]
  }
 ],
 "metadata": {
  "kernelspec": {
   "display_name": "radiomica",
   "language": "python",
   "name": "python3"
  },
  "language_info": {
   "codemirror_mode": {
    "name": "ipython",
    "version": 3
   },
   "file_extension": ".py",
   "mimetype": "text/x-python",
   "name": "python",
   "nbconvert_exporter": "python",
   "pygments_lexer": "ipython3",
   "version": "3.10.13"
  },
  "orig_nbformat": 4
 },
 "nbformat": 4,
 "nbformat_minor": 2
}
