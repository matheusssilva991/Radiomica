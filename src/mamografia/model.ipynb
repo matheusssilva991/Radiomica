{
 "cells": [
  {
   "cell_type": "code",
   "execution_count": 1,
   "metadata": {},
   "outputs": [],
   "source": [
    "import os\n",
    "import sys\n",
    "\n",
    "import numpy as np\n",
    "import pandas as pd\n",
    "from imblearn.over_sampling import SMOTE\n",
    "from imblearn.under_sampling import NearMiss\n",
    "from keras.layers import Dense, Dropout\n",
    "from keras.models import Sequential\n",
    "from sklearn import svm\n",
    "from sklearn.ensemble import GradientBoostingClassifier, RandomForestClassifier\n",
    "from sklearn.metrics import accuracy_score\n",
    "from sklearn.model_selection import KFold, cross_val_score, train_test_split\n",
    "from sklearn.neighbors import KNeighborsClassifier\n",
    "from sklearn.preprocessing import StandardScaler\n",
    "\n",
    "sys.path.insert(0, \"\\\\\".join(os.path.abspath(os.curdir).split(\"\\\\\")[:-2:]))\n",
    "\n",
    "from src.utils.utils import *\n",
    "\n",
    "# from keras.wrappers.scikit_learn import KerasClassifier\n",
    "# from sklearn.model_selection import GridSearchCV, RandomizedSearchCV"
   ]
  },
  {
   "cell_type": "code",
   "execution_count": 2,
   "metadata": {},
   "outputs": [
    {
     "data": {
      "image/png": "[encoded data removed]",
      "text/plain": [
       "<Figure size 640x480 with 1 Axes>"
      ]
     },
     "metadata": {},
     "output_type": "display_data"
    }
   ],
   "source": [
    "import matplotlib.pyplot as plt\n",
    "\n",
    "metadata = load_json(\"extracted_metadata_INBREAST\", \"../../outputs/mamografia/extracted_metadata\")\n",
    "cropped_path = metadata[3]['metadata_csv']['cropped_image_path']\n",
    "img = load_inbreast_mask(cropped_path)\n",
    "\n",
    "fig = plt.figure()\n",
    "plt.imshow(img, cmap='gray')\n",
    "plt.show()"
   ]
  },
  {
   "attachments": {},
   "cell_type": "markdown",
   "metadata": {},
   "source": [
    "# Modelos preditivo"
   ]
  },
  {
   "cell_type": "markdown",
   "metadata": {},
   "source": [
    "## Configuração"
   ]
  },
  {
   "cell_type": "code",
   "execution_count": 3,
   "metadata": {},
   "outputs": [],
   "source": [
    "SELECTED_DATABASE = \"MIAS\""
   ]
  },
  {
   "attachments": {},
   "cell_type": "markdown",
   "metadata": {},
   "source": [
    "## Importação e análise dos conjuntos de dados"
   ]
  },
  {
   "attachments": {},
   "cell_type": "markdown",
   "metadata": {},
   "source": [
    "Iniciamos importando o conjunto de dados e realizamos a visualização das 5 primeiras linhas para verificar a estrutura dos dados."
   ]
  },
  {
   "cell_type": "code",
   "execution_count": 4,
   "metadata": {},
   "outputs": [
    {
     "data": {
      "text/html": [
       "<div>\n",
       "<style scoped>\n",
       "    .dataframe tbody tr th:only-of-type {\n",
       "        vertical-align: middle;\n",
       "    }\n",
       "\n",
       "    .dataframe tbody tr th {\n",
       "        vertical-align: top;\n",
       "    }\n",
       "\n",
       "    .dataframe thead th {\n",
       "        text-align: right;\n",
       "    }\n",
       "</style>\n",
       "<table border=\"1\" class=\"dataframe\">\n",
       "  <thead>\n",
       "    <tr style=\"text-align: right;\">\n",
       "      <th></th>\n",
       "      <th>dissimilarity_ang_0_dist_1</th>\n",
       "      <th>dissimilarity_ang_45_dist_1</th>\n",
       "      <th>dissimilarity_ang_90_dist_1</th>\n",
       "      <th>dissimilarity_ang_135_dist_1</th>\n",
       "      <th>dissimilarity_ang_0_dist_3</th>\n",
       "      <th>dissimilarity_ang_45_dist_3</th>\n",
       "      <th>dissimilarity_ang_90_dist_3</th>\n",
       "      <th>dissimilarity_ang_135_dist_3</th>\n",
       "      <th>correlation_ang_0_dist_1</th>\n",
       "      <th>correlation_ang_45_dist_1</th>\n",
       "      <th>...</th>\n",
       "      <th>energy_ang_0_dist_1</th>\n",
       "      <th>energy_ang_45_dist_1</th>\n",
       "      <th>energy_ang_90_dist_1</th>\n",
       "      <th>energy_ang_135_dist_1</th>\n",
       "      <th>energy_ang_0_dist_3</th>\n",
       "      <th>energy_ang_45_dist_3</th>\n",
       "      <th>energy_ang_90_dist_3</th>\n",
       "      <th>energy_ang_135_dist_3</th>\n",
       "      <th>pathology</th>\n",
       "      <th>image_path</th>\n",
       "    </tr>\n",
       "  </thead>\n",
       "  <tbody>\n",
       "    <tr>\n",
       "      <th>0</th>\n",
       "      <td>1.770133</td>\n",
       "      <td>2.286580</td>\n",
       "      <td>1.691272</td>\n",
       "      <td>1.960602</td>\n",
       "      <td>3.421132</td>\n",
       "      <td>3.492933</td>\n",
       "      <td>3.177814</td>\n",
       "      <td>2.834678</td>\n",
       "      <td>0.999292</td>\n",
       "      <td>0.998775</td>\n",
       "      <td>...</td>\n",
       "      <td>0.043258</td>\n",
       "      <td>0.041618</td>\n",
       "      <td>0.044790</td>\n",
       "      <td>0.042723</td>\n",
       "      <td>0.038038</td>\n",
       "      <td>0.038508</td>\n",
       "      <td>0.040929</td>\n",
       "      <td>0.040071</td>\n",
       "      <td>Benign</td>\n",
       "      <td>D:/mathe/Documents/BancoDados_IC/Mamografia/MI...</td>\n",
       "    </tr>\n",
       "    <tr>\n",
       "      <th>1</th>\n",
       "      <td>1.246007</td>\n",
       "      <td>1.331877</td>\n",
       "      <td>0.921506</td>\n",
       "      <td>1.352017</td>\n",
       "      <td>2.226141</td>\n",
       "      <td>1.817961</td>\n",
       "      <td>1.467794</td>\n",
       "      <td>1.889652</td>\n",
       "      <td>0.995981</td>\n",
       "      <td>0.994838</td>\n",
       "      <td>...</td>\n",
       "      <td>0.062490</td>\n",
       "      <td>0.062114</td>\n",
       "      <td>0.075834</td>\n",
       "      <td>0.061525</td>\n",
       "      <td>0.050647</td>\n",
       "      <td>0.055793</td>\n",
       "      <td>0.064539</td>\n",
       "      <td>0.054605</td>\n",
       "      <td>Benign</td>\n",
       "      <td>D:/mathe/Documents/BancoDados_IC/Mamografia/MI...</td>\n",
       "    </tr>\n",
       "    <tr>\n",
       "      <th>2</th>\n",
       "      <td>1.753107</td>\n",
       "      <td>2.108589</td>\n",
       "      <td>1.755367</td>\n",
       "      <td>2.075266</td>\n",
       "      <td>3.255263</td>\n",
       "      <td>2.887634</td>\n",
       "      <td>2.528947</td>\n",
       "      <td>2.804400</td>\n",
       "      <td>0.989984</td>\n",
       "      <td>0.985712</td>\n",
       "      <td>...</td>\n",
       "      <td>0.053241</td>\n",
       "      <td>0.048751</td>\n",
       "      <td>0.052407</td>\n",
       "      <td>0.049765</td>\n",
       "      <td>0.042331</td>\n",
       "      <td>0.043433</td>\n",
       "      <td>0.044936</td>\n",
       "      <td>0.044625</td>\n",
       "      <td>Benign</td>\n",
       "      <td>D:/mathe/Documents/BancoDados_IC/Mamografia/MI...</td>\n",
       "    </tr>\n",
       "    <tr>\n",
       "      <th>3</th>\n",
       "      <td>1.753107</td>\n",
       "      <td>2.108589</td>\n",
       "      <td>1.755367</td>\n",
       "      <td>2.075266</td>\n",
       "      <td>3.255263</td>\n",
       "      <td>2.887634</td>\n",
       "      <td>2.528947</td>\n",
       "      <td>2.804400</td>\n",
       "      <td>0.989984</td>\n",
       "      <td>0.985712</td>\n",
       "      <td>...</td>\n",
       "      <td>0.053241</td>\n",
       "      <td>0.048751</td>\n",
       "      <td>0.052407</td>\n",
       "      <td>0.049765</td>\n",
       "      <td>0.042331</td>\n",
       "      <td>0.043433</td>\n",
       "      <td>0.044936</td>\n",
       "      <td>0.044625</td>\n",
       "      <td>Benign</td>\n",
       "      <td>D:/mathe/Documents/BancoDados_IC/Mamografia/MI...</td>\n",
       "    </tr>\n",
       "    <tr>\n",
       "      <th>4</th>\n",
       "      <td>2.299767</td>\n",
       "      <td>2.577988</td>\n",
       "      <td>1.912354</td>\n",
       "      <td>2.634793</td>\n",
       "      <td>4.543050</td>\n",
       "      <td>3.711182</td>\n",
       "      <td>3.366763</td>\n",
       "      <td>4.018066</td>\n",
       "      <td>0.986102</td>\n",
       "      <td>0.982539</td>\n",
       "      <td>...</td>\n",
       "      <td>0.042799</td>\n",
       "      <td>0.040907</td>\n",
       "      <td>0.046075</td>\n",
       "      <td>0.040068</td>\n",
       "      <td>0.032598</td>\n",
       "      <td>0.035548</td>\n",
       "      <td>0.036518</td>\n",
       "      <td>0.034015</td>\n",
       "      <td>Benign</td>\n",
       "      <td>D:/mathe/Documents/BancoDados_IC/Mamografia/MI...</td>\n",
       "    </tr>\n",
       "  </tbody>\n",
       "</table>\n",
       "<p>5 rows × 50 columns</p>\n",
       "</div>"
      ],
      "text/plain": [
       "   dissimilarity_ang_0_dist_1  dissimilarity_ang_45_dist_1  \\\n",
       "0                    1.770133                     2.286580   \n",
       "1                    1.246007                     1.331877   \n",
       "2                    1.753107                     2.108589   \n",
       "3                    1.753107                     2.108589   \n",
       "4                    2.299767                     2.577988   \n",
       "\n",
       "   dissimilarity_ang_90_dist_1  dissimilarity_ang_135_dist_1  \\\n",
       "0                     1.691272                      1.960602   \n",
       "1                     0.921506                      1.352017   \n",
       "2                     1.755367                      2.075266   \n",
       "3                     1.755367                      2.075266   \n",
       "4                     1.912354                      2.634793   \n",
       "\n",
       "   dissimilarity_ang_0_dist_3  dissimilarity_ang_45_dist_3  \\\n",
       "0                    3.421132                     3.492933   \n",
       "1                    2.226141                     1.817961   \n",
       "2                    3.255263                     2.887634   \n",
       "3                    3.255263                     2.887634   \n",
       "4                    4.543050                     3.711182   \n",
       "\n",
       "   dissimilarity_ang_90_dist_3  dissimilarity_ang_135_dist_3  \\\n",
       "0                     3.177814                      2.834678   \n",
       "1                     1.467794                      1.889652   \n",
       "2                     2.528947                      2.804400   \n",
       "3                     2.528947                      2.804400   \n",
       "4                     3.366763                      4.018066   \n",
       "\n",
       "   correlation_ang_0_dist_1  correlation_ang_45_dist_1  ...  \\\n",
       "0                  0.999292                   0.998775  ...   \n",
       "1                  0.995981                   0.994838  ...   \n",
       "2                  0.989984                   0.985712  ...   \n",
       "3                  0.989984                   0.985712  ...   \n",
       "4                  0.986102                   0.982539  ...   \n",
       "\n",
       "   energy_ang_0_dist_1  energy_ang_45_dist_1  energy_ang_90_dist_1  \\\n",
       "0             0.043258              0.041618              0.044790   \n",
       "1             0.062490              0.062114              0.075834   \n",
       "2             0.053241              0.048751              0.052407   \n",
       "3             0.053241              0.048751              0.052407   \n",
       "4             0.042799              0.040907              0.046075   \n",
       "\n",
       "   energy_ang_135_dist_1  energy_ang_0_dist_3  energy_ang_45_dist_3  \\\n",
       "0               0.042723             0.038038              0.038508   \n",
       "1               0.061525             0.050647              0.055793   \n",
       "2               0.049765             0.042331              0.043433   \n",
       "3               0.049765             0.042331              0.043433   \n",
       "4               0.040068             0.032598              0.035548   \n",
       "\n",
       "   energy_ang_90_dist_3  energy_ang_135_dist_3  pathology  \\\n",
       "0              0.040929               0.040071     Benign   \n",
       "1              0.064539               0.054605     Benign   \n",
       "2              0.044936               0.044625     Benign   \n",
       "3              0.044936               0.044625     Benign   \n",
       "4              0.036518               0.034015     Benign   \n",
       "\n",
       "                                          image_path  \n",
       "0  D:/mathe/Documents/BancoDados_IC/Mamografia/MI...  \n",
       "1  D:/mathe/Documents/BancoDados_IC/Mamografia/MI...  \n",
       "2  D:/mathe/Documents/BancoDados_IC/Mamografia/MI...  \n",
       "3  D:/mathe/Documents/BancoDados_IC/Mamografia/MI...  \n",
       "4  D:/mathe/Documents/BancoDados_IC/Mamografia/MI...  \n",
       "\n",
       "[5 rows x 50 columns]"
      ]
     },
     "execution_count": 4,
     "metadata": {},
     "output_type": "execute_result"
    }
   ],
   "source": [
    "breast_cancer_df = None\n",
    "\n",
    "match SELECTED_DATABASE:\n",
    "    case \"CMMD\":\n",
    "        breast_cancer_df = pd.read_csv(\"../../outputs/mamografia/matriz_glcm_features/matriz_features_glcm_CMMD.csv\")\n",
    "    case \"CBIS-DDSM\":\n",
    "        breast_cancer_df = pd.read_csv(\"../../outputs/mamografia/matriz_glcm_features/matriz_features_glcm_CBIS-DDSM.csv\")\n",
    "    case \"INBREAST\":\n",
    "        breast_cancer_df = pd.read_csv(\"../../outputs/mamografia/matriz_glcm_features/matriz_features_glcm_INBREAST.csv\")\n",
    "    case \"MIAS\":\n",
    "        breast_cancer_df = pd.read_csv(\"../../outputs/mamografia/matriz_glcm_features/matriz_features_glcm_MIAS.csv\")\n",
    "    case _:\n",
    "        raise Exception(\"Database not found!\")\n",
    "    \n",
    "breast_cancer_df.head()"
   ]
  },
  {
   "attachments": {},
   "cell_type": "markdown",
   "metadata": {},
   "source": [
    "Como último passo, verificamos a distribuição das classes. "
   ]
  },
  {
   "cell_type": "code",
   "execution_count": 5,
   "metadata": {},
   "outputs": [
    {
     "data": {
      "text/plain": [
       "Benign       0.571429\n",
       "Malignant    0.428571\n",
       "Name: pathology, dtype: float64"
      ]
     },
     "execution_count": 5,
     "metadata": {},
     "output_type": "execute_result"
    }
   ],
   "source": [
    "breast_cancer_df[\"pathology\"].value_counts(normalize=True)"
   ]
  },
  {
   "attachments": {},
   "cell_type": "markdown",
   "metadata": {},
   "source": [
    "## Pré-Processamento"
   ]
  },
  {
   "cell_type": "code",
   "execution_count": 6,
   "metadata": {},
   "outputs": [
    {
     "name": "stdout",
     "output_type": "stream",
     "text": [
      "y_train:  0    0.536842\n",
      "1    0.463158\n",
      "Name: pathology, dtype: float64\n",
      "y_test:  1    0.585366\n",
      "0    0.414634\n",
      "Name: pathology, dtype: float64\n"
     ]
    }
   ],
   "source": [
    "# Elimina os dados com classe BENIGN_WITHOUT_CALLBACK ou NORMAL\n",
    "if SELECTED_DATABASE == \"CBIS-DDSM\":\n",
    "    breast_cancer_df = breast_cancer_df[breast_cancer_df[\"pathology\"] != \"BENIGN_WITHOUT_CALLBACK\"]\n",
    "elif SELECTED_DATABASE == \"INBREAST\":\n",
    "    breast_cancer_df = breast_cancer_df[breast_cancer_df[\"pathology\"] != \"NORMAL\"]\n",
    "\n",
    "# Separa em features e labels\n",
    "X, y = (breast_cancer_df.drop([\"pathology\", \"image_path\"], axis=1), breast_cancer_df[\"pathology\"])\n",
    "\n",
    "# Balanceamento de classes\n",
    "if SELECTED_DATABASE == \"CMMD\":\n",
    "    nm = NearMiss(version=1)\n",
    "    X, y = nm.fit_resample(X, y)\n",
    "elif SELECTED_DATABASE == \"INBREAST\" or SELECTED_DATABASE == \"MIAS\":\n",
    "    smote = SMOTE()\n",
    "    X, y = smote.fit_resample(X, y)\n",
    "\n",
    "# Separa os dados em treino e teste\n",
    "X_train, X_test, y_train, y_test = train_test_split(X, y, test_size=0.30)\n",
    "\n",
    "\"\"\" # Salva e retira image_path\n",
    "image_paths_train = X_train[\"image_path\"]\n",
    "image_paths_test = X_test[\"image_path\"]\n",
    "X_train = X_train.drop(\"image_path\", axis=1)\n",
    "X_test = X_test.drop(\"image_path\", axis=1) \"\"\"\n",
    "\n",
    "# Padroniza os dados\n",
    "columns = X_train.columns\n",
    "scaler = StandardScaler()\n",
    "X_train = pd.DataFrame(scaler.fit_transform(X_train), columns=columns)\n",
    "X_test = pd.DataFrame(scaler.transform(X_test), columns=columns)\n",
    "\n",
    "# Tratamos os rótulos categóricos\n",
    "if SELECTED_DATABASE in [\"CMMD\", \"MIAS\"]:\n",
    "    y_train = y_train.map({\"Benign\": 0, \"Malignant\": 1})\n",
    "    y_test = y_test.map({\"Benign\": 0, \"Malignant\": 1})\n",
    "elif SELECTED_DATABASE in ['CBIS-DDSM',  'INBREAST']:\n",
    "    y_train = y_train.map({\"BENIGN\": 0, \"MALIGNANT\": 1})\n",
    "    y_test = y_test.map({\"BENIGN\": 0, \"MALIGNANT\": 1})\n",
    "    \n",
    "print(\"y_train: \", y_train.value_counts(normalize=True))\n",
    "print(\"y_test: \", y_test.value_counts(normalize=True))"
   ]
  },
  {
   "attachments": {},
   "cell_type": "markdown",
   "metadata": {},
   "source": [
    "## Treinamento dos modelos"
   ]
  },
  {
   "cell_type": "markdown",
   "metadata": {},
   "source": [
    "### Variáveis"
   ]
  },
  {
   "cell_type": "code",
   "execution_count": 7,
   "metadata": {},
   "outputs": [],
   "source": [
    "angles = [\"0\", \"45\", \"90\", \"135\"]\n",
    "distances = ['1', '3']\n",
    "threshold = 0.5 # Definir o limiar\n",
    "kf = KFold(n_splits=5)"
   ]
  },
  {
   "cell_type": "markdown",
   "metadata": {},
   "source": [
    "### Funções"
   ]
  },
  {
   "cell_type": "code",
   "execution_count": 8,
   "metadata": {},
   "outputs": [],
   "source": [
    "# Função para criar o modelo do Keras\n",
    "def create_mlp_model(shape):\n",
    "    model = Sequential()\n",
    "    model.add(Dense(50, input_dim=shape, activation=\"relu\"))\n",
    "    model.add(Dropout(0.2))\n",
    "    model.add(Dense(50, activation=\"relu\"))\n",
    "    model.add(Dropout(0.2))\n",
    "    model.add(Dense(1, activation=\"sigmoid\"))\n",
    "    model.compile(loss=\"binary_crossentropy\", optimizer=\"rmsprop\", metrics=[\"accuracy\"])\n",
    "    return model\n",
    "\n",
    "\n",
    "def evaluate_mlp_model(model, data, target, n_splits, n_epochs, batch_size, threshold=0.5):\n",
    "    kf = KFold(n_splits = n_splits)\n",
    "    \n",
    "    acc = []\n",
    "    for train_index, test_index in kf.split(data, target): \n",
    "        model.fit(data.iloc[train_index], target.iloc[train_index], \n",
    "                  epochs=n_epochs, batch_size=batch_size)\n",
    "        \n",
    "        y_pred = model.predict(data.iloc[test_index])\n",
    "        \n",
    "        # Definir o limiar\n",
    "        threshold = threshold\n",
    "\n",
    "        # Transformar as saídas em rótulos\n",
    "        y_pred = (y_pred > threshold).astype(int)\n",
    "        \n",
    "        acc.append(accuracy_score(y_pred, target.iloc[test_index]))\n",
    "\n",
    "    return (np.array(acc)).mean() * 100"
   ]
  },
  {
   "attachments": {},
   "cell_type": "markdown",
   "metadata": {},
   "source": [
    "### KNeighborsClassifier"
   ]
  },
  {
   "cell_type": "code",
   "execution_count": 9,
   "metadata": {},
   "outputs": [
    {
     "data": {
      "text/plain": [
       "' for distance in distances:\\n    for angle in angles:\\n        columns = [column for column in X_test.columns if f\"ang_{angle}_dist_{distance}\" in column]\\n        X_train_filtered = X_train.loc[::, columns]\\n        X_test_filtered = X_test.loc[::, columns]\\n\\n        knn_model = KNeighborsClassifier(n_neighbors=5, weights=\"distance\", metric=\"euclidean\", algorithm=\"auto\")\\n        # knn_model.fit(X_train_filtered, y_train)\\n        # predict = knn_model.predict(X_test_filtered)\\n        # accuracy = accuracy_score(y_test, predict) * 100\\n        accuracy = (cross_val_score(knn_model, X_test_filtered, y_test, cv=kf).mean()) * 100\\n\\n        #predicts[\"KNeighborsClassifier\"][f\"ang_{angle}_dist_{distance}\"] = predict\\n        scores[\"KNeighborsClassifier\"][f\"ang_{angle}_dist_{distance}\"] = {\"accuracy_score\": accuracy} '"
      ]
     },
     "execution_count": 9,
     "metadata": {},
     "output_type": "execute_result"
    }
   ],
   "source": [
    "# Treina com todos os angulos e distancias\n",
    "knn_model = KNeighborsClassifier(n_neighbors=5, weights=\"distance\", metric=\"euclidean\", algorithm=\"auto\")\n",
    "\n",
    "knn_model.fit(X_train, y_train)\n",
    "predict = knn_model.predict(X_test)\n",
    "accuracy = accuracy_score(y_test, predict) * 100\n",
    "#accuracy = (cross_val_score(knn_model, X_test, y_test, cv=kf).mean()) * 100\n",
    "\n",
    "# predicts = {\"KNeighborsClassifier\": {\"all\": predict}}\n",
    "scores = {\"KNeighborsClassifier\": {\"all\": {\"accuracy_score\": accuracy}}}\n",
    "\n",
    "\"\"\" for distance in distances:\n",
    "    for angle in angles:\n",
    "        columns = [column for column in X_test.columns if f\"ang_{angle}_dist_{distance}\" in column]\n",
    "        X_train_filtered = X_train.loc[::, columns]\n",
    "        X_test_filtered = X_test.loc[::, columns]\n",
    "\n",
    "        knn_model = KNeighborsClassifier(n_neighbors=5, weights=\"distance\", metric=\"euclidean\", algorithm=\"auto\")\n",
    "        # knn_model.fit(X_train_filtered, y_train)\n",
    "        # predict = knn_model.predict(X_test_filtered)\n",
    "        # accuracy = accuracy_score(y_test, predict) * 100\n",
    "        accuracy = (cross_val_score(knn_model, X_test_filtered, y_test, cv=kf).mean()) * 100\n",
    "\n",
    "        #predicts[\"KNeighborsClassifier\"][f\"ang_{angle}_dist_{distance}\"] = predict\n",
    "        scores[\"KNeighborsClassifier\"][f\"ang_{angle}_dist_{distance}\"] = {\"accuracy_score\": accuracy} \"\"\""
   ]
  },
  {
   "attachments": {},
   "cell_type": "markdown",
   "metadata": {},
   "source": [
    "### Random Forest Classifier"
   ]
  },
  {
   "cell_type": "code",
   "execution_count": 10,
   "metadata": {},
   "outputs": [
    {
     "data": {
      "text/plain": [
       "' for distance in distances:\\n    for angle in angles:\\n        columns = [column for column in X_test.columns if f\"ang_{angle}_dist_{distance}\" in column]\\n        X_train_filtered = X_train.loc[::, columns]\\n        X_test_filtered = X_test.loc[::, columns]\\n        \\n        random_forest_model = RandomForestClassifier(n_estimators=200, max_depth=10, criterion=\"gini\", \\n                                                     min_samples_leaf=3, min_samples_split=2)\\n        \\n        # random_forest_model.fit(X_train_filtered, y_train)\\n        # predict = random_forest_model.predict(X_test_filtered)\\n        # accuracy = accuracy_score(y_test, predict) * 100\\n        accuracy = (cross_val_score(random_forest_model, X_test_filtered, y_test, cv=kf).mean()) * 100\\n\\n        # predicts[\"RandomForestClassifier\"][f\"ang_{angle}_dist_{distance}\"] = predict\\n        scores[\"RandomForestClassifier\"][f\"ang_{angle}_dist_{distance}\"] = {\"accuracy_score\": accuracy} '"
      ]
     },
     "execution_count": 10,
     "metadata": {},
     "output_type": "execute_result"
    }
   ],
   "source": [
    "# Treina com todos os angulos e distancias\n",
    "random_forest_model = RandomForestClassifier(n_estimators=200, max_depth=10, criterion=\"gini\", \n",
    "                                             min_samples_leaf=3, min_samples_split=2)\n",
    "random_forest_model.fit(X_train, y_train)\n",
    "predict = random_forest_model.predict(X_test)\n",
    "accuracy = accuracy_score(y_test, predict) * 100\n",
    "#accuracy = (cross_val_score(random_forest_model, X_test, y_test, cv=kf).mean()) * 100\n",
    "\n",
    "# predicts[\"RandomForestClassifier\"] = {\"all\": predict}\n",
    "scores[\"RandomForestClassifier\"] = {\"all\": {\"accuracy_score\": accuracy}}\n",
    "\n",
    "\"\"\" for distance in distances:\n",
    "    for angle in angles:\n",
    "        columns = [column for column in X_test.columns if f\"ang_{angle}_dist_{distance}\" in column]\n",
    "        X_train_filtered = X_train.loc[::, columns]\n",
    "        X_test_filtered = X_test.loc[::, columns]\n",
    "        \n",
    "        random_forest_model = RandomForestClassifier(n_estimators=200, max_depth=10, criterion=\"gini\", \n",
    "                                                     min_samples_leaf=3, min_samples_split=2)\n",
    "        \n",
    "        # random_forest_model.fit(X_train_filtered, y_train)\n",
    "        # predict = random_forest_model.predict(X_test_filtered)\n",
    "        # accuracy = accuracy_score(y_test, predict) * 100\n",
    "        accuracy = (cross_val_score(random_forest_model, X_test_filtered, y_test, cv=kf).mean()) * 100\n",
    "\n",
    "        # predicts[\"RandomForestClassifier\"][f\"ang_{angle}_dist_{distance}\"] = predict\n",
    "        scores[\"RandomForestClassifier\"][f\"ang_{angle}_dist_{distance}\"] = {\"accuracy_score\": accuracy} \"\"\""
   ]
  },
  {
   "cell_type": "markdown",
   "metadata": {},
   "source": [
    "### Support Vector Machines"
   ]
  },
  {
   "cell_type": "code",
   "execution_count": 11,
   "metadata": {},
   "outputs": [
    {
     "data": {
      "text/plain": [
       "' for distance in distances:\\n    for angle in angles:\\n        columns = [column for column in X_test.columns if f\"ang_{angle}_dist_{distance}\" in column]\\n        X_train_filtered = X_train.loc[::, columns]\\n        X_test_filtered = X_test.loc[::, columns]\\n\\n        svm_model = svm.SVC(C=10, gamma=\\'scale\\', kernel=\\'linear\\')\\n        \\n        # svm_model.fit(X_train_filtered, y_train)\\n        # predict = svm_model.predict(X_test_filtered)\\n        # accuracy = accuracy_score(y_test, predict) * 100\\n        accuracy = (cross_val_score(svm_model, X_test_filtered, y_test, cv=kf).mean()) * 100\\n\\n        # predicts[\"SVM\"][f\"ang_{angle}_dist_{distance}\"] = predict\\n        scores[\"SVM\"][f\"ang_{angle}_dist_{distance}\"] = {\"accuracy_score\": accuracy} '"
      ]
     },
     "execution_count": 11,
     "metadata": {},
     "output_type": "execute_result"
    }
   ],
   "source": [
    "# Treina com todos os angulos e distancias\n",
    "svm_model = svm.SVC(C=10, gamma='scale', kernel='linear')\n",
    "svm_model.fit(X_train, y_train)\n",
    "predict = svm_model.predict(X_test)\n",
    "accuracy = accuracy_score(y_test, predict) * 100\n",
    "#accuracy = (cross_val_score(svm_model, X_test, y_test, cv=kf).mean()) * 100\n",
    "\n",
    "# predicts[\"SVM\"] = {\"all\": predict}\n",
    "scores[\"SVM\"] = {\"all\": {\"accuracy_score\": accuracy}}\n",
    "\n",
    "\"\"\" for distance in distances:\n",
    "    for angle in angles:\n",
    "        columns = [column for column in X_test.columns if f\"ang_{angle}_dist_{distance}\" in column]\n",
    "        X_train_filtered = X_train.loc[::, columns]\n",
    "        X_test_filtered = X_test.loc[::, columns]\n",
    "\n",
    "        svm_model = svm.SVC(C=10, gamma='scale', kernel='linear')\n",
    "        \n",
    "        # svm_model.fit(X_train_filtered, y_train)\n",
    "        # predict = svm_model.predict(X_test_filtered)\n",
    "        # accuracy = accuracy_score(y_test, predict) * 100\n",
    "        accuracy = (cross_val_score(svm_model, X_test_filtered, y_test, cv=kf).mean()) * 100\n",
    "\n",
    "        # predicts[\"SVM\"][f\"ang_{angle}_dist_{distance}\"] = predict\n",
    "        scores[\"SVM\"][f\"ang_{angle}_dist_{distance}\"] = {\"accuracy_score\": accuracy} \"\"\""
   ]
  },
  {
   "cell_type": "markdown",
   "metadata": {},
   "source": [
    "### Boosted Tree Classifier"
   ]
  },
  {
   "cell_type": "code",
   "execution_count": 12,
   "metadata": {},
   "outputs": [
    {
     "data": {
      "text/plain": [
       "' for distance in distances:\\n    for angle in angles:\\n        columns = [column for column in X_test.columns if f\"ang_{angle}_dist_{distance}\" in column]\\n        X_train_filtered = X_train.loc[::, columns]\\n        X_test_filtered = X_test.loc[::, columns]\\n\\n        boosted_tree_model = GradientBoostingClassifier(learning_rate=0.1, max_depth=3, n_estimators=100)\\n        \\n        # boosted_tree_model.fit(X_train_filtered, y_train)\\n        # predict = boosted_tree_model.predict(X_test_filtered)\\n        # accuracy = accuracy_score(y_test, predict) * 100\\n        accuracy = (cross_val_score(boosted_tree_model, X_test_filtered, y_test, cv=kf).mean()) * 100\\n        \\n        # predicts[\"GradientBoostingClassifier\"][f\"ang_{angle}_dist_{distance}\"] = predict\\n        scores[\"GradientBoostingClassifier\"][f\"ang_{angle}_dist_{distance}\"] = {\"accuracy_score\": accuracy} '"
      ]
     },
     "execution_count": 12,
     "metadata": {},
     "output_type": "execute_result"
    }
   ],
   "source": [
    "# Treina com todos os angulos e distancias\n",
    "boosted_tree_model = GradientBoostingClassifier(learning_rate=0.1, max_depth=3, n_estimators=100)\n",
    "boosted_tree_model.fit(X_train, y_train)\n",
    "predict = boosted_tree_model.predict(X_test)\n",
    "accuracy = accuracy_score(y_test, predict) * 100\n",
    "\n",
    "scores[\"GradientBoostingClassifier\"] = {\"all\": {\"accuracy_score\": accuracy}}\n",
    "\n",
    "\"\"\" for distance in distances:\n",
    "    for angle in angles:\n",
    "        columns = [column for column in X_test.columns if f\"ang_{angle}_dist_{distance}\" in column]\n",
    "        X_train_filtered = X_train.loc[::, columns]\n",
    "        X_test_filtered = X_test.loc[::, columns]\n",
    "\n",
    "        boosted_tree_model = GradientBoostingClassifier(learning_rate=0.1, max_depth=3, n_estimators=100)\n",
    "        \n",
    "        # boosted_tree_model.fit(X_train_filtered, y_train)\n",
    "        # predict = boosted_tree_model.predict(X_test_filtered)\n",
    "        # accuracy = accuracy_score(y_test, predict) * 100\n",
    "        accuracy = (cross_val_score(boosted_tree_model, X_test_filtered, y_test, cv=kf).mean()) * 100\n",
    "        \n",
    "        # predicts[\"GradientBoostingClassifier\"][f\"ang_{angle}_dist_{distance}\"] = predict\n",
    "        scores[\"GradientBoostingClassifier\"][f\"ang_{angle}_dist_{distance}\"] = {\"accuracy_score\": accuracy} \"\"\""
   ]
  },
  {
   "attachments": {},
   "cell_type": "markdown",
   "metadata": {},
   "source": [
    "### Multilayer Perceptron"
   ]
  },
  {
   "cell_type": "code",
   "execution_count": 13,
   "metadata": {},
   "outputs": [
    {
     "name": "stdout",
     "output_type": "stream",
     "text": [
      "2/2 [==============================] - 0s 3ms/step\n"
     ]
    },
    {
     "data": {
      "text/plain": [
       "' for distance in distances:\\n    for angle in angles:\\n        columns = [column for column in X_test.columns if f\"ang_{angle}_dist_{distance}\" in column ]\\n        X_train_filtered = X_train.loc[::, columns]\\n        X_test_filtered = X_test.loc[::, columns]\\n\\n        #mlp = create_model(X_test_filtered.shape[1])\\n        #mlp.fit(X_train_filtered, y_train, epochs=100, batch_size=5, verbose=0)\\n        #predict = mlp.predict(X_test_filtered)\\n        \\n        #predict = (predict > threshold).astype(int) # Transformar as saídas em rótulos\\n        #accuracy = accuracy_score(y_test, predict) * 100\\n        accuracy = evaluate_mlp_model(create_mlp_model(X_test_filtered.shape[1]),\\n                              X_test_filtered, y_test, 5, 100, 5)\\n\\n        #predicts[\"MultilayerPerceptron\"][f\"ang_{angle}_dist_{distance}\"] = predict\\n        scores[\"MultilayerPerceptron\"][f\"ang_{angle}_dist_{distance}\"] = { \"accuracy_score\": accuracy } '"
      ]
     },
     "execution_count": 13,
     "metadata": {},
     "output_type": "execute_result"
    }
   ],
   "source": [
    "# Treina com todos os angulos e distancias\n",
    "mlp = create_mlp_model(X_test.shape[1])\n",
    "mlp.fit(X_train, y_train, epochs=100, batch_size=5, verbose=0)\n",
    "\n",
    "predict = mlp.predict(X_test)\n",
    "predict = (predict > threshold).astype(int) # Transformar as saídas em rótulos\n",
    "accuracy = accuracy_score(y_test, predict) * 100\n",
    "\n",
    "scores[\"MultilayerPerceptron\"] = {\"all\": {\"accuracy_score\": accuracy}}\n",
    "\n",
    "\"\"\" for distance in distances:\n",
    "    for angle in angles:\n",
    "        columns = [column for column in X_test.columns if f\"ang_{angle}_dist_{distance}\" in column ]\n",
    "        X_train_filtered = X_train.loc[::, columns]\n",
    "        X_test_filtered = X_test.loc[::, columns]\n",
    "\n",
    "        #mlp = create_model(X_test_filtered.shape[1])\n",
    "        #mlp.fit(X_train_filtered, y_train, epochs=100, batch_size=5, verbose=0)\n",
    "        #predict = mlp.predict(X_test_filtered)\n",
    "        \n",
    "        #predict = (predict > threshold).astype(int) # Transformar as saídas em rótulos\n",
    "        #accuracy = accuracy_score(y_test, predict) * 100\n",
    "        accuracy = evaluate_mlp_model(create_mlp_model(X_test_filtered.shape[1]),\n",
    "                              X_test_filtered, y_test, 5, 100, 5)\n",
    "\n",
    "        #predicts[\"MultilayerPerceptron\"][f\"ang_{angle}_dist_{distance}\"] = predict\n",
    "        scores[\"MultilayerPerceptron\"][f\"ang_{angle}_dist_{distance}\"] = { \"accuracy_score\": accuracy } \"\"\""
   ]
  },
  {
   "attachments": {},
   "cell_type": "markdown",
   "metadata": {},
   "source": [
    "## Avaliação dos modelos"
   ]
  },
  {
   "cell_type": "markdown",
   "metadata": {},
   "source": [
    "### Acurácia"
   ]
  },
  {
   "cell_type": "code",
   "execution_count": 14,
   "metadata": {},
   "outputs": [
    {
     "data": {
      "text/html": [
       "<div>\n",
       "<style scoped>\n",
       "    .dataframe tbody tr th:only-of-type {\n",
       "        vertical-align: middle;\n",
       "    }\n",
       "\n",
       "    .dataframe tbody tr th {\n",
       "        vertical-align: top;\n",
       "    }\n",
       "\n",
       "    .dataframe thead th {\n",
       "        text-align: right;\n",
       "    }\n",
       "</style>\n",
       "<table border=\"1\" class=\"dataframe\">\n",
       "  <thead>\n",
       "    <tr style=\"text-align: right;\">\n",
       "      <th></th>\n",
       "      <th>model</th>\n",
       "      <th>all</th>\n",
       "    </tr>\n",
       "  </thead>\n",
       "  <tbody>\n",
       "    <tr>\n",
       "      <th>0</th>\n",
       "      <td>KNN</td>\n",
       "      <td>60.975610</td>\n",
       "    </tr>\n",
       "    <tr>\n",
       "      <th>1</th>\n",
       "      <td>Random Forest</td>\n",
       "      <td>58.536585</td>\n",
       "    </tr>\n",
       "    <tr>\n",
       "      <th>2</th>\n",
       "      <td>SVM</td>\n",
       "      <td>56.097561</td>\n",
       "    </tr>\n",
       "    <tr>\n",
       "      <th>3</th>\n",
       "      <td>Boosted Tree</td>\n",
       "      <td>70.731707</td>\n",
       "    </tr>\n",
       "    <tr>\n",
       "      <th>4</th>\n",
       "      <td>Multilayer Perceptron</td>\n",
       "      <td>60.975610</td>\n",
       "    </tr>\n",
       "  </tbody>\n",
       "</table>\n",
       "</div>"
      ],
      "text/plain": [
       "                   model        all\n",
       "0                    KNN  60.975610\n",
       "1          Random Forest  58.536585\n",
       "2                    SVM  56.097561\n",
       "3           Boosted Tree  70.731707\n",
       "4  Multilayer Perceptron  60.975610"
      ]
     },
     "execution_count": 14,
     "metadata": {},
     "output_type": "execute_result"
    }
   ],
   "source": [
    "scores_knn = pd.DataFrame(scores[\"KNeighborsClassifier\"])\n",
    "scores_random_forest = pd.DataFrame(scores[\"RandomForestClassifier\"])\n",
    "scores_svm = pd.DataFrame(scores[\"SVM\"])\n",
    "scores_boosted_tree = pd.DataFrame(scores[\"GradientBoostingClassifier\"])\n",
    "scores_perceptron = pd.DataFrame(scores[\"MultilayerPerceptron\"])\n",
    "\n",
    "merged_df = pd.concat([scores_knn, scores_random_forest, scores_svm, scores_boosted_tree,\n",
    "                       scores_perceptron], axis=0).reset_index(drop=True)\n",
    "merged_df['model'] = ['KNN', 'Random Forest', 'SVM', 'Boosted Tree', 'Multilayer Perceptron']\n",
    "\n",
    "columns = merged_df.columns.tolist()\n",
    "columns.remove('model')\n",
    "\n",
    "merged_df = merged_df[['model', *columns]]\n",
    "merged_df"
   ]
  }
 ],
 "metadata": {
  "kernelspec": {
   "display_name": "radiomica",
   "language": "python",
   "name": "python3"
  },
  "language_info": {
   "codemirror_mode": {
    "name": "ipython",
    "version": 3
   },
   "file_extension": ".py",
   "mimetype": "text/x-python",
   "name": "python",
   "nbconvert_exporter": "python",
   "pygments_lexer": "ipython3",
   "version": "3.10.12"
  },
  "orig_nbformat": 4
 },
 "nbformat": 4,
 "nbformat_minor": 2
}
