{
 "cells": [
  {
   "cell_type": "code",
   "execution_count": 1,
   "metadata": {},
   "outputs": [
    {
     "data": {
      "text/plain": [
       "' from keras.models import Sequential\\nfrom keras.layers import Dense '"
      ]
     },
     "execution_count": 1,
     "metadata": {},
     "output_type": "execute_result"
    }
   ],
   "source": [
    "import pandas as pd\n",
    "from sklearn.ensemble import RandomForestClassifier\n",
    "from sklearn.metrics import (accuracy_score, classification_report,\n",
    "                             confusion_matrix, precision_score, recall_score)\n",
    "from sklearn.model_selection import RandomizedSearchCV, train_test_split\n",
    "from sklearn.neighbors import KNeighborsClassifier"
   ]
  },
  {
   "attachments": {},
   "cell_type": "markdown",
   "metadata": {},
   "source": [
    "# Modelos preditivo para o CBIS-DDSM"
   ]
  },
  {
   "attachments": {},
   "cell_type": "markdown",
   "metadata": {},
   "source": [
    "## Importação"
   ]
  },
  {
   "attachments": {},
   "cell_type": "markdown",
   "metadata": {},
   "source": [
    "Iniciamos com a importação do conjunto de dados e realizamos a visualização das 5 primeiras linhas para verificar a estrutura dos dados."
   ]
  },
  {
   "cell_type": "code",
   "execution_count": 2,
   "metadata": {},
   "outputs": [
    {
     "data": {
      "text/html": [
       "<div>\n",
       "<style scoped>\n",
       "    .dataframe tbody tr th:only-of-type {\n",
       "        vertical-align: middle;\n",
       "    }\n",
       "\n",
       "    .dataframe tbody tr th {\n",
       "        vertical-align: top;\n",
       "    }\n",
       "\n",
       "    .dataframe thead th {\n",
       "        text-align: right;\n",
       "    }\n",
       "</style>\n",
       "<table border=\"1\" class=\"dataframe\">\n",
       "  <thead>\n",
       "    <tr style=\"text-align: right;\">\n",
       "      <th></th>\n",
       "      <th>dissimilarity_ang_0_dist_1</th>\n",
       "      <th>dissimilarity_ang_45_dist_1</th>\n",
       "      <th>dissimilarity_ang_90_dist_1</th>\n",
       "      <th>dissimilarity_ang_135_dist_1</th>\n",
       "      <th>dissimilarity_ang_0_dist_5</th>\n",
       "      <th>dissimilarity_ang_45_dist_5</th>\n",
       "      <th>dissimilarity_ang_90_dist_5</th>\n",
       "      <th>dissimilarity_ang_135_dist_5</th>\n",
       "      <th>correlation_ang_0_dist_1</th>\n",
       "      <th>correlation_ang_45_dist_1</th>\n",
       "      <th>...</th>\n",
       "      <th>ASM_ang_135_dist_5</th>\n",
       "      <th>energy_ang_0_dist_1</th>\n",
       "      <th>energy_ang_45_dist_1</th>\n",
       "      <th>energy_ang_90_dist_1</th>\n",
       "      <th>energy_ang_135_dist_1</th>\n",
       "      <th>energy_ang_0_dist_5</th>\n",
       "      <th>energy_ang_45_dist_5</th>\n",
       "      <th>energy_ang_90_dist_5</th>\n",
       "      <th>energy_ang_135_dist_5</th>\n",
       "      <th>pathology</th>\n",
       "    </tr>\n",
       "  </thead>\n",
       "  <tbody>\n",
       "    <tr>\n",
       "      <th>0</th>\n",
       "      <td>0.867058</td>\n",
       "      <td>0.989288</td>\n",
       "      <td>0.869534</td>\n",
       "      <td>0.958089</td>\n",
       "      <td>1.558669</td>\n",
       "      <td>1.609807</td>\n",
       "      <td>1.330008</td>\n",
       "      <td>1.438225</td>\n",
       "      <td>0.998038</td>\n",
       "      <td>0.997318</td>\n",
       "      <td>...</td>\n",
       "      <td>0.374557</td>\n",
       "      <td>0.613519</td>\n",
       "      <td>0.612996</td>\n",
       "      <td>0.612982</td>\n",
       "      <td>0.613068</td>\n",
       "      <td>0.612237</td>\n",
       "      <td>0.611475</td>\n",
       "      <td>0.611724</td>\n",
       "      <td>0.612010</td>\n",
       "      <td>BENIGN</td>\n",
       "    </tr>\n",
       "    <tr>\n",
       "      <th>1</th>\n",
       "      <td>1.591570</td>\n",
       "      <td>1.756165</td>\n",
       "      <td>1.622403</td>\n",
       "      <td>1.851661</td>\n",
       "      <td>2.675529</td>\n",
       "      <td>2.538154</td>\n",
       "      <td>2.502785</td>\n",
       "      <td>2.851484</td>\n",
       "      <td>0.998133</td>\n",
       "      <td>0.997718</td>\n",
       "      <td>...</td>\n",
       "      <td>0.065602</td>\n",
       "      <td>0.259952</td>\n",
       "      <td>0.259348</td>\n",
       "      <td>0.260183</td>\n",
       "      <td>0.259283</td>\n",
       "      <td>0.255886</td>\n",
       "      <td>0.256496</td>\n",
       "      <td>0.258937</td>\n",
       "      <td>0.256129</td>\n",
       "      <td>BENIGN</td>\n",
       "    </tr>\n",
       "    <tr>\n",
       "      <th>2</th>\n",
       "      <td>0.880291</td>\n",
       "      <td>0.962439</td>\n",
       "      <td>0.879317</td>\n",
       "      <td>1.023709</td>\n",
       "      <td>1.631688</td>\n",
       "      <td>1.470731</td>\n",
       "      <td>1.372944</td>\n",
       "      <td>1.684637</td>\n",
       "      <td>0.997972</td>\n",
       "      <td>0.997525</td>\n",
       "      <td>...</td>\n",
       "      <td>0.356365</td>\n",
       "      <td>0.600135</td>\n",
       "      <td>0.599574</td>\n",
       "      <td>0.599586</td>\n",
       "      <td>0.599440</td>\n",
       "      <td>0.597867</td>\n",
       "      <td>0.597475</td>\n",
       "      <td>0.597672</td>\n",
       "      <td>0.596963</td>\n",
       "      <td>BENIGN_WITHOUT_CALLBACK</td>\n",
       "    </tr>\n",
       "    <tr>\n",
       "      <th>3</th>\n",
       "      <td>0.880291</td>\n",
       "      <td>0.962439</td>\n",
       "      <td>0.879317</td>\n",
       "      <td>1.023709</td>\n",
       "      <td>1.631688</td>\n",
       "      <td>1.470731</td>\n",
       "      <td>1.372944</td>\n",
       "      <td>1.684637</td>\n",
       "      <td>0.997972</td>\n",
       "      <td>0.997525</td>\n",
       "      <td>...</td>\n",
       "      <td>0.356365</td>\n",
       "      <td>0.600135</td>\n",
       "      <td>0.599574</td>\n",
       "      <td>0.599586</td>\n",
       "      <td>0.599440</td>\n",
       "      <td>0.597867</td>\n",
       "      <td>0.597475</td>\n",
       "      <td>0.597672</td>\n",
       "      <td>0.596963</td>\n",
       "      <td>BENIGN_WITHOUT_CALLBACK</td>\n",
       "    </tr>\n",
       "    <tr>\n",
       "      <th>4</th>\n",
       "      <td>1.496904</td>\n",
       "      <td>1.725108</td>\n",
       "      <td>1.533977</td>\n",
       "      <td>1.677406</td>\n",
       "      <td>2.473641</td>\n",
       "      <td>2.634147</td>\n",
       "      <td>2.381861</td>\n",
       "      <td>2.410005</td>\n",
       "      <td>0.998009</td>\n",
       "      <td>0.997348</td>\n",
       "      <td>...</td>\n",
       "      <td>0.090927</td>\n",
       "      <td>0.304731</td>\n",
       "      <td>0.304179</td>\n",
       "      <td>0.304973</td>\n",
       "      <td>0.304221</td>\n",
       "      <td>0.300906</td>\n",
       "      <td>0.301545</td>\n",
       "      <td>0.303951</td>\n",
       "      <td>0.301541</td>\n",
       "      <td>BENIGN_WITHOUT_CALLBACK</td>\n",
       "    </tr>\n",
       "  </tbody>\n",
       "</table>\n",
       "<p>5 rows × 49 columns</p>\n",
       "</div>"
      ],
      "text/plain": [
       "   dissimilarity_ang_0_dist_1  dissimilarity_ang_45_dist_1  \\\n",
       "0                    0.867058                     0.989288   \n",
       "1                    1.591570                     1.756165   \n",
       "2                    0.880291                     0.962439   \n",
       "3                    0.880291                     0.962439   \n",
       "4                    1.496904                     1.725108   \n",
       "\n",
       "   dissimilarity_ang_90_dist_1  dissimilarity_ang_135_dist_1  \\\n",
       "0                     0.869534                      0.958089   \n",
       "1                     1.622403                      1.851661   \n",
       "2                     0.879317                      1.023709   \n",
       "3                     0.879317                      1.023709   \n",
       "4                     1.533977                      1.677406   \n",
       "\n",
       "   dissimilarity_ang_0_dist_5  dissimilarity_ang_45_dist_5  \\\n",
       "0                    1.558669                     1.609807   \n",
       "1                    2.675529                     2.538154   \n",
       "2                    1.631688                     1.470731   \n",
       "3                    1.631688                     1.470731   \n",
       "4                    2.473641                     2.634147   \n",
       "\n",
       "   dissimilarity_ang_90_dist_5  dissimilarity_ang_135_dist_5  \\\n",
       "0                     1.330008                      1.438225   \n",
       "1                     2.502785                      2.851484   \n",
       "2                     1.372944                      1.684637   \n",
       "3                     1.372944                      1.684637   \n",
       "4                     2.381861                      2.410005   \n",
       "\n",
       "   correlation_ang_0_dist_1  correlation_ang_45_dist_1  ...  \\\n",
       "0                  0.998038                   0.997318  ...   \n",
       "1                  0.998133                   0.997718  ...   \n",
       "2                  0.997972                   0.997525  ...   \n",
       "3                  0.997972                   0.997525  ...   \n",
       "4                  0.998009                   0.997348  ...   \n",
       "\n",
       "   ASM_ang_135_dist_5  energy_ang_0_dist_1  energy_ang_45_dist_1  \\\n",
       "0            0.374557             0.613519              0.612996   \n",
       "1            0.065602             0.259952              0.259348   \n",
       "2            0.356365             0.600135              0.599574   \n",
       "3            0.356365             0.600135              0.599574   \n",
       "4            0.090927             0.304731              0.304179   \n",
       "\n",
       "   energy_ang_90_dist_1  energy_ang_135_dist_1  energy_ang_0_dist_5  \\\n",
       "0              0.612982               0.613068             0.612237   \n",
       "1              0.260183               0.259283             0.255886   \n",
       "2              0.599586               0.599440             0.597867   \n",
       "3              0.599586               0.599440             0.597867   \n",
       "4              0.304973               0.304221             0.300906   \n",
       "\n",
       "   energy_ang_45_dist_5  energy_ang_90_dist_5  energy_ang_135_dist_5  \\\n",
       "0              0.611475              0.611724               0.612010   \n",
       "1              0.256496              0.258937               0.256129   \n",
       "2              0.597475              0.597672               0.596963   \n",
       "3              0.597475              0.597672               0.596963   \n",
       "4              0.301545              0.303951               0.301541   \n",
       "\n",
       "                 pathology  \n",
       "0                   BENIGN  \n",
       "1                   BENIGN  \n",
       "2  BENIGN_WITHOUT_CALLBACK  \n",
       "3  BENIGN_WITHOUT_CALLBACK  \n",
       "4  BENIGN_WITHOUT_CALLBACK  \n",
       "\n",
       "[5 rows x 49 columns]"
      ]
     },
     "execution_count": 2,
     "metadata": {},
     "output_type": "execute_result"
    }
   ],
   "source": [
    "breast_cancer = pd.read_csv(\"../../outputs/mamografia/matriz_features_glcm.csv\")\n",
    "breast_cancer.head()"
   ]
  },
  {
   "attachments": {},
   "cell_type": "markdown",
   "metadata": {},
   "source": [
    "Como próximo passo, verificamos a distribuição das classes. Após análizar, foi visto que cerca de 60% dos dados são da classe BENIGN e o restante 40% são da classe MALIGNANT. "
   ]
  },
  {
   "cell_type": "code",
   "execution_count": 3,
   "metadata": {},
   "outputs": [
    {
     "data": {
      "text/plain": [
       "BENIGN       0.591648\n",
       "MALIGNANT    0.408352\n",
       "Name: pathology, dtype: float64"
      ]
     },
     "execution_count": 3,
     "metadata": {},
     "output_type": "execute_result"
    }
   ],
   "source": [
    "breast_cancer['pathology'] = breast_cancer['pathology'].replace(\"BENIGN_WITHOUT_CALLBACK\", \"BENIGN\")\n",
    "breast_cancer['pathology'].value_counts(normalize=True)"
   ]
  },
  {
   "attachments": {},
   "cell_type": "markdown",
   "metadata": {},
   "source": [
    "Nesta Etapa, realizamos a separação dos dados em Features e labels"
   ]
  },
  {
   "cell_type": "code",
   "execution_count": 4,
   "metadata": {},
   "outputs": [
    {
     "data": {
      "text/plain": [
       "((3568, 48), (3568,))"
      ]
     },
     "execution_count": 4,
     "metadata": {},
     "output_type": "execute_result"
    }
   ],
   "source": [
    "X, y = breast_cancer.drop('pathology', axis=1), breast_cancer['pathology']\n",
    "X.shape, y.shape"
   ]
  },
  {
   "attachments": {},
   "cell_type": "markdown",
   "metadata": {},
   "source": [
    "Como etapa final do estágio de importação, realizamos a divisão dos dados em treino e teste."
   ]
  },
  {
   "cell_type": "code",
   "execution_count": 5,
   "metadata": {},
   "outputs": [
    {
     "data": {
      "text/plain": [
       "((2676, 48), (892, 48), (2676,), (892,))"
      ]
     },
     "execution_count": 5,
     "metadata": {},
     "output_type": "execute_result"
    }
   ],
   "source": [
    "X_train, X_test, y_train, y_test = train_test_split(X, y)\n",
    "X_train.shape, X_test.shape, y_train.shape, y_test.shape"
   ]
  },
  {
   "attachments": {},
   "cell_type": "markdown",
   "metadata": {},
   "source": [
    "## Pré-Processamento"
   ]
  },
  {
   "attachments": {},
   "cell_type": "markdown",
   "metadata": {},
   "source": [
    "Na etapa de pré-processamento, realizamos o tratamento das variáveis categóricas utilizando a abordagem Label Enconding. "
   ]
  },
  {
   "cell_type": "code",
   "execution_count": 6,
   "metadata": {},
   "outputs": [],
   "source": [
    "y_train = y_train.map({'BENIGN': 0, 'MALIGNANT': 1})\n",
    "y_test = y_test.map({'BENIGN': 0, 'MALIGNANT': 1})"
   ]
  },
  {
   "attachments": {},
   "cell_type": "markdown",
   "metadata": {},
   "source": [
    "## Treinamento e Previsão dos modelos"
   ]
  },
  {
   "attachments": {},
   "cell_type": "markdown",
   "metadata": {},
   "source": [
    "Random Forest Classifier"
   ]
  },
  {
   "cell_type": "code",
   "execution_count": 7,
   "metadata": {},
   "outputs": [],
   "source": [
    "angles = ['0', '45', '90', '135']\n",
    "distances = ['1', '5']\n",
    "\n",
    "# Treina com todos os angulos e distancias\n",
    "cfr = RandomForestClassifier(n_estimators=150, max_depth=11)\n",
    "cfr.fit(X_train, y_train)\n",
    "predict = cfr.predict(X_test)\n",
    "\n",
    "predicts = {'RandomForestClassifier': { 'all': predict }}\n",
    "scores = {'RandomForestClassifier': {'all': {'accuracy_score': accuracy_score(y_test, predict),\n",
    "                                             'recall_score': recall_score(y_test, predict),\n",
    "                                             'precision_score': precision_score(y_test, predict)}}}\n",
    "\n",
    "for distance in distances:\n",
    "    for angle in angles:\n",
    "        columns =  [column for column in X_train.columns if f'ang_{angle}_dist_{distance}' in column]\n",
    "        X_train_filtered = X_train.loc[::, columns]\n",
    "        X_test_filtered = X_test.loc[::, columns]\n",
    "        \n",
    "        cfr = RandomForestClassifier(n_estimators=150, max_depth=11)\n",
    "        cfr.fit(X_train_filtered, y_train)\n",
    "        predict = cfr.predict(X_test_filtered)\n",
    "        \n",
    "        predicts['RandomForestClassifier'][f'ang_{angle}_dist_{distance}'] = predict\n",
    "        scores['RandomForestClassifier'][f'ang_{angle}_dist_{distance}'] = {\n",
    "                                                'accuracy_score': accuracy_score(y_test, predict),\n",
    "                                                'recall_score': recall_score(y_test, predict),\n",
    "                                                'precision_score': precision_score(y_test, predict)\n",
    "                                            }"
   ]
  },
  {
   "attachments": {},
   "cell_type": "markdown",
   "metadata": {},
   "source": [
    "KNeighborsClassifier"
   ]
  },
  {
   "cell_type": "code",
   "execution_count": 8,
   "metadata": {},
   "outputs": [],
   "source": [
    "angles = ['0', '45', '90', '135']\n",
    "distances = ['1', '5']\n",
    "\n",
    "# Treina com todos os angulos e distancias\n",
    "cKNN = KNeighborsClassifier(n_neighbors=4)\n",
    "cKNN.fit(X_train, y_train)\n",
    "predict = cKNN.predict(X_test)\n",
    "\n",
    "predicts['KNeighborsClassifier'] = { 'all': predict }\n",
    "scores['KNeighborsClassifier'] = {'all': {'accuracy_score': accuracy_score(y_test, predict),\n",
    "                                             'recall_score': recall_score(y_test, predict),\n",
    "                                             'precision_score': precision_score(y_test, predict)}}\n",
    "\n",
    "for distance in distances:\n",
    "    for angle in angles:\n",
    "        columns =  [column for column in X_train.columns if f'ang_{angle}_dist_{distance}' in column]\n",
    "        X_train_filtered = X_train.loc[::, columns]\n",
    "        X_test_filtered = X_test.loc[::, columns]\n",
    "        \n",
    "        cKNN = KNeighborsClassifier(n_neighbors=4)\n",
    "        cKNN.fit(X_train_filtered, y_train)\n",
    "        predict = cKNN.predict(X_test_filtered)\n",
    "        \n",
    "        predicts['KNeighborsClassifier'][f'ang_{angle}_dist_{distance}'] = predict\n",
    "        scores['KNeighborsClassifier'][f'ang_{angle}_dist_{distance}'] = {\n",
    "                                                'accuracy_score': accuracy_score(y_test, predict),\n",
    "                                                'recall_score': recall_score(y_test, predict),\n",
    "                                                'precision_score': precision_score(y_test, predict)\n",
    "                                        }"
   ]
  },
  {
   "attachments": {},
   "cell_type": "markdown",
   "metadata": {},
   "source": [
    "## Avaliação dos modelos"
   ]
  },
  {
   "attachments": {},
   "cell_type": "markdown",
   "metadata": {},
   "source": [
    "Avaliamos o modelo Random Forest Classifier"
   ]
  },
  {
   "cell_type": "code",
   "execution_count": 9,
   "metadata": {},
   "outputs": [
    {
     "data": {
      "text/html": [
       "<div>\n",
       "<style scoped>\n",
       "    .dataframe tbody tr th:only-of-type {\n",
       "        vertical-align: middle;\n",
       "    }\n",
       "\n",
       "    .dataframe tbody tr th {\n",
       "        vertical-align: top;\n",
       "    }\n",
       "\n",
       "    .dataframe thead th {\n",
       "        text-align: right;\n",
       "    }\n",
       "</style>\n",
       "<table border=\"1\" class=\"dataframe\">\n",
       "  <thead>\n",
       "    <tr style=\"text-align: right;\">\n",
       "      <th></th>\n",
       "      <th>all</th>\n",
       "      <th>ang_0_dist_1</th>\n",
       "      <th>ang_45_dist_1</th>\n",
       "      <th>ang_90_dist_1</th>\n",
       "      <th>ang_135_dist_1</th>\n",
       "      <th>ang_0_dist_5</th>\n",
       "      <th>ang_45_dist_5</th>\n",
       "      <th>ang_90_dist_5</th>\n",
       "      <th>ang_135_dist_5</th>\n",
       "    </tr>\n",
       "  </thead>\n",
       "  <tbody>\n",
       "    <tr>\n",
       "      <th>accuracy_score</th>\n",
       "      <td>0.642377</td>\n",
       "      <td>0.636771</td>\n",
       "      <td>0.625561</td>\n",
       "      <td>0.640135</td>\n",
       "      <td>0.633408</td>\n",
       "      <td>0.616592</td>\n",
       "      <td>0.616592</td>\n",
       "      <td>0.615471</td>\n",
       "      <td>0.605381</td>\n",
       "    </tr>\n",
       "    <tr>\n",
       "      <th>recall_score</th>\n",
       "      <td>0.320000</td>\n",
       "      <td>0.330667</td>\n",
       "      <td>0.306667</td>\n",
       "      <td>0.322667</td>\n",
       "      <td>0.330667</td>\n",
       "      <td>0.301333</td>\n",
       "      <td>0.317333</td>\n",
       "      <td>0.293333</td>\n",
       "      <td>0.285333</td>\n",
       "    </tr>\n",
       "    <tr>\n",
       "      <th>precision_score</th>\n",
       "      <td>0.652174</td>\n",
       "      <td>0.629442</td>\n",
       "      <td>0.608466</td>\n",
       "      <td>0.643617</td>\n",
       "      <td>0.620000</td>\n",
       "      <td>0.585492</td>\n",
       "      <td>0.580488</td>\n",
       "      <td>0.585106</td>\n",
       "      <td>0.560209</td>\n",
       "    </tr>\n",
       "  </tbody>\n",
       "</table>\n",
       "</div>"
      ],
      "text/plain": [
       "                      all  ang_0_dist_1  ang_45_dist_1  ang_90_dist_1  \\\n",
       "accuracy_score   0.642377      0.636771       0.625561       0.640135   \n",
       "recall_score     0.320000      0.330667       0.306667       0.322667   \n",
       "precision_score  0.652174      0.629442       0.608466       0.643617   \n",
       "\n",
       "                 ang_135_dist_1  ang_0_dist_5  ang_45_dist_5  ang_90_dist_5  \\\n",
       "accuracy_score         0.633408      0.616592       0.616592       0.615471   \n",
       "recall_score           0.330667      0.301333       0.317333       0.293333   \n",
       "precision_score        0.620000      0.585492       0.580488       0.585106   \n",
       "\n",
       "                 ang_135_dist_5  \n",
       "accuracy_score         0.605381  \n",
       "recall_score           0.285333  \n",
       "precision_score        0.560209  "
      ]
     },
     "execution_count": 9,
     "metadata": {},
     "output_type": "execute_result"
    }
   ],
   "source": [
    "scores_cfr = pd.DataFrame(scores['RandomForestClassifier'])\n",
    "scores_cfr"
   ]
  },
  {
   "attachments": {},
   "cell_type": "markdown",
   "metadata": {},
   "source": [
    "Avaliamos o modelo Kneighbor Classifier"
   ]
  },
  {
   "cell_type": "code",
   "execution_count": 10,
   "metadata": {},
   "outputs": [
    {
     "data": {
      "text/html": [
       "<div>\n",
       "<style scoped>\n",
       "    .dataframe tbody tr th:only-of-type {\n",
       "        vertical-align: middle;\n",
       "    }\n",
       "\n",
       "    .dataframe tbody tr th {\n",
       "        vertical-align: top;\n",
       "    }\n",
       "\n",
       "    .dataframe thead th {\n",
       "        text-align: right;\n",
       "    }\n",
       "</style>\n",
       "<table border=\"1\" class=\"dataframe\">\n",
       "  <thead>\n",
       "    <tr style=\"text-align: right;\">\n",
       "      <th></th>\n",
       "      <th>all</th>\n",
       "      <th>ang_0_dist_1</th>\n",
       "      <th>ang_45_dist_1</th>\n",
       "      <th>ang_90_dist_1</th>\n",
       "      <th>ang_135_dist_1</th>\n",
       "      <th>ang_0_dist_5</th>\n",
       "      <th>ang_45_dist_5</th>\n",
       "      <th>ang_90_dist_5</th>\n",
       "      <th>ang_135_dist_5</th>\n",
       "    </tr>\n",
       "  </thead>\n",
       "  <tbody>\n",
       "    <tr>\n",
       "      <th>accuracy_score</th>\n",
       "      <td>0.588565</td>\n",
       "      <td>0.589686</td>\n",
       "      <td>0.582960</td>\n",
       "      <td>0.595291</td>\n",
       "      <td>0.579596</td>\n",
       "      <td>0.602018</td>\n",
       "      <td>0.567265</td>\n",
       "      <td>0.572870</td>\n",
       "      <td>0.576233</td>\n",
       "    </tr>\n",
       "    <tr>\n",
       "      <th>recall_score</th>\n",
       "      <td>0.237333</td>\n",
       "      <td>0.290667</td>\n",
       "      <td>0.256000</td>\n",
       "      <td>0.258667</td>\n",
       "      <td>0.234667</td>\n",
       "      <td>0.264000</td>\n",
       "      <td>0.221333</td>\n",
       "      <td>0.224000</td>\n",
       "      <td>0.242667</td>\n",
       "    </tr>\n",
       "    <tr>\n",
       "      <th>precision_score</th>\n",
       "      <td>0.523529</td>\n",
       "      <td>0.521531</td>\n",
       "      <td>0.507937</td>\n",
       "      <td>0.538889</td>\n",
       "      <td>0.500000</td>\n",
       "      <td>0.556180</td>\n",
       "      <td>0.468927</td>\n",
       "      <td>0.482759</td>\n",
       "      <td>0.491892</td>\n",
       "    </tr>\n",
       "  </tbody>\n",
       "</table>\n",
       "</div>"
      ],
      "text/plain": [
       "                      all  ang_0_dist_1  ang_45_dist_1  ang_90_dist_1  \\\n",
       "accuracy_score   0.588565      0.589686       0.582960       0.595291   \n",
       "recall_score     0.237333      0.290667       0.256000       0.258667   \n",
       "precision_score  0.523529      0.521531       0.507937       0.538889   \n",
       "\n",
       "                 ang_135_dist_1  ang_0_dist_5  ang_45_dist_5  ang_90_dist_5  \\\n",
       "accuracy_score         0.579596      0.602018       0.567265       0.572870   \n",
       "recall_score           0.234667      0.264000       0.221333       0.224000   \n",
       "precision_score        0.500000      0.556180       0.468927       0.482759   \n",
       "\n",
       "                 ang_135_dist_5  \n",
       "accuracy_score         0.576233  \n",
       "recall_score           0.242667  \n",
       "precision_score        0.491892  "
      ]
     },
     "execution_count": 10,
     "metadata": {},
     "output_type": "execute_result"
    }
   ],
   "source": [
    "scores_cKNN = pd.DataFrame(scores['KNeighborsClassifier'])\n",
    "scores_cKNN"
   ]
  }
 ],
 "metadata": {
  "kernelspec": {
   "display_name": "radiomica",
   "language": "python",
   "name": "python3"
  },
  "language_info": {
   "codemirror_mode": {
    "name": "ipython",
    "version": 3
   },
   "file_extension": ".py",
   "mimetype": "text/x-python",
   "name": "python",
   "nbconvert_exporter": "python",
   "pygments_lexer": "ipython3",
   "version": "3.10.6"
  },
  "orig_nbformat": 4
 },
 "nbformat": 4,
 "nbformat_minor": 2
}
