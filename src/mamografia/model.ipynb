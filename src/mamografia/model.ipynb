{
 "cells": [
  {
   "cell_type": "code",
   "execution_count": 1,
   "metadata": {},
   "outputs": [],
   "source": [
    "import pandas as pd\n",
    "from sklearn.metrics import classification_report, confusion_matrix, accuracy_score\n",
    "from sklearn.neural_network import MLPClassifier\n",
    "from sklearn.ensemble import RandomForestClassifier\n",
    "from sklearn.model_selection import train_test_split\n",
    "from sklearn.preprocessing import StandardScaler"
   ]
  },
  {
   "attachments": {},
   "cell_type": "markdown",
   "metadata": {},
   "source": [
    "# Modelos preditivo para o CBIS-DDSM"
   ]
  },
  {
   "attachments": {},
   "cell_type": "markdown",
   "metadata": {},
   "source": [
    "## Importação"
   ]
  },
  {
   "attachments": {},
   "cell_type": "markdown",
   "metadata": {},
   "source": [
    "Iniciamos com a importação do conjunto de dados e realizamos a visualização das 5 primeiras linhas para verificar a estrutura dos dados."
   ]
  },
  {
   "cell_type": "code",
   "execution_count": 2,
   "metadata": {},
   "outputs": [
    {
     "data": {
      "text/html": [
       "<div>\n",
       "<style scoped>\n",
       "    .dataframe tbody tr th:only-of-type {\n",
       "        vertical-align: middle;\n",
       "    }\n",
       "\n",
       "    .dataframe tbody tr th {\n",
       "        vertical-align: top;\n",
       "    }\n",
       "\n",
       "    .dataframe thead th {\n",
       "        text-align: right;\n",
       "    }\n",
       "</style>\n",
       "<table border=\"1\" class=\"dataframe\">\n",
       "  <thead>\n",
       "    <tr style=\"text-align: right;\">\n",
       "      <th></th>\n",
       "      <th>dissimilarity_0</th>\n",
       "      <th>dissimilarity_90</th>\n",
       "      <th>correlation_0</th>\n",
       "      <th>correlation_90</th>\n",
       "      <th>homogeneity_0</th>\n",
       "      <th>homogeneity_90</th>\n",
       "      <th>contrast_0</th>\n",
       "      <th>contrast_90</th>\n",
       "      <th>ASM_0</th>\n",
       "      <th>ASM_90</th>\n",
       "      <th>energy_0</th>\n",
       "      <th>energy_90</th>\n",
       "      <th>pathology</th>\n",
       "    </tr>\n",
       "  </thead>\n",
       "  <tbody>\n",
       "    <tr>\n",
       "      <th>0</th>\n",
       "      <td>1.558669</td>\n",
       "      <td>1.330008</td>\n",
       "      <td>0.991838</td>\n",
       "      <td>0.993250</td>\n",
       "      <td>0.700942</td>\n",
       "      <td>0.718123</td>\n",
       "      <td>15.089312</td>\n",
       "      <td>12.688345</td>\n",
       "      <td>0.374834</td>\n",
       "      <td>0.374206</td>\n",
       "      <td>0.612237</td>\n",
       "      <td>0.611724</td>\n",
       "      <td>BENIGN</td>\n",
       "    </tr>\n",
       "    <tr>\n",
       "      <th>1</th>\n",
       "      <td>2.675529</td>\n",
       "      <td>2.502785</td>\n",
       "      <td>0.994682</td>\n",
       "      <td>0.995176</td>\n",
       "      <td>0.438010</td>\n",
       "      <td>0.454717</td>\n",
       "      <td>16.133688</td>\n",
       "      <td>14.702494</td>\n",
       "      <td>0.065477</td>\n",
       "      <td>0.067049</td>\n",
       "      <td>0.255886</td>\n",
       "      <td>0.258937</td>\n",
       "      <td>BENIGN</td>\n",
       "    </tr>\n",
       "    <tr>\n",
       "      <th>2</th>\n",
       "      <td>1.631688</td>\n",
       "      <td>1.372944</td>\n",
       "      <td>0.992358</td>\n",
       "      <td>0.994149</td>\n",
       "      <td>0.687811</td>\n",
       "      <td>0.705508</td>\n",
       "      <td>12.983167</td>\n",
       "      <td>10.130144</td>\n",
       "      <td>0.357444</td>\n",
       "      <td>0.357212</td>\n",
       "      <td>0.597867</td>\n",
       "      <td>0.597672</td>\n",
       "      <td>BENIGN</td>\n",
       "    </tr>\n",
       "    <tr>\n",
       "      <th>3</th>\n",
       "      <td>1.631688</td>\n",
       "      <td>1.372944</td>\n",
       "      <td>0.992358</td>\n",
       "      <td>0.994149</td>\n",
       "      <td>0.687811</td>\n",
       "      <td>0.705508</td>\n",
       "      <td>12.983167</td>\n",
       "      <td>10.130144</td>\n",
       "      <td>0.357444</td>\n",
       "      <td>0.357212</td>\n",
       "      <td>0.597867</td>\n",
       "      <td>0.597672</td>\n",
       "      <td>BENIGN</td>\n",
       "    </tr>\n",
       "    <tr>\n",
       "      <th>4</th>\n",
       "      <td>2.473641</td>\n",
       "      <td>2.381861</td>\n",
       "      <td>0.994516</td>\n",
       "      <td>0.994735</td>\n",
       "      <td>0.474037</td>\n",
       "      <td>0.486832</td>\n",
       "      <td>14.635021</td>\n",
       "      <td>14.176513</td>\n",
       "      <td>0.090544</td>\n",
       "      <td>0.092386</td>\n",
       "      <td>0.300906</td>\n",
       "      <td>0.303951</td>\n",
       "      <td>BENIGN</td>\n",
       "    </tr>\n",
       "  </tbody>\n",
       "</table>\n",
       "</div>"
      ],
      "text/plain": [
       "   dissimilarity_0  dissimilarity_90  correlation_0  correlation_90  \\\n",
       "0         1.558669          1.330008       0.991838        0.993250   \n",
       "1         2.675529          2.502785       0.994682        0.995176   \n",
       "2         1.631688          1.372944       0.992358        0.994149   \n",
       "3         1.631688          1.372944       0.992358        0.994149   \n",
       "4         2.473641          2.381861       0.994516        0.994735   \n",
       "\n",
       "   homogeneity_0  homogeneity_90  contrast_0  contrast_90     ASM_0    ASM_90  \\\n",
       "0       0.700942        0.718123   15.089312    12.688345  0.374834  0.374206   \n",
       "1       0.438010        0.454717   16.133688    14.702494  0.065477  0.067049   \n",
       "2       0.687811        0.705508   12.983167    10.130144  0.357444  0.357212   \n",
       "3       0.687811        0.705508   12.983167    10.130144  0.357444  0.357212   \n",
       "4       0.474037        0.486832   14.635021    14.176513  0.090544  0.092386   \n",
       "\n",
       "   energy_0  energy_90 pathology  \n",
       "0  0.612237   0.611724    BENIGN  \n",
       "1  0.255886   0.258937    BENIGN  \n",
       "2  0.597867   0.597672    BENIGN  \n",
       "3  0.597867   0.597672    BENIGN  \n",
       "4  0.300906   0.303951    BENIGN  "
      ]
     },
     "execution_count": 2,
     "metadata": {},
     "output_type": "execute_result"
    }
   ],
   "source": [
    "breast_cancer = pd.read_csv(\"../../outputs/mamografia/matriz_features_glcm.csv\")\n",
    "breast_cancer.head()"
   ]
  },
  {
   "attachments": {},
   "cell_type": "markdown",
   "metadata": {},
   "source": [
    "Como próximo passo, verificamos a distribuição das classes. Após análizar, foi visto que cerca de 60% dos dados são da classe BENIGN e o restante 40% são da classe MALIGNANT. "
   ]
  },
  {
   "cell_type": "code",
   "execution_count": 3,
   "metadata": {},
   "outputs": [
    {
     "data": {
      "text/plain": [
       "BENIGN       0.591648\n",
       "MALIGNANT    0.408352\n",
       "Name: pathology, dtype: float64"
      ]
     },
     "execution_count": 3,
     "metadata": {},
     "output_type": "execute_result"
    }
   ],
   "source": [
    "breast_cancer['pathology'].value_counts(normalize=True)"
   ]
  },
  {
   "attachments": {},
   "cell_type": "markdown",
   "metadata": {},
   "source": [
    "Nesta Etapa, realizamos a separação dos dados em Features e labels"
   ]
  },
  {
   "cell_type": "code",
   "execution_count": 4,
   "metadata": {},
   "outputs": [
    {
     "data": {
      "text/plain": [
       "((3568, 12), (3568,))"
      ]
     },
     "execution_count": 4,
     "metadata": {},
     "output_type": "execute_result"
    }
   ],
   "source": [
    "X, y = breast_cancer.drop('pathology', axis=1), breast_cancer['pathology']\n",
    "X.shape, y.shape"
   ]
  },
  {
   "attachments": {},
   "cell_type": "markdown",
   "metadata": {},
   "source": [
    "Como etapa final do estágio de importação, realizamos a divisão dos dados em treino e teste."
   ]
  },
  {
   "cell_type": "code",
   "execution_count": 5,
   "metadata": {},
   "outputs": [
    {
     "data": {
      "text/plain": [
       "((2676, 12), (892, 12), (2676,), (892,))"
      ]
     },
     "execution_count": 5,
     "metadata": {},
     "output_type": "execute_result"
    }
   ],
   "source": [
    "X_train, X_test, y_train, y_test = train_test_split(X, y)\n",
    "X_train.shape, X_test.shape, y_train.shape, y_test.shape"
   ]
  },
  {
   "attachments": {},
   "cell_type": "markdown",
   "metadata": {},
   "source": [
    "## Pré-Processamento"
   ]
  },
  {
   "attachments": {},
   "cell_type": "markdown",
   "metadata": {},
   "source": [
    "Na etapa de pré-processamento, realizamos o tratamento das variáveis categóricas utilizando a abordagem Label Enconding. "
   ]
  },
  {
   "cell_type": "code",
   "execution_count": 6,
   "metadata": {},
   "outputs": [],
   "source": [
    "y_train = y_train.map({'BENIGN': 0, 'MALIGNANT': 1})\n",
    "y_test = y_test.map({'BENIGN': 0, 'MALIGNANT': 1})"
   ]
  },
  {
   "attachments": {},
   "cell_type": "markdown",
   "metadata": {},
   "source": [
    "## Treinamento do modelo"
   ]
  },
  {
   "attachments": {},
   "cell_type": "markdown",
   "metadata": {},
   "source": [
    "Como estimador, utilizamos o modelo Random Forest Classifier. A configuração do modelo utilizada foi três camadas com 12 neurônios cada."
   ]
  },
  {
   "cell_type": "code",
   "execution_count": 7,
   "metadata": {},
   "outputs": [],
   "source": [
    "cfr = RandomForestClassifier(n_estimators=200)\n",
    "mlp = MLPClassifier(hidden_layer_sizes = (30,30,30))"
   ]
  },
  {
   "attachments": {},
   "cell_type": "markdown",
   "metadata": {},
   "source": [
    "Por fim da etapa de treinamento, realizamos o treinamento do modelo com os dados de treino."
   ]
  },
  {
   "cell_type": "code",
   "execution_count": 8,
   "metadata": {},
   "outputs": [
    {
     "data": {
      "text/plain": [
       "(RandomForestClassifier(n_estimators=200),\n",
       " MLPClassifier(hidden_layer_sizes=(30, 30, 30)))"
      ]
     },
     "execution_count": 8,
     "metadata": {},
     "output_type": "execute_result"
    }
   ],
   "source": [
    "cfr.fit(X_train, y_train), mlp.fit(X_train, y_train)"
   ]
  },
  {
   "attachments": {},
   "cell_type": "markdown",
   "metadata": {},
   "source": [
    "## Previsões e Avaliação"
   ]
  },
  {
   "cell_type": "code",
   "execution_count": 9,
   "metadata": {},
   "outputs": [],
   "source": [
    "predictions_cfr = cfr.predict(X_test)\n",
    "predictions_mlp = mlp.predict(X_test)"
   ]
  },
  {
   "attachments": {},
   "cell_type": "markdown",
   "metadata": {},
   "source": [
    "Avaliamos o modelo Random Forest Classifier"
   ]
  },
  {
   "cell_type": "code",
   "execution_count": 10,
   "metadata": {},
   "outputs": [
    {
     "name": "stdout",
     "output_type": "stream",
     "text": [
      "[[385 146]\n",
      " [197 164]]\n",
      "0.6154708520179372\n"
     ]
    }
   ],
   "source": [
    "print(confusion_matrix(y_test, predictions_cfr))\n",
    "print(accuracy_score(y_test, predictions_cfr))"
   ]
  },
  {
   "attachments": {},
   "cell_type": "markdown",
   "metadata": {},
   "source": [
    "Avaliamos o modelo Multi-Layer Perceptron Classifier"
   ]
  },
  {
   "cell_type": "code",
   "execution_count": 11,
   "metadata": {},
   "outputs": [
    {
     "name": "stdout",
     "output_type": "stream",
     "text": [
      "[[339 192]\n",
      " [224 137]]\n",
      "0.5336322869955157\n"
     ]
    }
   ],
   "source": [
    "print(confusion_matrix(y_test, predictions_mlp))\n",
    "print(accuracy_score(y_test, predictions_mlp))"
   ]
  }
 ],
 "metadata": {
  "kernelspec": {
   "display_name": "radiomica",
   "language": "python",
   "name": "python3"
  },
  "language_info": {
   "codemirror_mode": {
    "name": "ipython",
    "version": 3
   },
   "file_extension": ".py",
   "mimetype": "text/x-python",
   "name": "python",
   "nbconvert_exporter": "python",
   "pygments_lexer": "ipython3",
   "version": "3.10.6"
  },
  "orig_nbformat": 4
 },
 "nbformat": 4,
 "nbformat_minor": 2
}
