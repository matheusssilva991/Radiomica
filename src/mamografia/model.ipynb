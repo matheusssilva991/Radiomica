{
 "cells": [
  {
   "cell_type": "code",
   "execution_count": 1,
   "metadata": {},
   "outputs": [],
   "source": [
    "import pandas as pd\n",
    "import numpy as np\n",
    "from sklearn.ensemble import RandomForestClassifier\n",
    "from sklearn.metrics import (accuracy_score, classification_report,\n",
    "                             confusion_matrix, precision_score, recall_score)\n",
    "from sklearn.model_selection import RandomizedSearchCV, train_test_split, GridSearchCV\n",
    "from sklearn.neighbors import KNeighborsClassifier\n",
    "from keras.models import Sequential\n",
    "from keras.layers import Dense\n",
    "from keras.wrappers.scikit_learn import KerasClassifier"
   ]
  },
  {
   "attachments": {},
   "cell_type": "markdown",
   "metadata": {},
   "source": [
    "# Modelos preditivo para o CBIS-DDSM"
   ]
  },
  {
   "attachments": {},
   "cell_type": "markdown",
   "metadata": {},
   "source": [
    "## Importação"
   ]
  },
  {
   "attachments": {},
   "cell_type": "markdown",
   "metadata": {},
   "source": [
    "Iniciamos com a importação do conjunto de dados e realizamos a visualização das 5 primeiras linhas para verificar a estrutura dos dados."
   ]
  },
  {
   "cell_type": "code",
   "execution_count": 2,
   "metadata": {},
   "outputs": [
    {
     "data": {
      "text/html": [
       "<div>\n",
       "<style scoped>\n",
       "    .dataframe tbody tr th:only-of-type {\n",
       "        vertical-align: middle;\n",
       "    }\n",
       "\n",
       "    .dataframe tbody tr th {\n",
       "        vertical-align: top;\n",
       "    }\n",
       "\n",
       "    .dataframe thead th {\n",
       "        text-align: right;\n",
       "    }\n",
       "</style>\n",
       "<table border=\"1\" class=\"dataframe\">\n",
       "  <thead>\n",
       "    <tr style=\"text-align: right;\">\n",
       "      <th></th>\n",
       "      <th>dissimilarity_ang_0_dist_1</th>\n",
       "      <th>dissimilarity_ang_45_dist_1</th>\n",
       "      <th>dissimilarity_ang_90_dist_1</th>\n",
       "      <th>dissimilarity_ang_135_dist_1</th>\n",
       "      <th>dissimilarity_ang_0_dist_5</th>\n",
       "      <th>dissimilarity_ang_45_dist_5</th>\n",
       "      <th>dissimilarity_ang_90_dist_5</th>\n",
       "      <th>dissimilarity_ang_135_dist_5</th>\n",
       "      <th>correlation_ang_0_dist_1</th>\n",
       "      <th>correlation_ang_45_dist_1</th>\n",
       "      <th>...</th>\n",
       "      <th>ASM_ang_135_dist_5</th>\n",
       "      <th>energy_ang_0_dist_1</th>\n",
       "      <th>energy_ang_45_dist_1</th>\n",
       "      <th>energy_ang_90_dist_1</th>\n",
       "      <th>energy_ang_135_dist_1</th>\n",
       "      <th>energy_ang_0_dist_5</th>\n",
       "      <th>energy_ang_45_dist_5</th>\n",
       "      <th>energy_ang_90_dist_5</th>\n",
       "      <th>energy_ang_135_dist_5</th>\n",
       "      <th>pathology</th>\n",
       "    </tr>\n",
       "  </thead>\n",
       "  <tbody>\n",
       "    <tr>\n",
       "      <th>0</th>\n",
       "      <td>0.796989</td>\n",
       "      <td>0.936951</td>\n",
       "      <td>0.853886</td>\n",
       "      <td>0.960574</td>\n",
       "      <td>1.221642</td>\n",
       "      <td>1.273973</td>\n",
       "      <td>1.215032</td>\n",
       "      <td>1.254506</td>\n",
       "      <td>0.998690</td>\n",
       "      <td>0.998135</td>\n",
       "      <td>...</td>\n",
       "      <td>0.474284</td>\n",
       "      <td>0.689123</td>\n",
       "      <td>0.689054</td>\n",
       "      <td>0.689091</td>\n",
       "      <td>0.689045</td>\n",
       "      <td>0.688969</td>\n",
       "      <td>0.688673</td>\n",
       "      <td>0.688494</td>\n",
       "      <td>0.688683</td>\n",
       "      <td>BENIGN</td>\n",
       "    </tr>\n",
       "    <tr>\n",
       "      <th>1</th>\n",
       "      <td>1.231098</td>\n",
       "      <td>1.446281</td>\n",
       "      <td>1.325998</td>\n",
       "      <td>1.504659</td>\n",
       "      <td>1.892971</td>\n",
       "      <td>1.935957</td>\n",
       "      <td>1.928993</td>\n",
       "      <td>2.033930</td>\n",
       "      <td>0.998911</td>\n",
       "      <td>0.998513</td>\n",
       "      <td>...</td>\n",
       "      <td>0.265534</td>\n",
       "      <td>0.516184</td>\n",
       "      <td>0.515934</td>\n",
       "      <td>0.516062</td>\n",
       "      <td>0.515914</td>\n",
       "      <td>0.515431</td>\n",
       "      <td>0.515333</td>\n",
       "      <td>0.515394</td>\n",
       "      <td>0.515299</td>\n",
       "      <td>BENIGN</td>\n",
       "    </tr>\n",
       "    <tr>\n",
       "      <th>2</th>\n",
       "      <td>0.786669</td>\n",
       "      <td>0.931541</td>\n",
       "      <td>0.833982</td>\n",
       "      <td>0.958347</td>\n",
       "      <td>1.226459</td>\n",
       "      <td>1.345679</td>\n",
       "      <td>1.341300</td>\n",
       "      <td>1.388960</td>\n",
       "      <td>0.998686</td>\n",
       "      <td>0.998076</td>\n",
       "      <td>...</td>\n",
       "      <td>0.481677</td>\n",
       "      <td>0.694554</td>\n",
       "      <td>0.694418</td>\n",
       "      <td>0.694455</td>\n",
       "      <td>0.694378</td>\n",
       "      <td>0.694268</td>\n",
       "      <td>0.694150</td>\n",
       "      <td>0.693838</td>\n",
       "      <td>0.694030</td>\n",
       "      <td>BENIGN_WITHOUT_CALLBACK</td>\n",
       "    </tr>\n",
       "    <tr>\n",
       "      <th>3</th>\n",
       "      <td>0.786669</td>\n",
       "      <td>0.931541</td>\n",
       "      <td>0.833982</td>\n",
       "      <td>0.958347</td>\n",
       "      <td>1.226459</td>\n",
       "      <td>1.345679</td>\n",
       "      <td>1.341300</td>\n",
       "      <td>1.388960</td>\n",
       "      <td>0.998686</td>\n",
       "      <td>0.998076</td>\n",
       "      <td>...</td>\n",
       "      <td>0.481677</td>\n",
       "      <td>0.694554</td>\n",
       "      <td>0.694418</td>\n",
       "      <td>0.694455</td>\n",
       "      <td>0.694378</td>\n",
       "      <td>0.694268</td>\n",
       "      <td>0.694150</td>\n",
       "      <td>0.693838</td>\n",
       "      <td>0.694030</td>\n",
       "      <td>BENIGN_WITHOUT_CALLBACK</td>\n",
       "    </tr>\n",
       "    <tr>\n",
       "      <th>4</th>\n",
       "      <td>1.147424</td>\n",
       "      <td>1.354507</td>\n",
       "      <td>1.186222</td>\n",
       "      <td>1.370834</td>\n",
       "      <td>1.769945</td>\n",
       "      <td>1.864975</td>\n",
       "      <td>1.730289</td>\n",
       "      <td>1.803568</td>\n",
       "      <td>0.998917</td>\n",
       "      <td>0.998541</td>\n",
       "      <td>...</td>\n",
       "      <td>0.301330</td>\n",
       "      <td>0.549273</td>\n",
       "      <td>0.549286</td>\n",
       "      <td>0.549392</td>\n",
       "      <td>0.549245</td>\n",
       "      <td>0.548992</td>\n",
       "      <td>0.548983</td>\n",
       "      <td>0.548912</td>\n",
       "      <td>0.548935</td>\n",
       "      <td>BENIGN_WITHOUT_CALLBACK</td>\n",
       "    </tr>\n",
       "  </tbody>\n",
       "</table>\n",
       "<p>5 rows × 49 columns</p>\n",
       "</div>"
      ],
      "text/plain": [
       "   dissimilarity_ang_0_dist_1  dissimilarity_ang_45_dist_1  \\\n",
       "0                    0.796989                     0.936951   \n",
       "1                    1.231098                     1.446281   \n",
       "2                    0.786669                     0.931541   \n",
       "3                    0.786669                     0.931541   \n",
       "4                    1.147424                     1.354507   \n",
       "\n",
       "   dissimilarity_ang_90_dist_1  dissimilarity_ang_135_dist_1  \\\n",
       "0                     0.853886                      0.960574   \n",
       "1                     1.325998                      1.504659   \n",
       "2                     0.833982                      0.958347   \n",
       "3                     0.833982                      0.958347   \n",
       "4                     1.186222                      1.370834   \n",
       "\n",
       "   dissimilarity_ang_0_dist_5  dissimilarity_ang_45_dist_5  \\\n",
       "0                    1.221642                     1.273973   \n",
       "1                    1.892971                     1.935957   \n",
       "2                    1.226459                     1.345679   \n",
       "3                    1.226459                     1.345679   \n",
       "4                    1.769945                     1.864975   \n",
       "\n",
       "   dissimilarity_ang_90_dist_5  dissimilarity_ang_135_dist_5  \\\n",
       "0                     1.215032                      1.254506   \n",
       "1                     1.928993                      2.033930   \n",
       "2                     1.341300                      1.388960   \n",
       "3                     1.341300                      1.388960   \n",
       "4                     1.730289                      1.803568   \n",
       "\n",
       "   correlation_ang_0_dist_1  correlation_ang_45_dist_1  ...  \\\n",
       "0                  0.998690                   0.998135  ...   \n",
       "1                  0.998911                   0.998513  ...   \n",
       "2                  0.998686                   0.998076  ...   \n",
       "3                  0.998686                   0.998076  ...   \n",
       "4                  0.998917                   0.998541  ...   \n",
       "\n",
       "   ASM_ang_135_dist_5  energy_ang_0_dist_1  energy_ang_45_dist_1  \\\n",
       "0            0.474284             0.689123              0.689054   \n",
       "1            0.265534             0.516184              0.515934   \n",
       "2            0.481677             0.694554              0.694418   \n",
       "3            0.481677             0.694554              0.694418   \n",
       "4            0.301330             0.549273              0.549286   \n",
       "\n",
       "   energy_ang_90_dist_1  energy_ang_135_dist_1  energy_ang_0_dist_5  \\\n",
       "0              0.689091               0.689045             0.688969   \n",
       "1              0.516062               0.515914             0.515431   \n",
       "2              0.694455               0.694378             0.694268   \n",
       "3              0.694455               0.694378             0.694268   \n",
       "4              0.549392               0.549245             0.548992   \n",
       "\n",
       "   energy_ang_45_dist_5  energy_ang_90_dist_5  energy_ang_135_dist_5  \\\n",
       "0              0.688673              0.688494               0.688683   \n",
       "1              0.515333              0.515394               0.515299   \n",
       "2              0.694150              0.693838               0.694030   \n",
       "3              0.694150              0.693838               0.694030   \n",
       "4              0.548983              0.548912               0.548935   \n",
       "\n",
       "                 pathology  \n",
       "0                   BENIGN  \n",
       "1                   BENIGN  \n",
       "2  BENIGN_WITHOUT_CALLBACK  \n",
       "3  BENIGN_WITHOUT_CALLBACK  \n",
       "4  BENIGN_WITHOUT_CALLBACK  \n",
       "\n",
       "[5 rows x 49 columns]"
      ]
     },
     "execution_count": 2,
     "metadata": {},
     "output_type": "execute_result"
    }
   ],
   "source": [
    "breast_cancer = pd.read_csv(\"../../outputs/mamografia/matriz_features_glcm.csv\")\n",
    "breast_cancer.head()"
   ]
  },
  {
   "attachments": {},
   "cell_type": "markdown",
   "metadata": {},
   "source": [
    "Como próximo passo, verificamos a distribuição das classes. Após análizar, foi visto que cerca de 60% dos dados são da classe BENIGN e o restante 40% são da classe MALIGNANT. "
   ]
  },
  {
   "cell_type": "code",
   "execution_count": 3,
   "metadata": {},
   "outputs": [
    {
     "data": {
      "text/plain": [
       "BENIGN       0.591648\n",
       "MALIGNANT    0.408352\n",
       "Name: pathology, dtype: float64"
      ]
     },
     "execution_count": 3,
     "metadata": {},
     "output_type": "execute_result"
    }
   ],
   "source": [
    "breast_cancer['pathology'] = breast_cancer['pathology'].replace(\"BENIGN_WITHOUT_CALLBACK\", \"BENIGN\")\n",
    "breast_cancer['pathology'].value_counts(normalize=True)"
   ]
  },
  {
   "attachments": {},
   "cell_type": "markdown",
   "metadata": {},
   "source": [
    "Nesta Etapa, realizamos a separação dos dados em Features e labels"
   ]
  },
  {
   "cell_type": "code",
   "execution_count": 4,
   "metadata": {},
   "outputs": [
    {
     "data": {
      "text/plain": [
       "((3568, 48), (3568,))"
      ]
     },
     "execution_count": 4,
     "metadata": {},
     "output_type": "execute_result"
    }
   ],
   "source": [
    "X, y = breast_cancer.drop('pathology', axis=1), breast_cancer['pathology']\n",
    "X.shape, y.shape"
   ]
  },
  {
   "attachments": {},
   "cell_type": "markdown",
   "metadata": {},
   "source": [
    "Como etapa final do estágio de importação, realizamos a divisão dos dados em treino e teste."
   ]
  },
  {
   "cell_type": "code",
   "execution_count": 5,
   "metadata": {},
   "outputs": [
    {
     "data": {
      "text/plain": [
       "((2676, 48), (892, 48), (2676,), (892,))"
      ]
     },
     "execution_count": 5,
     "metadata": {},
     "output_type": "execute_result"
    }
   ],
   "source": [
    "X_train, X_test, y_train, y_test = train_test_split(X, y)\n",
    "X_train.shape, X_test.shape, y_train.shape, y_test.shape"
   ]
  },
  {
   "attachments": {},
   "cell_type": "markdown",
   "metadata": {},
   "source": [
    "## Pré-Processamento"
   ]
  },
  {
   "attachments": {},
   "cell_type": "markdown",
   "metadata": {},
   "source": [
    "Na etapa de pré-processamento, realizamos o tratamento das variáveis categóricas utilizando a abordagem Label Enconding. "
   ]
  },
  {
   "cell_type": "code",
   "execution_count": 6,
   "metadata": {},
   "outputs": [],
   "source": [
    "y_train = y_train.map({'BENIGN': 0, 'MALIGNANT': 1})\n",
    "y_test = y_test.map({'BENIGN': 0, 'MALIGNANT': 1})"
   ]
  },
  {
   "attachments": {},
   "cell_type": "markdown",
   "metadata": {},
   "source": [
    "## Treinamento e Previsão dos modelos"
   ]
  },
  {
   "attachments": {},
   "cell_type": "markdown",
   "metadata": {},
   "source": [
    "Random Forest Classifier"
   ]
  },
  {
   "cell_type": "code",
   "execution_count": 7,
   "metadata": {},
   "outputs": [],
   "source": [
    "angles = ['0', '45', '90', '135']\n",
    "distances = ['1', '5']\n",
    "\n",
    "# Treina com todos os angulos e distancias\n",
    "cfr = RandomForestClassifier(n_estimators=150, max_depth=11)\n",
    "cfr.fit(X_train, y_train)\n",
    "predict = cfr.predict(X_test)\n",
    "\n",
    "predicts = {'RandomForestClassifier': { 'all': predict }}\n",
    "scores = {'RandomForestClassifier': {'all': {'accuracy_score': accuracy_score(y_test, predict),\n",
    "                                             'recall_score': recall_score(y_test, predict),\n",
    "                                             'precision_score': precision_score(y_test, predict)}}}\n",
    "\n",
    "for distance in distances:\n",
    "    for angle in angles:\n",
    "        columns =  [column for column in X_train.columns if f'ang_{angle}_dist_{distance}' in column]\n",
    "        X_train_filtered = X_train.loc[::, columns]\n",
    "        X_test_filtered = X_test.loc[::, columns]\n",
    "        \n",
    "        cfr = RandomForestClassifier(n_estimators=150, max_depth=11)\n",
    "        cfr.fit(X_train_filtered, y_train)\n",
    "        predict = cfr.predict(X_test_filtered)\n",
    "        \n",
    "        predicts['RandomForestClassifier'][f'ang_{angle}_dist_{distance}'] = predict\n",
    "        scores['RandomForestClassifier'][f'ang_{angle}_dist_{distance}'] = {\n",
    "                                                'accuracy_score': accuracy_score(y_test, predict),\n",
    "                                                'recall_score': recall_score(y_test, predict),\n",
    "                                                'precision_score': precision_score(y_test, predict)\n",
    "                                            }"
   ]
  },
  {
   "attachments": {},
   "cell_type": "markdown",
   "metadata": {},
   "source": [
    "KNeighborsClassifier"
   ]
  },
  {
   "cell_type": "code",
   "execution_count": 8,
   "metadata": {},
   "outputs": [],
   "source": [
    "angles = ['0', '45', '90', '135']\n",
    "distances = ['1', '5']\n",
    "\n",
    "# Treina com todos os angulos e distancias\n",
    "cKNN = KNeighborsClassifier(n_neighbors=4)\n",
    "cKNN.fit(X_train, y_train)\n",
    "predict = cKNN.predict(X_test)\n",
    "\n",
    "predicts['KNeighborsClassifier'] = { 'all': predict }\n",
    "scores['KNeighborsClassifier'] = {'all': {'accuracy_score': accuracy_score(y_test, predict),\n",
    "                                             'recall_score': recall_score(y_test, predict),\n",
    "                                             'precision_score': precision_score(y_test, predict)}}\n",
    "\n",
    "for distance in distances:\n",
    "    for angle in angles:\n",
    "        columns =  [column for column in X_train.columns if f'ang_{angle}_dist_{distance}' in column]\n",
    "        X_train_filtered = X_train.loc[::, columns]\n",
    "        X_test_filtered = X_test.loc[::, columns]\n",
    "        \n",
    "        cKNN = KNeighborsClassifier(n_neighbors=4)\n",
    "        cKNN.fit(X_train_filtered, y_train)\n",
    "        predict = cKNN.predict(X_test_filtered)\n",
    "        \n",
    "        predicts['KNeighborsClassifier'][f'ang_{angle}_dist_{distance}'] = predict\n",
    "        scores['KNeighborsClassifier'][f'ang_{angle}_dist_{distance}'] = {\n",
    "                                                'accuracy_score': accuracy_score(y_test, predict),\n",
    "                                                'recall_score': recall_score(y_test, predict),\n",
    "                                                'precision_score': precision_score(y_test, predict)\n",
    "                                        }"
   ]
  },
  {
   "attachments": {},
   "cell_type": "markdown",
   "metadata": {},
   "source": [
    "Multilayer Perceptron"
   ]
  },
  {
   "cell_type": "code",
   "execution_count": 9,
   "metadata": {},
   "outputs": [
    {
     "name": "stdout",
     "output_type": "stream",
     "text": [
      "28/28 [==============================] - 0s 1ms/step\n",
      "28/28 [==============================] - 0s 1ms/step\n",
      "28/28 [==============================] - 0s 852us/step\n",
      "28/28 [==============================] - 0s 797us/step\n",
      "28/28 [==============================] - 0s 741us/step\n",
      "28/28 [==============================] - 0s 815us/step\n",
      "28/28 [==============================] - 0s 778us/step\n",
      "28/28 [==============================] - 0s 778us/step\n",
      "28/28 [==============================] - 0s 778us/step\n"
     ]
    }
   ],
   "source": [
    "# Função para criar o modelo do Keras\n",
    "def create_model(shape):\n",
    "    model = Sequential()\n",
    "    model.add(Dense(100, input_dim=shape, activation='relu'))\n",
    "    model.add(Dense(100, activation='relu'))\n",
    "    model.add(Dense(1, activation='sigmoid'))\n",
    "    model.compile(loss='binary_crossentropy', optimizer='adam', metrics=['accuracy'])\n",
    "    return model\n",
    "\n",
    "angles = ['0', '45', '90', '135']\n",
    "distances = ['1', '5']\n",
    "\n",
    "# Treina com todos os angulos e distancias\n",
    "model = create_model(X_train.shape[1])\n",
    "model.fit(X_train, y_train, epochs=150, batch_size=32, verbose=0)\n",
    "predict = model.predict(X_test)\n",
    "predict = np.vectorize(lambda value: 1 if value > 0.5 else 0)(predict)\n",
    "\n",
    "predicts['MultilayerPerceptron'] = { 'all': predict }\n",
    "scores['MultilayerPerceptron'] = {'all': {'accuracy_score': accuracy_score(y_test, predict),\n",
    "                                             'recall_score': recall_score(y_test, predict),\n",
    "                                             'precision_score': precision_score(y_test, predict)}}\n",
    "\n",
    "for distance in distances:\n",
    "    for angle in angles:\n",
    "        columns =  [column for column in X_train.columns if f'ang_{angle}_dist_{distance}' in column]\n",
    "        X_train_filtered = X_train.loc[::, columns]\n",
    "        X_test_filtered = X_test.loc[::, columns]\n",
    "        \n",
    "        model = create_model(X_train_filtered.shape[1])\n",
    "        model.fit(X_train_filtered, y_train, epochs=150, batch_size=32, verbose=0)\n",
    "        predict = model.predict(X_test_filtered)\n",
    "        predict = np.vectorize(lambda value: 1 if value > 0.5 else 0)(predict)\n",
    "        \n",
    "        predicts['MultilayerPerceptron'][f'ang_{angle}_dist_{distance}'] = predict\n",
    "        scores['MultilayerPerceptron'][f'ang_{angle}_dist_{distance}'] = {\n",
    "                                                'accuracy_score': accuracy_score(y_test, predict),\n",
    "                                                'recall_score': recall_score(y_test, predict),\n",
    "                                                'precision_score': precision_score(y_test, predict)\n",
    "                                        }"
   ]
  },
  {
   "attachments": {},
   "cell_type": "markdown",
   "metadata": {},
   "source": [
    "## Avaliação dos modelos"
   ]
  },
  {
   "attachments": {},
   "cell_type": "markdown",
   "metadata": {},
   "source": [
    "Avaliamos o modelo Random Forest Classifier"
   ]
  },
  {
   "cell_type": "code",
   "execution_count": 10,
   "metadata": {},
   "outputs": [
    {
     "data": {
      "text/html": [
       "<div>\n",
       "<style scoped>\n",
       "    .dataframe tbody tr th:only-of-type {\n",
       "        vertical-align: middle;\n",
       "    }\n",
       "\n",
       "    .dataframe tbody tr th {\n",
       "        vertical-align: top;\n",
       "    }\n",
       "\n",
       "    .dataframe thead th {\n",
       "        text-align: right;\n",
       "    }\n",
       "</style>\n",
       "<table border=\"1\" class=\"dataframe\">\n",
       "  <thead>\n",
       "    <tr style=\"text-align: right;\">\n",
       "      <th></th>\n",
       "      <th>all</th>\n",
       "      <th>ang_0_dist_1</th>\n",
       "      <th>ang_45_dist_1</th>\n",
       "      <th>ang_90_dist_1</th>\n",
       "      <th>ang_135_dist_1</th>\n",
       "      <th>ang_0_dist_5</th>\n",
       "      <th>ang_45_dist_5</th>\n",
       "      <th>ang_90_dist_5</th>\n",
       "      <th>ang_135_dist_5</th>\n",
       "    </tr>\n",
       "  </thead>\n",
       "  <tbody>\n",
       "    <tr>\n",
       "      <th>accuracy_score</th>\n",
       "      <td>0.688341</td>\n",
       "      <td>0.668161</td>\n",
       "      <td>0.654709</td>\n",
       "      <td>0.670404</td>\n",
       "      <td>0.659193</td>\n",
       "      <td>0.658072</td>\n",
       "      <td>0.653587</td>\n",
       "      <td>0.653587</td>\n",
       "      <td>0.668161</td>\n",
       "    </tr>\n",
       "    <tr>\n",
       "      <th>recall_score</th>\n",
       "      <td>0.448468</td>\n",
       "      <td>0.373259</td>\n",
       "      <td>0.401114</td>\n",
       "      <td>0.428969</td>\n",
       "      <td>0.406685</td>\n",
       "      <td>0.367688</td>\n",
       "      <td>0.359331</td>\n",
       "      <td>0.376045</td>\n",
       "      <td>0.353760</td>\n",
       "    </tr>\n",
       "    <tr>\n",
       "      <th>precision_score</th>\n",
       "      <td>0.668050</td>\n",
       "      <td>0.653659</td>\n",
       "      <td>0.607595</td>\n",
       "      <td>0.633745</td>\n",
       "      <td>0.616034</td>\n",
       "      <td>0.628571</td>\n",
       "      <td>0.620192</td>\n",
       "      <td>0.613636</td>\n",
       "      <td>0.664921</td>\n",
       "    </tr>\n",
       "  </tbody>\n",
       "</table>\n",
       "</div>"
      ],
      "text/plain": [
       "                      all  ang_0_dist_1  ang_45_dist_1  ang_90_dist_1  \\\n",
       "accuracy_score   0.688341      0.668161       0.654709       0.670404   \n",
       "recall_score     0.448468      0.373259       0.401114       0.428969   \n",
       "precision_score  0.668050      0.653659       0.607595       0.633745   \n",
       "\n",
       "                 ang_135_dist_1  ang_0_dist_5  ang_45_dist_5  ang_90_dist_5  \\\n",
       "accuracy_score         0.659193      0.658072       0.653587       0.653587   \n",
       "recall_score           0.406685      0.367688       0.359331       0.376045   \n",
       "precision_score        0.616034      0.628571       0.620192       0.613636   \n",
       "\n",
       "                 ang_135_dist_5  \n",
       "accuracy_score         0.668161  \n",
       "recall_score           0.353760  \n",
       "precision_score        0.664921  "
      ]
     },
     "execution_count": 10,
     "metadata": {},
     "output_type": "execute_result"
    }
   ],
   "source": [
    "scores_cfr = pd.DataFrame(scores['RandomForestClassifier'])\n",
    "scores_cfr"
   ]
  },
  {
   "attachments": {},
   "cell_type": "markdown",
   "metadata": {},
   "source": [
    "Avaliamos o modelo Kneighbor Classifier"
   ]
  },
  {
   "cell_type": "code",
   "execution_count": 11,
   "metadata": {},
   "outputs": [
    {
     "data": {
      "text/html": [
       "<div>\n",
       "<style scoped>\n",
       "    .dataframe tbody tr th:only-of-type {\n",
       "        vertical-align: middle;\n",
       "    }\n",
       "\n",
       "    .dataframe tbody tr th {\n",
       "        vertical-align: top;\n",
       "    }\n",
       "\n",
       "    .dataframe thead th {\n",
       "        text-align: right;\n",
       "    }\n",
       "</style>\n",
       "<table border=\"1\" class=\"dataframe\">\n",
       "  <thead>\n",
       "    <tr style=\"text-align: right;\">\n",
       "      <th></th>\n",
       "      <th>all</th>\n",
       "      <th>ang_0_dist_1</th>\n",
       "      <th>ang_45_dist_1</th>\n",
       "      <th>ang_90_dist_1</th>\n",
       "      <th>ang_135_dist_1</th>\n",
       "      <th>ang_0_dist_5</th>\n",
       "      <th>ang_45_dist_5</th>\n",
       "      <th>ang_90_dist_5</th>\n",
       "      <th>ang_135_dist_5</th>\n",
       "    </tr>\n",
       "  </thead>\n",
       "  <tbody>\n",
       "    <tr>\n",
       "      <th>accuracy_score</th>\n",
       "      <td>0.634529</td>\n",
       "      <td>0.619955</td>\n",
       "      <td>0.626682</td>\n",
       "      <td>0.624439</td>\n",
       "      <td>0.610987</td>\n",
       "      <td>0.595291</td>\n",
       "      <td>0.600897</td>\n",
       "      <td>0.595291</td>\n",
       "      <td>0.610987</td>\n",
       "    </tr>\n",
       "    <tr>\n",
       "      <th>recall_score</th>\n",
       "      <td>0.331476</td>\n",
       "      <td>0.298050</td>\n",
       "      <td>0.289694</td>\n",
       "      <td>0.328691</td>\n",
       "      <td>0.286908</td>\n",
       "      <td>0.259053</td>\n",
       "      <td>0.264624</td>\n",
       "      <td>0.300836</td>\n",
       "      <td>0.295265</td>\n",
       "    </tr>\n",
       "    <tr>\n",
       "      <th>precision_score</th>\n",
       "      <td>0.580488</td>\n",
       "      <td>0.551546</td>\n",
       "      <td>0.571429</td>\n",
       "      <td>0.556604</td>\n",
       "      <td>0.530928</td>\n",
       "      <td>0.494681</td>\n",
       "      <td>0.508021</td>\n",
       "      <td>0.495413</td>\n",
       "      <td>0.530000</td>\n",
       "    </tr>\n",
       "  </tbody>\n",
       "</table>\n",
       "</div>"
      ],
      "text/plain": [
       "                      all  ang_0_dist_1  ang_45_dist_1  ang_90_dist_1  \\\n",
       "accuracy_score   0.634529      0.619955       0.626682       0.624439   \n",
       "recall_score     0.331476      0.298050       0.289694       0.328691   \n",
       "precision_score  0.580488      0.551546       0.571429       0.556604   \n",
       "\n",
       "                 ang_135_dist_1  ang_0_dist_5  ang_45_dist_5  ang_90_dist_5  \\\n",
       "accuracy_score         0.610987      0.595291       0.600897       0.595291   \n",
       "recall_score           0.286908      0.259053       0.264624       0.300836   \n",
       "precision_score        0.530928      0.494681       0.508021       0.495413   \n",
       "\n",
       "                 ang_135_dist_5  \n",
       "accuracy_score         0.610987  \n",
       "recall_score           0.295265  \n",
       "precision_score        0.530000  "
      ]
     },
     "execution_count": 11,
     "metadata": {},
     "output_type": "execute_result"
    }
   ],
   "source": [
    "scores_cKNN = pd.DataFrame(scores['KNeighborsClassifier'])\n",
    "scores_cKNN"
   ]
  },
  {
   "cell_type": "code",
   "execution_count": 12,
   "metadata": {},
   "outputs": [
    {
     "data": {
      "text/html": [
       "<div>\n",
       "<style scoped>\n",
       "    .dataframe tbody tr th:only-of-type {\n",
       "        vertical-align: middle;\n",
       "    }\n",
       "\n",
       "    .dataframe tbody tr th {\n",
       "        vertical-align: top;\n",
       "    }\n",
       "\n",
       "    .dataframe thead th {\n",
       "        text-align: right;\n",
       "    }\n",
       "</style>\n",
       "<table border=\"1\" class=\"dataframe\">\n",
       "  <thead>\n",
       "    <tr style=\"text-align: right;\">\n",
       "      <th></th>\n",
       "      <th>all</th>\n",
       "      <th>ang_0_dist_1</th>\n",
       "      <th>ang_45_dist_1</th>\n",
       "      <th>ang_90_dist_1</th>\n",
       "      <th>ang_135_dist_1</th>\n",
       "      <th>ang_0_dist_5</th>\n",
       "      <th>ang_45_dist_5</th>\n",
       "      <th>ang_90_dist_5</th>\n",
       "      <th>ang_135_dist_5</th>\n",
       "    </tr>\n",
       "  </thead>\n",
       "  <tbody>\n",
       "    <tr>\n",
       "      <th>accuracy_score</th>\n",
       "      <td>0.665919</td>\n",
       "      <td>0.623318</td>\n",
       "      <td>0.625561</td>\n",
       "      <td>0.642377</td>\n",
       "      <td>0.624439</td>\n",
       "      <td>0.588565</td>\n",
       "      <td>0.616592</td>\n",
       "      <td>0.637892</td>\n",
       "      <td>0.610987</td>\n",
       "    </tr>\n",
       "    <tr>\n",
       "      <th>recall_score</th>\n",
       "      <td>0.481894</td>\n",
       "      <td>0.116992</td>\n",
       "      <td>0.164345</td>\n",
       "      <td>0.345404</td>\n",
       "      <td>0.167131</td>\n",
       "      <td>0.091922</td>\n",
       "      <td>0.108635</td>\n",
       "      <td>0.192201</td>\n",
       "      <td>0.125348</td>\n",
       "    </tr>\n",
       "    <tr>\n",
       "      <th>precision_score</th>\n",
       "      <td>0.607018</td>\n",
       "      <td>0.688525</td>\n",
       "      <td>0.634409</td>\n",
       "      <td>0.596154</td>\n",
       "      <td>0.625000</td>\n",
       "      <td>0.445946</td>\n",
       "      <td>0.639344</td>\n",
       "      <td>0.676471</td>\n",
       "      <td>0.576923</td>\n",
       "    </tr>\n",
       "  </tbody>\n",
       "</table>\n",
       "</div>"
      ],
      "text/plain": [
       "                      all  ang_0_dist_1  ang_45_dist_1  ang_90_dist_1  \\\n",
       "accuracy_score   0.665919      0.623318       0.625561       0.642377   \n",
       "recall_score     0.481894      0.116992       0.164345       0.345404   \n",
       "precision_score  0.607018      0.688525       0.634409       0.596154   \n",
       "\n",
       "                 ang_135_dist_1  ang_0_dist_5  ang_45_dist_5  ang_90_dist_5  \\\n",
       "accuracy_score         0.624439      0.588565       0.616592       0.637892   \n",
       "recall_score           0.167131      0.091922       0.108635       0.192201   \n",
       "precision_score        0.625000      0.445946       0.639344       0.676471   \n",
       "\n",
       "                 ang_135_dist_5  \n",
       "accuracy_score         0.610987  \n",
       "recall_score           0.125348  \n",
       "precision_score        0.576923  "
      ]
     },
     "execution_count": 12,
     "metadata": {},
     "output_type": "execute_result"
    }
   ],
   "source": [
    "scores_mlp = pd.DataFrame(scores['MultilayerPerceptron'])\n",
    "scores_mlp"
   ]
  }
 ],
 "metadata": {
  "kernelspec": {
   "display_name": "radiomica",
   "language": "python",
   "name": "python3"
  },
  "language_info": {
   "codemirror_mode": {
    "name": "ipython",
    "version": 3
   },
   "file_extension": ".py",
   "mimetype": "text/x-python",
   "name": "python",
   "nbconvert_exporter": "python",
   "pygments_lexer": "ipython3",
   "version": "3.10.11"
  },
  "orig_nbformat": 4
 },
 "nbformat": 4,
 "nbformat_minor": 2
}
