{
 "cells": [
  {
   "cell_type": "code",
   "execution_count": 1,
   "metadata": {},
   "outputs": [],
   "source": [
    "import os, sys\n",
    "sys.path.insert(0, \"\\\\\".join(os.path.abspath(os.curdir).split(\"\\\\\")[:-2:]))\n",
    "from pathlib import Path\n",
    "\n",
    "from pydicom import dcmread\n",
    "import pandas as pd\n",
    "import numpy as np\n",
    "\n",
    "from src.utils.utils import *"
   ]
  },
  {
   "cell_type": "markdown",
   "metadata": {},
   "source": [
    "# Catalogar dados"
   ]
  },
  {
   "attachments": {},
   "cell_type": "markdown",
   "metadata": {},
   "source": [
    "### Pegar Metadados em csv e dicom - DDSM"
   ]
  },
  {
   "cell_type": "code",
   "execution_count": 2,
   "metadata": {},
   "outputs": [],
   "source": [
    "def get_study_metadata(paths: dict, metadata_csv: object, indice: int) -> dict:\n",
    "    # Pega metadados no dataframe\n",
    "    dic_meta_in_csv = {}  \n",
    "    \n",
    "    for col in metadata_csv.iloc[::, :11:].columns.tolist():\n",
    "        if isinstance(metadata_csv[col][indice], np.integer):\n",
    "            dic_meta_in_csv[col] = int(metadata_csv[col][indice])\n",
    "        elif pd.isna(metadata_csv[col][indice]):\n",
    "            dic_meta_in_csv[col] = \"NaN\"\n",
    "        else:\n",
    "            dic_meta_in_csv[col] = metadata_csv[col][indice]\n",
    "    \n",
    "    # Pega metadados no objeto dicom\n",
    "    metadata_dicom_files = {\"original\": [], \"cropped\": []}\n",
    "    \n",
    "    for key, path in paths.items():\n",
    "        path_exam_files = f\"D:/mathe/Documents/BancoDados_IC/CBIS-DDSM/{path}/\"\n",
    "        directory = Path(path_exam_files)\n",
    "        paths_dicom_images = list(directory.rglob(\"*.dcm*\"))\n",
    "        \n",
    "        #Adicionar path da imagem no metadados do csv\n",
    "        dic_meta_in_csv[f'{key}_image_path'] = str(paths_dicom_images[0]).replace(\"\\\\\", \"/\").split(\"/\")\n",
    "        dic_meta_in_csv[f'{key}_image_path'].pop() # Retira o nome do arquivo Dicom do Path\n",
    "        dic_meta_in_csv[f'{key}_image_path'] = \"/\".join(dic_meta_in_csv[f'{key}_image_path'])\n",
    "        \n",
    "        for path_dicom in paths_dicom_images:\n",
    "            dicom_file = dcmread(path_dicom)\n",
    "            metadata_dicom_files[key].append(get_dicom_meta(dicom_file, False))\n",
    "    \n",
    "    return study_factory(paths['original'], dic_meta_in_csv, metadata_dicom_files)"
   ]
  },
  {
   "attachments": {},
   "cell_type": "markdown",
   "metadata": {},
   "source": [
    "### Salvar metadados arquivos Json - DDSM"
   ]
  },
  {
   "cell_type": "code",
   "execution_count": 3,
   "metadata": {},
   "outputs": [],
   "source": [
    "metadata_files = ['calc_case_description_test_set',\n",
    "             'mass_case_description_train_set',\n",
    "             'calc_case_description_train_set',\n",
    "             'mass_case_description_test_set']\n",
    "\n",
    "images_size_ddsm = []\n",
    "\n",
    "for current_meta in metadata_files:\n",
    "    df = pd.read_csv(f\"../../metadata/mamografia/raw/DDSM/{current_meta}.csv\")\n",
    "    \n",
    "    studies = []\n",
    "    for i in range(df.shape[0]):\n",
    "        original_image_path = df.iloc[i][11]\n",
    "        cropped_images_path = df.iloc[i][12]\n",
    "        \n",
    "        original_image_path = preprocessing_path(original_image_path)\n",
    "        cropped_images_path = preprocessing_path(cropped_images_path)\n",
    "        \n",
    "        metadata = df.iloc[::, :11:]\n",
    "        all_image_path = {\"original\": original_image_path, \"cropped\":cropped_images_path}\n",
    "        \n",
    "        path = f\"D:/mathe/Documents/BancoDados_IC/CBIS-DDSM\"\n",
    "        path = f\"{path}/{all_image_path['original']}/\"\n",
    "        \n",
    "        tmp = get_images_size(path, \"dcm\", True)\n",
    "        for img_size in tmp:\n",
    "            images_size_ddsm.append(img_size)\n",
    "        \n",
    "        #studies.append(get_study_metadata(all_image_path, metadata, i))\n",
    "    #save_json(current_meta, studies, f\"../../metadata/mamografia/extracted_metadata/csv_and_dicom_DSSM\") \n",
    "\n",
    "images_size_ddsm = pd.DataFrame({'size_mb': images_size_ddsm, 'database': 'DDSM'})"
   ]
  },
  {
   "attachments": {},
   "cell_type": "markdown",
   "metadata": {},
   "source": [
    "### Pegar Metadados em csv e dicom - CMMD"
   ]
  },
  {
   "cell_type": "code",
   "execution_count": 4,
   "metadata": {},
   "outputs": [],
   "source": [
    "path_metadata = f\"../../metadata/mamografia/raw/CMMD/CMMD_clinicaldata_revision.xlsx\"\n",
    "path_cmmd = path = f\"D:/mathe/Documents/BancoDados_IC/CMMD\"\n",
    "\n",
    "df = pd.read_excel(path_metadata)\n",
    "df = df.fillna(\"NaN\")\n",
    "\n",
    "studies = []\n",
    "images_size_cmmd = []\n",
    "\n",
    "left_or_right_breast = {'L': 'Left', 'R': 'Right'}\n",
    "abnormality = {'calcification': 'Calc', 'mass': 'Mass', 'both': 'Both'}\n",
    "\n",
    "for i in range(df.shape[0]):\n",
    "    # Pegar o nome do Estudo\n",
    "    study_name = [abnormality[df.iloc[i:i+1:, 4:5:].values[0][0]],\n",
    "                  df.iloc[i:i+1:, 0:1:].values[0][0],\n",
    "                  left_or_right_breast[df.iloc[i:i+1:, 1:2:].values[0][0]]]\n",
    "    study_name = \"_\".join(study_name)\n",
    "    \n",
    "    # Pegar metadados no csv\n",
    "    metadata_csv = {}\n",
    "    for column in df.columns:\n",
    "        if isinstance(df.loc[i, column], np.integer):\n",
    "            metadata_csv[column] = int(df.loc[i, column])\n",
    "        elif pd.isna(df.loc[i, column]):\n",
    "            metadata_csv[column] = \"NaN\"\n",
    "        else:\n",
    "            metadata_csv[column] = df.loc[i, column]\n",
    "     \n",
    "    # Pegar paths dos arquivo dicom   \n",
    "    path_exam_files = path_cmmd + f\"/{df.loc[i, 'ID1']}/\"\n",
    "    directory = Path(path_exam_files)\n",
    "    paths_dicom_images = list(directory.rglob(\"*.dcm*\"))\n",
    "    \n",
    "    tmp = get_images_size(path_exam_files, \"dcm\", True)\n",
    "    \n",
    "    for img_size in tmp:\n",
    "        images_size_cmmd.append(img_size)\n",
    "    \n",
    "    metadata_csv['image_path'] = list(map(str, paths_dicom_images))\n",
    "    \n",
    "    # Pegar metadados dos arquivos dicom\n",
    "    metadata_dicom_files = []\n",
    "    \n",
    "    for path_dicom in paths_dicom_images:\n",
    "        dicom_file = dcmread(path_dicom)\n",
    "        metadata_dicom_files.append(get_dicom_meta(dicom_file, False))\n",
    "        \n",
    "    studies.append(study_factory(study_name, metadata_csv, metadata_dicom_files))\n",
    "  \n",
    "#save_json(\"csv_and_dicom_CMMD\", studies, f\"../../metadata/mamografia/extracted_metadata\")\n",
    "images_size_cmmd = pd.DataFrame({'size_mb': images_size_cmmd, 'database': 'CMMD'})"
   ]
  },
  {
   "attachments": {},
   "cell_type": "markdown",
   "metadata": {},
   "source": [
    "### Pegar Metadados em txt e pgm - MIAS"
   ]
  },
  {
   "cell_type": "code",
   "execution_count": 5,
   "metadata": {},
   "outputs": [],
   "source": [
    "atributes_list_txt = ['reference_number', 'background_tissue', 'abnormality', 'classification',\n",
    "                  'x_centre_abnormality', 'y_centre_abnormality',\n",
    "                  'radius']    \n",
    "classification_dict = {'B': \"Benign\", \"M\": \"Malignant\"}\n",
    "abnormality_dict = {'CALC': 'Calcification', 'CIRC': 'Well-defined/circumscribed masses',\n",
    "                    'SPIC': 'Spiculated masses', 'MISC': 'Other, ill-defined masses',\n",
    "                    'ARCH': 'Architectural distortion', 'ASYM': 'Asymmetry', 'NORM': 'Normal'}\n",
    "tissue_dict = {'F': 'Fatty', 'G': 'Fatty-glandular', 'D': 'Dense-glandular'} \n",
    "     \n",
    "list_metadata = []\n",
    "\n",
    "path = f\"D:/mathe/Documents/BancoDados_IC/MIAS/all-mias/\"\n",
    "images_size_mias = get_images_size(path, \"pgm\", True)\n",
    "\n",
    "with open(\"../../metadata/mamografia/raw/MIAS/raw_metadata_mias.txt\", \"r\") as file:\n",
    "    raw_metadata = file.readlines()\n",
    "    del raw_metadata[0]\n",
    "    \n",
    "for current_meta in raw_metadata:\n",
    "    tmp_list = current_meta.split(\" \")\n",
    "    if len(tmp_list) == 4:\n",
    "        del tmp_list[3]\n",
    "    elif len(tmp_list) == 7:\n",
    "        tmp_list[6] = tmp_list[6].replace(\"\\n\", \"\")\n",
    "        \n",
    "    tmp_dict = {}\n",
    "    path = f\"D:/mathe/Documents/BancoDados_IC/MIAS/all-mias/{tmp_list[0]}.pgm\"\n",
    "    \n",
    "    # Pegar Metadados no TXT\n",
    "    if len(tmp_list) > 3:\n",
    "        study_name = f\"{tmp_list[2]}_{tmp_list[0]}_{classification_dict[tmp_list[3]]}\"\n",
    "    else:\n",
    "        study_name = f\"{tmp_list[2]}_{tmp_list[0]}\"\n",
    "    tmp_dict['study_name'] = study_name\n",
    "    \n",
    "    metadata_txt = {}\n",
    "    \n",
    "    for i in range(len(tmp_list)):\n",
    "        if i == 1:\n",
    "            metadata_txt[atributes_list_txt[i]] = tissue_dict[tmp_list[i]]\n",
    "        elif i == 2:\n",
    "            metadata_txt[atributes_list_txt[i]] = abnormality_dict[tmp_list[i]]\n",
    "        elif i == 3:\n",
    "            metadata_txt[atributes_list_txt[i]] = classification_dict[tmp_list[i]]\n",
    "        else:\n",
    "            metadata_txt[atributes_list_txt[i]] = tmp_list[i]\n",
    "    \n",
    "    metadata_txt['image_path'] = path     \n",
    "    tmp_dict['metadata_txt'] = metadata_txt\n",
    "    # Fim Pegar Metadados no TXT\n",
    "    \n",
    "    # Pegar Metadados no arquivo PGM\n",
    "    metadata_pgm_file = {}\n",
    "    _, header = read_pgm(path)\n",
    "    header = header.split(\"\\n\")\n",
    "    \n",
    "    metadata_pgm_file['header'] = header[0]\n",
    "    \n",
    "    row, columns = header[1].split(\" \")\n",
    "    metadata_pgm_file['rows'] = row\n",
    "    metadata_pgm_file['columns'] = row\n",
    "    \n",
    "    metadata_pgm_file['max_value'] = header[2]\n",
    "    \n",
    "    tmp_dict['metadata_pgm_file'] = metadata_pgm_file\n",
    "    \n",
    "    list_metadata.append(tmp_dict)\n",
    "    \n",
    "#save_json(\"txt_and_pgm_MIAS\", list_metadata, \"../../metadata/mamografia/extracted_metadata\")\n",
    "images_size_mias = pd.DataFrame({'size_mb': images_size_mias, 'database': 'MIAS'})"
   ]
  },
  {
   "attachments": {},
   "cell_type": "markdown",
   "metadata": {},
   "source": [
    "### Pegar Metadados em csv e dicom - InBreast"
   ]
  },
  {
   "attachments": {},
   "cell_type": "markdown",
   "metadata": {},
   "source": [
    "Tratar os metadados no csv e xls"
   ]
  },
  {
   "cell_type": "code",
   "execution_count": 6,
   "metadata": {},
   "outputs": [],
   "source": [
    "csv_file = pd.read_csv(\"../../metadata/mamografia/raw/INBREAST/INbreast.csv\", sep=\";\")\n",
    "xls_file = pd.read_excel(\"../../metadata/mamografia/raw/INBREAST/INbreast.xls\")\n",
    "\n",
    "csv_file['File Name'] = csv_file['File Name'].astype(str)\n",
    "\n",
    "xls_file = xls_file[['File Name', 'Findings Notes (in Portuguese)']]\n",
    "xls_file['File Name'] = xls_file['File Name'].fillna(0).apply(int).astype(str)\n",
    "\n",
    "metadata_csv = csv_file.merge(xls_file, how='inner', on='File Name')\n",
    "metadata_csv.columns = metadata_csv.columns.str.lower().str.replace(\" \", \"_\")\n",
    "metadata_csv.rename(columns={'findings_notes_(in_portuguese)': 'findings_notes'}, inplace=True)\n",
    "metadata_csv['acquisition_date'] = metadata_csv['acquisition_date'].apply(str)"
   ]
  },
  {
   "attachments": {},
   "cell_type": "markdown",
   "metadata": {},
   "source": [
    "Salvar os metadados csv e dicom"
   ]
  },
  {
   "cell_type": "code",
   "execution_count": 7,
   "metadata": {},
   "outputs": [],
   "source": [
    "path_data = \"D:\\mathe\\Documents\\BancoDados_IC\\INbreast Release 1.0\\AllDICOMs\"\n",
    "dicom_files_names = [file for file in os.listdir(path_data) if \".dcm\" in file]\n",
    "\n",
    "studies = []\n",
    "images_size_inbreast = []\n",
    "\n",
    "for i in range(metadata_csv.shape[0]):\n",
    "    # Pegar metadados csv\n",
    "    meta_csv = {}\n",
    "    for column in metadata_csv.columns[::]:\n",
    "        meta_csv[column] = metadata_csv.loc[i, column]\n",
    "            \n",
    "    # Pegar metadados Dicom\n",
    "    dict_meta_dcm = None\n",
    "    for dicom_file_name in dicom_files_names:\n",
    "        if metadata_csv.loc[i, 'file_name'] in dicom_file_name:\n",
    "            image_path = path_data + f\"\\\\{dicom_file_name}\"\n",
    "            meta_csv['image_path'] = image_path\n",
    "        \n",
    "            images_size_inbreast.append(get_images_size(image_path, \"dcm\", False))\n",
    "            \n",
    "            dicom_file = dcmread(image_path)\n",
    "            dict_meta_dcm = get_dicom_meta(dicom_file, False)\n",
    "    \n",
    "    # Pré processar alguns campos\n",
    "    meta_csv['laterality'] = \"Right\" if meta_csv['laterality'] == 'R' else \"Left\"\n",
    "    meta_csv['findings_notes'] = meta_csv['findings_notes'].replace(\"ó\", \"o\")\n",
    "    \n",
    "    # Salvar no estudo\n",
    "    study = {}\n",
    "    part_1 = meta_csv['findings_notes'].split()[0]\n",
    "    study['study_name'] = f\"{part_1}_{i}_{meta_csv['laterality']}\"\n",
    "    \n",
    "    study['metadata_csv'] = meta_csv\n",
    "    study['metadata_dicom_files'] = dict_meta_dcm\n",
    "    \n",
    "    studies.append(study)\n",
    "    \n",
    "#save_json(\"csv_and_dicom_INBREAST\", studies, \"../../metadata/mamografia/extracted_metadata\")\n",
    "images_size_inbreast = pd.DataFrame({'size_mb': images_size_inbreast, 'database': 'INBREAST'})"
   ]
  },
  {
   "cell_type": "code",
   "execution_count": 13,
   "metadata": {},
   "outputs": [],
   "source": [
    "images_size = pd.concat([images_size_cmmd, images_size_ddsm, images_size_mias, images_size_inbreast], axis=0)\n",
    "images_size.to_csv(\"../../metadata/mamografia/images_size.csv\")"
   ]
  }
 ],
 "metadata": {
  "kernelspec": {
   "display_name": "Python 3.10.4 ('prov')",
   "language": "python",
   "name": "python3"
  },
  "language_info": {
   "codemirror_mode": {
    "name": "ipython",
    "version": 3
   },
   "file_extension": ".py",
   "mimetype": "text/x-python",
   "name": "python",
   "nbconvert_exporter": "python",
   "pygments_lexer": "ipython3",
   "version": "3.10.6"
  },
  "orig_nbformat": 4,
  "vscode": {
   "interpreter": {
    "hash": "72b0e7aef17bfaf12a24a38efe1b5729927abea9daa7ebf89509f441d033e89a"
   }
  }
 },
 "nbformat": 4,
 "nbformat_minor": 2
}
