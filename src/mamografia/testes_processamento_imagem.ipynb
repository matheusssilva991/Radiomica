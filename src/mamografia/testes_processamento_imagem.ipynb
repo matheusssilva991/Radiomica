{
 "cells": [
  {
   "cell_type": "code",
   "execution_count": 1,
   "metadata": {},
   "outputs": [],
   "source": [
    "import pandas as pd\n",
    "import cv2\n",
    "import matplotlib.pyplot as plt\n",
    "from cv2 import PSNR as cv2_psnr"
   ]
  },
  {
   "cell_type": "markdown",
   "metadata": {},
   "source": [
    "# Testes de processamento de imagens"
   ]
  },
  {
   "cell_type": "code",
   "execution_count": 2,
   "metadata": {},
   "outputs": [
    {
     "data": {
      "text/html": [
       "<div>\n",
       "<style scoped>\n",
       "    .dataframe tbody tr th:only-of-type {\n",
       "        vertical-align: middle;\n",
       "    }\n",
       "\n",
       "    .dataframe tbody tr th {\n",
       "        vertical-align: top;\n",
       "    }\n",
       "\n",
       "    .dataframe thead th {\n",
       "        text-align: right;\n",
       "    }\n",
       "</style>\n",
       "<table border=\"1\" class=\"dataframe\">\n",
       "  <thead>\n",
       "    <tr style=\"text-align: right;\">\n",
       "      <th></th>\n",
       "      <th>id</th>\n",
       "      <th>background_tissue</th>\n",
       "      <th>abnormality_type</th>\n",
       "      <th>pathology</th>\n",
       "      <th>x_center_abnormality</th>\n",
       "      <th>y_center_abnormality</th>\n",
       "      <th>radius</th>\n",
       "      <th>image_path</th>\n",
       "      <th>cropped_image_path</th>\n",
       "      <th>roi_image_path</th>\n",
       "    </tr>\n",
       "  </thead>\n",
       "  <tbody>\n",
       "    <tr>\n",
       "      <th>0</th>\n",
       "      <td>mdb001</td>\n",
       "      <td>Fatty-glandular</td>\n",
       "      <td>Well-defined/circumscribed masses</td>\n",
       "      <td>benign</td>\n",
       "      <td>535.0</td>\n",
       "      <td>425.0</td>\n",
       "      <td>197.0</td>\n",
       "      <td>D:/mathe/Documents/banco_dados_ic/mamografia/m...</td>\n",
       "      <td>D:/mathe/Documents/banco_dados_ic/mamografia/m...</td>\n",
       "      <td>D:/mathe/Documents/banco_dados_ic/mamografia/m...</td>\n",
       "    </tr>\n",
       "    <tr>\n",
       "      <th>1</th>\n",
       "      <td>mdb002</td>\n",
       "      <td>Fatty-glandular</td>\n",
       "      <td>Well-defined/circumscribed masses</td>\n",
       "      <td>benign</td>\n",
       "      <td>522.0</td>\n",
       "      <td>280.0</td>\n",
       "      <td>69.0</td>\n",
       "      <td>D:/mathe/Documents/banco_dados_ic/mamografia/m...</td>\n",
       "      <td>D:/mathe/Documents/banco_dados_ic/mamografia/m...</td>\n",
       "      <td>D:/mathe/Documents/banco_dados_ic/mamografia/m...</td>\n",
       "    </tr>\n",
       "    <tr>\n",
       "      <th>4</th>\n",
       "      <td>mdb005</td>\n",
       "      <td>Fatty</td>\n",
       "      <td>Well-defined/circumscribed masses</td>\n",
       "      <td>benign</td>\n",
       "      <td>477.0</td>\n",
       "      <td>133.0</td>\n",
       "      <td>30.0</td>\n",
       "      <td>D:/mathe/Documents/banco_dados_ic/mamografia/m...</td>\n",
       "      <td>D:/mathe/Documents/banco_dados_ic/mamografia/m...</td>\n",
       "      <td>D:/mathe/Documents/banco_dados_ic/mamografia/m...</td>\n",
       "    </tr>\n",
       "    <tr>\n",
       "      <th>5</th>\n",
       "      <td>mdb005</td>\n",
       "      <td>Fatty</td>\n",
       "      <td>Well-defined/circumscribed masses</td>\n",
       "      <td>benign</td>\n",
       "      <td>500.0</td>\n",
       "      <td>168.0</td>\n",
       "      <td>26.0</td>\n",
       "      <td>D:/mathe/Documents/banco_dados_ic/mamografia/m...</td>\n",
       "      <td>D:/mathe/Documents/banco_dados_ic/mamografia/m...</td>\n",
       "      <td>D:/mathe/Documents/banco_dados_ic/mamografia/m...</td>\n",
       "    </tr>\n",
       "    <tr>\n",
       "      <th>10</th>\n",
       "      <td>mdb010</td>\n",
       "      <td>Fatty</td>\n",
       "      <td>Well-defined/circumscribed masses</td>\n",
       "      <td>benign</td>\n",
       "      <td>525.0</td>\n",
       "      <td>425.0</td>\n",
       "      <td>33.0</td>\n",
       "      <td>D:/mathe/Documents/banco_dados_ic/mamografia/m...</td>\n",
       "      <td>D:/mathe/Documents/banco_dados_ic/mamografia/m...</td>\n",
       "      <td>D:/mathe/Documents/banco_dados_ic/mamografia/m...</td>\n",
       "    </tr>\n",
       "  </tbody>\n",
       "</table>\n",
       "</div>"
      ],
      "text/plain": [
       "        id background_tissue                   abnormality_type pathology  \\\n",
       "0   mdb001   Fatty-glandular  Well-defined/circumscribed masses    benign   \n",
       "1   mdb002   Fatty-glandular  Well-defined/circumscribed masses    benign   \n",
       "4   mdb005             Fatty  Well-defined/circumscribed masses    benign   \n",
       "5   mdb005             Fatty  Well-defined/circumscribed masses    benign   \n",
       "10  mdb010             Fatty  Well-defined/circumscribed masses    benign   \n",
       "\n",
       "    x_center_abnormality  y_center_abnormality  radius  \\\n",
       "0                  535.0                 425.0   197.0   \n",
       "1                  522.0                 280.0    69.0   \n",
       "4                  477.0                 133.0    30.0   \n",
       "5                  500.0                 168.0    26.0   \n",
       "10                 525.0                 425.0    33.0   \n",
       "\n",
       "                                           image_path  \\\n",
       "0   D:/mathe/Documents/banco_dados_ic/mamografia/m...   \n",
       "1   D:/mathe/Documents/banco_dados_ic/mamografia/m...   \n",
       "4   D:/mathe/Documents/banco_dados_ic/mamografia/m...   \n",
       "5   D:/mathe/Documents/banco_dados_ic/mamografia/m...   \n",
       "10  D:/mathe/Documents/banco_dados_ic/mamografia/m...   \n",
       "\n",
       "                                   cropped_image_path  \\\n",
       "0   D:/mathe/Documents/banco_dados_ic/mamografia/m...   \n",
       "1   D:/mathe/Documents/banco_dados_ic/mamografia/m...   \n",
       "4   D:/mathe/Documents/banco_dados_ic/mamografia/m...   \n",
       "5   D:/mathe/Documents/banco_dados_ic/mamografia/m...   \n",
       "10  D:/mathe/Documents/banco_dados_ic/mamografia/m...   \n",
       "\n",
       "                                       roi_image_path  \n",
       "0   D:/mathe/Documents/banco_dados_ic/mamografia/m...  \n",
       "1   D:/mathe/Documents/banco_dados_ic/mamografia/m...  \n",
       "4   D:/mathe/Documents/banco_dados_ic/mamografia/m...  \n",
       "5   D:/mathe/Documents/banco_dados_ic/mamografia/m...  \n",
       "10  D:/mathe/Documents/banco_dados_ic/mamografia/m...  "
      ]
     },
     "execution_count": 2,
     "metadata": {},
     "output_type": "execute_result"
    }
   ],
   "source": [
    "df = pd.read_csv(\"../../outputs/mamografia/mias/metadata_mias.csv\")\n",
    "df.dropna(subset=['cropped_image_path'], inplace=True)\n",
    "\n",
    "df.head()"
   ]
  },
  {
   "cell_type": "markdown",
   "metadata": {},
   "source": [
    "## Median Filter"
   ]
  },
  {
   "cell_type": "code",
   "execution_count": 3,
   "metadata": {},
   "outputs": [],
   "source": [
    "for i, row in df.iterrows():\n",
    "    image_path = row['cropped_image_path']\n",
    "    image = cv2.imread(image_path, cv2.IMREAD_GRAYSCALE)\n",
    "\n",
    "    best_score_median = 0\n",
    "    best_median = 0\n",
    "\n",
    "    for j in range(3, 30, 2):\n",
    "        median_image = cv2.medianBlur(image, j)\n",
    "        score = cv2_psnr(image, median_image)\n",
    "\n",
    "        if score > best_score_median:\n",
    "            best_score_median = score\n",
    "            best_median = j\n",
    "\n",
    "    df.at[i, \"best_median\"] = best_median\n",
    "    df.at[i, \"best_score_median\"] = best_score_median"
   ]
  },
  {
   "cell_type": "code",
   "execution_count": 4,
   "metadata": {},
   "outputs": [
    {
     "name": "stdout",
     "output_type": "stream",
     "text": [
      "Best median: 3\n",
      "Best score median: 45.295370205638996\n"
     ]
    }
   ],
   "source": [
    "best_median = int(df['best_median'].mode().values[0])\n",
    "print(f\"Best median: {best_median}\")\n",
    "print(f\"Best score median: {df['best_score_median'].mean()}\")"
   ]
  },
  {
   "cell_type": "markdown",
   "metadata": {},
   "source": [
    "## Clahe without median filter"
   ]
  },
  {
   "cell_type": "code",
   "execution_count": 5,
   "metadata": {},
   "outputs": [],
   "source": [
    "for i, row in df.iterrows():\n",
    "    image_path = row['cropped_image_path']\n",
    "    image = cv2.imread(image_path, cv2.IMREAD_GRAYSCALE)\n",
    "\n",
    "    best_score_clahe = 0\n",
    "    best_clip_limit = 0\n",
    "    best_tile_grid_size = 0\n",
    "\n",
    "    for clip_limit in range(1, 30):\n",
    "        for tile_grid_size in range(1, 30):\n",
    "            clahe = cv2.createCLAHE(clipLimit=clip_limit, tileGridSize=(tile_grid_size, tile_grid_size))\n",
    "            clahe_image = clahe.apply(image)\n",
    "            score = cv2_psnr(image, clahe_image)\n",
    "\n",
    "            if score > best_score_clahe:\n",
    "                best_score_clahe = score\n",
    "                best_clip_limit = clip_limit\n",
    "                best_tile_grid_size = tile_grid_size\n",
    "\n",
    "    df.at[i, \"best_clip_limit\"] = best_clip_limit\n",
    "    df.at[i, \"best_tile_grid_size\"] = best_tile_grid_size\n",
    "    df.at[i, \"best_score_clahe\"] = best_score_clahe"
   ]
  },
  {
   "cell_type": "code",
   "execution_count": 6,
   "metadata": {},
   "outputs": [
    {
     "name": "stdout",
     "output_type": "stream",
     "text": [
      "Best clip limit: 1.0\n",
      "Best tile grid size: 5.0\n",
      "Best score clahe: 34.20432679523332\n"
     ]
    }
   ],
   "source": [
    "best_clip_limit = df['best_clip_limit'].mode().values[0]\n",
    "best_tile_grid_size = df['best_tile_grid_size'].mode().values[0]\n",
    "\n",
    "print(f\"Best clip limit: {best_clip_limit}\")\n",
    "print(f\"Best tile grid size: {best_tile_grid_size}\")\n",
    "print(f\"Best score clahe: {df['best_score_clahe'].mean()}\")"
   ]
  },
  {
   "cell_type": "markdown",
   "metadata": {},
   "source": [
    "## Clahe with median filter"
   ]
  },
  {
   "cell_type": "code",
   "execution_count": 7,
   "metadata": {},
   "outputs": [],
   "source": [
    "for i, row in df.iterrows():\n",
    "    image_path = row['cropped_image_path']\n",
    "    image = cv2.imread(image_path, cv2.IMREAD_GRAYSCALE)\n",
    "    median_image = cv2.medianBlur(image, best_median)\n",
    "\n",
    "    best_score_clahe = 0\n",
    "    best_clip_limit = 0\n",
    "    best_tile_grid_size = 0\n",
    "\n",
    "    for clip_limit in range(1, 16):\n",
    "        for tile_grid_size in range(1, 17):\n",
    "            clahe = cv2.createCLAHE(clipLimit=clip_limit, tileGridSize=(tile_grid_size, tile_grid_size))\n",
    "            clahe_image = clahe.apply(median_image)\n",
    "            score = cv2_psnr(image, clahe_image)\n",
    "\n",
    "            if score > best_score_clahe:\n",
    "                best_score_clahe = score\n",
    "                best_clip_limit = clip_limit\n",
    "                best_tile_grid_size = tile_grid_size\n",
    "\n",
    "    df.at[i, \"best_clip_limit\"] = best_clip_limit\n",
    "    df.at[i, \"best_tile_grid_size\"] = best_tile_grid_size\n",
    "    df.at[i, \"best_score_clahe\"] = best_score_clahe"
   ]
  },
  {
   "cell_type": "code",
   "execution_count": 8,
   "metadata": {},
   "outputs": [
    {
     "name": "stdout",
     "output_type": "stream",
     "text": [
      "Best clip limit: 1.0\n",
      "Best tile grid size: 6.0\n",
      "Best score clahe: 33.89921560060422\n"
     ]
    }
   ],
   "source": [
    "best_clip_limit = df['best_clip_limit'].mode().values[0]\n",
    "best_tile_grid_size = df['best_tile_grid_size'].mode().values[0]\n",
    "\n",
    "print(f\"Best clip limit: {best_clip_limit}\")\n",
    "print(f\"Best tile grid size: {best_tile_grid_size}\")\n",
    "print(f\"Best score clahe: {df['best_score_clahe'].mean()}\")"
   ]
  }
 ],
 "metadata": {
  "kernelspec": {
   "display_name": "radiomica",
   "language": "python",
   "name": "python3"
  },
  "language_info": {
   "codemirror_mode": {
    "name": "ipython",
    "version": 3
   },
   "file_extension": ".py",
   "mimetype": "text/x-python",
   "name": "python",
   "nbconvert_exporter": "python",
   "pygments_lexer": "ipython3",
   "version": "3.10.13"
  }
 },
 "nbformat": 4,
 "nbformat_minor": 2
}
