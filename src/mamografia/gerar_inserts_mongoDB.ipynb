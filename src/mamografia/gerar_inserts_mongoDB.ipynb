{
 "cells": [
  {
   "cell_type": "code",
   "execution_count": 1,
   "metadata": {},
   "outputs": [],
   "source": [
    "import os\n",
    "import sys\n",
    "\n",
    "sys.path.insert(0, \"\\\\\".join(os.path.abspath(os.curdir).split(\"\\\\\")[:-2:]))\n",
    "from pathlib import Path\n",
    "\n",
    "import matplotlib.pyplot as plt\n",
    "from pydicom import dcmread\n",
    "from pymongo import MongoClient\n",
    "from pymongo.errors import ConnectionFailure\n",
    "\n",
    "from src.utils.imageProcessing import *\n",
    "from src.utils.utils import *"
   ]
  },
  {
   "attachments": {},
   "cell_type": "markdown",
   "metadata": {},
   "source": [
    "# Data MongoDB"
   ]
  },
  {
   "attachments": {},
   "cell_type": "markdown",
   "metadata": {},
   "source": [
    "## Gerar os inserts"
   ]
  },
  {
   "attachments": {},
   "cell_type": "markdown",
   "metadata": {},
   "source": [
    "CBIS-DDSM"
   ]
  },
  {
   "cell_type": "code",
   "execution_count": 2,
   "metadata": {},
   "outputs": [],
   "source": [
    "# Cria o objeto do banco de dados\n",
    "database_CBIS_DDSM = {\n",
    "            \"name\": \"CBIS-DDSM\",\n",
    "            \"exameType\": \"Mamografia\",\n",
    "            \"description\": \"Banco de dados gerado pelo processamento do banco DDSM\",\n",
    "            \"imageQuality\": [],\n",
    "            \"imageType\": \"DICOM\",\n",
    "            \"sourceLink\": \"https://wiki.cancerimagingarchive.net/pages/viewpage.action?pageId=22516629\",\n",
    "}\n",
    "\n",
    "studies = []\n",
    "images = []\n",
    "path_metadata = \"../../outputs/mamografia/extracted_metadata\"\n",
    "\n",
    "list_metadata = load_json(\"extracted_metadata_CBIS-DDSM\", path_metadata)\n",
    "    \n",
    "for i, metadata in enumerate(list_metadata):\n",
    "    metadata_csv = rename_keys(metadata[\"metadata_csv\"])\n",
    "    metadata_dicom = metadata[\"metadata_dicom_files\"][\"original\"][0]\n",
    "    \n",
    "    database_CBIS_DDSM[\"imageQuality\"].append(int(metadata_dicom[\"bits_stored (0028, 0101)\"]))\n",
    "    resizedImagePath = f\"D:\\\\mathe\\\\Documents\\BancoDados_IC\\\\resized_images\\\\CBIS-DDSM\\\\image_resized_CBIS-DDSM_{i}.png\"\n",
    "    \n",
    "    directory = Path(metadata_csv[\"original_image_path\"])\n",
    "    images_paths = list(directory.rglob(f\"*.dcm*\"))\n",
    "    images_paths = list(map(str, images_paths))\n",
    "    metadata_csv[\"original_image_path\"] = images_paths[0]\n",
    "    \n",
    "    \"\"\" image_array = extract_image_dicom(metadata_csv[\"original_image_path\"])\n",
    "    resize_image(image_array, (255, 255), save=True, path=resizedImagePath, image_type=\"png\") \"\"\"\n",
    "    \n",
    "    image = {\n",
    "             \"patient_id\": metadata_csv[\"patient_id\"],\n",
    "             \"leftOrRightBreast\": metadata_csv[\"left_or_right_breast\"],\n",
    "             \"orientation\": metadata_csv[\"image_view\"],\n",
    "             \"width\": metadata_dicom[\"columns (0028, 0011)\"],\n",
    "             \"height\": metadata_dicom[\"rows (0028, 0010)\"],\n",
    "             \"imagePath\": metadata_csv[\"original_image_path\"],\n",
    "             \"resizedImagePath\": resizedImagePath,\n",
    "             \"imageQuality\": metadata_dicom[\"bits_stored (0028, 0101)\"],\n",
    "             \"classification\": {\n",
    "                                 \"pathology\": metadata_csv[\"pathology\"],\n",
    "                                 \"biRads\": metadata_csv[\"bi_rads\"],\n",
    "                                 \"breastDensity\": metadata_csv[\"breast_density\"],\n",
    "                                 \"abnormalityType\": metadata_csv[\"abnormality_type\"],\n",
    "                                 \"subtlety\": metadata_csv[\"subtlety\"]\n",
    "                                },\n",
    "            }\n",
    "\n",
    "    images.append(image)\n",
    "\n",
    "database_CBIS_DDSM[\"imageQuality\"] = list(set(database_CBIS_DDSM[\"imageQuality\"]))\n",
    "\n",
    "if len(database_CBIS_DDSM[\"imageQuality\"]) == 1:\n",
    "       database_CBIS_DDSM[\"imageQuality\"] = database_CBIS_DDSM[\"imageQuality\"][0]\n",
    "    \n",
    "database_CBIS_DDSM[\"images\"] = images"
   ]
  },
  {
   "attachments": {},
   "cell_type": "markdown",
   "metadata": {},
   "source": [
    "CMMD"
   ]
  },
  {
   "cell_type": "code",
   "execution_count": 3,
   "metadata": {},
   "outputs": [],
   "source": [
    "# Cria o objeto do banco de dados\n",
    "database_CMMD = {\n",
    "            \"name\": \"CMMD\",\n",
    "            \"exameType\": \"Mamografia\",\n",
    "            \"description\": \"Banco de dados CMMD\",\n",
    "            \"imageQuality\": [],\n",
    "            \"imageType\": \"Dicom\",\n",
    "            \"sourceLink\": \"https://wiki.cancerimagingarchive.net/pages/viewpage.action?pageId=70230508\",\n",
    "}\n",
    "\n",
    "images = []\n",
    "\n",
    "# Carrega os metadados\n",
    "json_name = 'csv_and_dicom_CMMD'\n",
    "list_metadata = load_json(\"extracted_metadata_CMMD\", \"../../outputs/mamografia/extracted_metadata\")\n",
    "\n",
    "for i, metadata in enumerate(list_metadata):\n",
    "    metadata_csv = rename_keys(metadata[\"metadata_csv\"])\n",
    "    \n",
    "    n = [j for j in range(len(metadata_csv['image_path']))] \n",
    "    for j, image_path, metadata_dicom in zip(n, metadata_csv['image_path'], metadata[\"metadata_dicom_files\"]):\n",
    "        \n",
    "        resizedImagePath = f\"D:\\\\mathe\\\\Documents\\BancoDados_IC\\\\resized_images\\\\CMMD\\\\image_resized_CMMD_{i}-{j}.png\"\n",
    "        database_CMMD[\"imageQuality\"].append(int(metadata_dicom[\"bits_stored (0028, 0101)\"]))\n",
    "        \n",
    "        image_array = extract_image_dicom(image_path)\n",
    "        resize_image(image_array, (255, 255), save=True, path=resizedImagePath, image_type=\"png\")\n",
    "        \n",
    "        image = {\n",
    "             \"patient_id\": metadata_csv[\"patient_id\"],\n",
    "             \"patient_age\": metadata_csv[\"patient_age\"],\n",
    "             \"leftOrRightBreast\": metadata_csv[\"left_or_right_breast\"],\n",
    "             \"width\": metadata_dicom[\"columns (0028, 0011)\"],\n",
    "             \"height\": metadata_dicom[\"rows (0028, 0010)\"],\n",
    "             \"imagePath\": image_path,\n",
    "             \"resizedImagePath\": resizedImagePath,\n",
    "             \"imageQuality\": metadata_dicom[\"bits_stored (0028, 0101)\"],\n",
    "             \"classification\": {\n",
    "                                 \"pathology\": metadata_csv[\"pathology\"],\n",
    "                                 \"abnormalityType\": metadata_csv[\"abnormality_type\"],\n",
    "                                 \"subtype\": metadata_csv[\"subtype\"]\n",
    "                                },\n",
    "            }\n",
    "        \n",
    "        if metadata_csv['subtype'] == 'NaN':\n",
    "            del image[\"classification\"][\"subtype\"]\n",
    "            \n",
    "        images.append(image)\n",
    " \n",
    "database_CMMD[\"imageQuality\"] = list(set(database_CMMD[\"imageQuality\"]))\n",
    "    \n",
    "if len(database_CMMD[\"imageQuality\"]) == 1:\n",
    "       database_CMMD[\"imageQuality\"] = database_CMMD[\"imageQuality\"][0]\n",
    "    \n",
    "database_CMMD[\"images\"] = images"
   ]
  },
  {
   "attachments": {},
   "cell_type": "markdown",
   "metadata": {},
   "source": [
    "## Salvar no banco de dados"
   ]
  },
  {
   "cell_type": "code",
   "execution_count": 5,
   "metadata": {},
   "outputs": [
    {
     "data": {
      "text/plain": [
       "5590"
      ]
     },
     "execution_count": 5,
     "metadata": {},
     "output_type": "execute_result"
    }
   ],
   "source": [
    "def get_db(database_name, host:str =\"localhost\", port:int =27017): \n",
    "    \"\"\"Connecto to mongodb\"\"\"\n",
    "    try:\n",
    "        connection = MongoClient(host, port)\n",
    "        return connection[database_name]\n",
    "    except ConnectionFailure:\n",
    "        sys.stderr.write(\"Could not connect to MongoDB\")\n",
    "        sys.exit(1)\n",
    "              \n",
    "\n",
    "\"\"\" db = get_db('radiomica')\n",
    "metadata = db.metadata \"\"\"\n",
    "\n",
    "databases = [database_CBIS_DDSM, database_CMMD]\n",
    "\n",
    "save_json(\"databases\", databases, \"../../outputs/mamografia\") \n",
    "# metadata.insert_many(databases)\n",
    "len(database_CMMD[\"images\"])"
   ]
  }
 ],
 "metadata": {
  "kernelspec": {
   "display_name": "prov",
   "language": "python",
   "name": "python3"
  },
  "language_info": {
   "codemirror_mode": {
    "name": "ipython",
    "version": 3
   },
   "file_extension": ".py",
   "mimetype": "text/x-python",
   "name": "python",
   "nbconvert_exporter": "python",
   "pygments_lexer": "ipython3",
   "version": "3.10.6"
  },
  "orig_nbformat": 4,
  "vscode": {
   "interpreter": {
    "hash": "72b0e7aef17bfaf12a24a38efe1b5729927abea9daa7ebf89509f441d033e89a"
   }
  }
 },
 "nbformat": 4,
 "nbformat_minor": 2
}
