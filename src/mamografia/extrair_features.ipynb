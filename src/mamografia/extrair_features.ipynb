{
 "cells": [
  {
   "cell_type": "code",
   "execution_count": 1,
   "metadata": {},
   "outputs": [],
   "source": [
    "import os\n",
    "import sys\n",
    "\n",
    "import cv2\n",
    "import numpy as np\n",
    "import pandas as pd\n",
    "from pydicom import dcmread\n",
    "from skimage.exposure import equalize_adapthist\n",
    "from skimage.feature import graycomatrix, graycoprops\n",
    "\n",
    "sys.path.insert(0, \"\\\\\".join(os.path.abspath(os.curdir).split(\"\\\\\")[:-2:]))\n",
    "from src.utils.utils import load_inbreast_mask"
   ]
  },
  {
   "attachments": {},
   "cell_type": "markdown",
   "metadata": {},
   "source": [
    "## Extrair caracteristicas matriz GLCM"
   ]
  },
  {
   "cell_type": "markdown",
   "metadata": {},
   "source": [
    "### 1. Configurações"
   ]
  },
  {
   "cell_type": "code",
   "execution_count": 2,
   "metadata": {},
   "outputs": [],
   "source": [
    "angles = [0, np.pi/4, np.pi/2, 3*np.pi/4]\n",
    "angles_labels = ['0', '45', '90', '135']\n",
    "properties = ['dissimilarity', 'correlation', 'homogeneity', 'contrast', 'ASM', 'energy']\n",
    "# first_order_features_labels = ['mean', 'std', 'variance', 'skewness', 'kurtosis']\n",
    "distances = [1]"
   ]
  },
  {
   "cell_type": "markdown",
   "metadata": {},
   "source": [
    "### 2. Databases"
   ]
  },
  {
   "attachments": {},
   "cell_type": "markdown",
   "metadata": {},
   "source": [
    "##### a. CMMD"
   ]
  },
  {
   "cell_type": "code",
   "execution_count": 3,
   "metadata": {},
   "outputs": [],
   "source": [
    "df = pd.read_csv('../../outputs/mamografia/cmmd/metadata_cmmd.csv')\n",
    "glcm_features = {f'{property}_dist_{distance}_ang_{angle}': [] \n",
    "                 for property in properties\n",
    "                 for distance in distances\n",
    "                 for angle in angles_labels}\n",
    "\n",
    "for index, row in df.iterrows():\n",
    "    image = dcmread(row['image_path']).pixel_array\n",
    "    image = ((image / image.max()) * 255).astype('uint8')\n",
    "    \n",
    "    clahe_image = equalize_adapthist(image, clip_limit=0.03)\n",
    "    clahe_image = clahe_image * 255\n",
    "    clahe_image = clahe_image.astype('uint8')\n",
    "    clahe_binary_image = cv2.threshold(clahe_image, 0, 255, cv2.THRESH_BINARY + cv2.THRESH_OTSU)[1]\n",
    "    \n",
    "    #equalized_image = cv2.equalizeHist(image)\n",
    "    #binary_image = cv2.threshold(equalized_image, 0, 255, cv2.THRESH_BINARY + cv2.THRESH_OTSU)[1]\n",
    "    \n",
    "    # Calcula a matriz GLCM\n",
    "    matrix_glcm = graycomatrix(clahe_binary_image, distances=distances, angles=angles, levels=256, symmetric=True, normed=True)\n",
    "    \n",
    "    # Itera sobre as propriedades e calcula as propriedades da matriz GLCM\n",
    "    for property in properties:\n",
    "        glcm_prop = graycoprops(matrix_glcm, property)\n",
    "        \n",
    "        for distance, prop_distance in zip(distances, glcm_prop):  # Itera sobre os distâncias\n",
    "            for angle, prop in zip(angles_labels, prop_distance):  # Itera sobre os ângulos\n",
    "                glcm_features[f'{property}_dist_{distance}_ang_{angle}'].append(prop)\n",
    "\n",
    "glcm_features_df = pd.DataFrame(glcm_features)\n",
    "glcm_features_df['pathology'] = df['pathology']\n",
    "glcm_features_df.to_csv('../../outputs/mamografia/cmmd/glcm_features_cmmd.csv', index=False)"
   ]
  },
  {
   "attachments": {},
   "cell_type": "markdown",
   "metadata": {},
   "source": [
    "##### b. CBIS-DDSM "
   ]
  },
  {
   "cell_type": "code",
   "execution_count": null,
   "metadata": {},
   "outputs": [],
   "source": [
    "df = pd.read_csv('../../outputs/mamografia/cbis-ddsm/metadata_calc_case_cbis-ddsm.csv')\n",
    "df = pd.concat([df, pd.read_csv('../../outputs/mamografia/cbis-ddsm/metadata_mass_case_cbis-ddsm.csv')],\n",
    "               axis=0).reset_index(drop=True)\n",
    "\n",
    "glcm_features = {f'{property}_dist_{distance}_ang_{angle}': [] \n",
    "                 for property in properties\n",
    "                 for distance in distances\n",
    "                 for angle in angles}\n",
    "\n",
    "for index, row in df.iterrows():\n",
    "    image = dcmread(row['image_path']).pixel_array\n",
    "    image = ((image / image.max()) * 255).astype('uint8')\n",
    "    \n",
    "    # Calcula a matriz GLCM\n",
    "    matrix_glcm = graycomatrix(image, distances=distances, angles=angles, levels=256, symmetric=True, normed=True)\n",
    "    \n",
    "    # Itera sobre as propriedades e calcula as propriedades da matriz GLCM\n",
    "    for property in properties:\n",
    "        glcm_prop = graycoprops(matrix_glcm, property)\n",
    "        \n",
    "        for distance, prop_distance in zip(distances, glcm_prop):  # Itera sobre os distâncias\n",
    "            for angle, prop in zip(angles, prop_distance):         # Itera sobre os ângulos\n",
    "                glcm_features[f'{property}_dist_{distance}_ang_{angle}'].append(prop)\n",
    "\n",
    "glcm_features_df = pd.DataFrame(glcm_features)\n",
    "glcm_features_df['pathology'] = df['pathology']\n",
    "glcm_features_df.to_csv('../../outputs/mamografia/cbis-ddsm/glcm_features_cbis-ddsm.csv', index=False)"
   ]
  },
  {
   "attachments": {},
   "cell_type": "markdown",
   "metadata": {},
   "source": [
    "##### c. INBREAST"
   ]
  },
  {
   "cell_type": "code",
   "execution_count": 3,
   "metadata": {},
   "outputs": [
    {
     "data": {
      "text/plain": [
       "benign       264\n",
       "malignant     79\n",
       "Name: pathology, dtype: int64"
      ]
     },
     "execution_count": 3,
     "metadata": {},
     "output_type": "execute_result"
    }
   ],
   "source": [
    "df = pd.read_csv('../../outputs/mamografia/inbreast/metadata_inbreast.csv')\n",
    "glcm_features = {f'{property}_dist_{distance}_ang_{angle}': [] \n",
    "                 for property in properties\n",
    "                 for distance in distances\n",
    "                 for angle in angles_labels}\n",
    "labels = []\n",
    "\n",
    "for index, row in df.iterrows():\n",
    "    image_path_column_name = 'roi_image_path'\n",
    "    image_path = str(row[image_path_column_name])\n",
    "    isRoi = '_roi' if 'roi' in image_path_column_name else ''\n",
    "    \n",
    "    if image_path == 'nan':\n",
    "        continue\n",
    "    \n",
    "    # Pega o rótulo da imagem\n",
    "    label = row['bi-rads'].replace(\"4a\", \"3\").replace(\"4b\", \"3\").replace(\"4c\", \"5\")  # noqa: E501\n",
    "    label = int(label)\n",
    "        \n",
    "    if label == 0:\n",
    "        label = 'inconclusive'\n",
    "    elif label == 1:\n",
    "        label = 'normal'\n",
    "    elif label < 4:\n",
    "        label = 'benign'\n",
    "    else:\n",
    "        label = 'malignant'\n",
    "\n",
    "    labels.append(label)\n",
    "    \n",
    "    # Carrega a imagem ou a máscara\n",
    "    image = load_inbreast_mask(image_path) if 'xml' in image_path \\\n",
    "            else dcmread(image_path).pixel_array\n",
    "\n",
    "    # Converte a imagem para uint8\n",
    "    image = ((image / image.max()) * 255).astype('uint8')\n",
    "    \n",
    "    # equalized_image = cv2.equalizeHist(image)\n",
    "    \n",
    "    \"\"\" clahe_image = equalize_adapthist(image, clip_limit=0.03)\n",
    "    clahe_image = clahe_image * 255\n",
    "    clahe_image = clahe_image.astype('uint8') \"\"\"\n",
    "    \n",
    "    # Calcula a matriz GLCM\n",
    "    matrix_glcm = graycomatrix(image, distances=distances, angles=angles, levels=256, symmetric=True, normed=True)\n",
    "    \n",
    "    # Itera sobre as propriedades e calcula as propriedades da matriz GLCM\n",
    "    for property in properties:\n",
    "        glcm_prop = graycoprops(matrix_glcm, property)\n",
    "        \n",
    "        for distance, prop_distance in zip(distances, glcm_prop):  # Itera sobre os distâncias\n",
    "            for angle, prop in zip(angles_labels, prop_distance):         # Itera sobre os ângulos\n",
    "                glcm_features[f'{property}_dist_{distance}_ang_{angle}'].append(prop)\n",
    "\n",
    "glcm_features_df = pd.DataFrame(glcm_features)\n",
    "glcm_features_df['pathology'] = labels\n",
    "glcm_features_df.to_csv(f'../../outputs/mamografia/inbreast/glcm_features{isRoi}_inbreast.csv', index=False)\n",
    "glcm_features_df['pathology'].value_counts(dropna=False)"
   ]
  },
  {
   "cell_type": "markdown",
   "metadata": {},
   "source": [
    "##### d. MIAS"
   ]
  },
  {
   "cell_type": "code",
   "execution_count": 3,
   "metadata": {},
   "outputs": [
    {
     "data": {
      "text/plain": [
       "benign       68\n",
       "malignant    51\n",
       "Name: pathology, dtype: int64"
      ]
     },
     "execution_count": 3,
     "metadata": {},
     "output_type": "execute_result"
    }
   ],
   "source": [
    "df = pd.read_csv('../../outputs/mamografia/mias/metadata_mias.csv')\n",
    "glcm_features = {f'{property}_dist_{distance}_ang_{angle}': [] \n",
    "                 for property in properties\n",
    "                 for distance in distances\n",
    "                 for angle in angles_labels}\n",
    "\n",
    "labels = []\n",
    "\n",
    "for index, row in df.iterrows():\n",
    "    image_path_column_name = 'roi_image_path'\n",
    "    image_path = str(row[image_path_column_name])\n",
    "    isRoi = '_roi' if 'roi' in image_path_column_name else ''\n",
    "\n",
    "    if image_path == 'nan':\n",
    "        continue\n",
    "    \n",
    "    # Pega o rótulo da imagem\n",
    "    labels.append(row['pathology'])\n",
    "\n",
    "    # Lê a imagem\n",
    "    image = cv2.imread(image_path, cv2.IMREAD_GRAYSCALE)\n",
    "    \n",
    "    clahe_image = equalize_adapthist(image, clip_limit=0.03)\n",
    "    clahe_image = clahe_image * 255\n",
    "    clahe_image = clahe_image.astype('uint8')\n",
    "    clahe_binary_image = cv2.threshold(clahe_image, 0, 255, cv2.THRESH_BINARY + cv2.THRESH_OTSU)[1]\n",
    "    \n",
    "    #equalized_image = cv2.equalizeHist(image)\n",
    "    #binary_image = cv2.threshold(equalized_image, 0, 255, cv2.THRESH_BINARY + cv2.THRESH_OTSU)[1]\n",
    "    # Calcula a matriz GLCM\n",
    "    matrix_glcm = graycomatrix(clahe_binary_image, distances=distances, angles=angles, levels=256, symmetric=True, normed=True)\n",
    "\n",
    "    # Itera sobre as propriedades e calcula as propriedades da matriz GLCM\n",
    "    for property in properties:\n",
    "        glcm_prop = graycoprops(matrix_glcm, property)\n",
    "        \n",
    "        for distance, prop_distance in zip(distances, glcm_prop):  # Itera sobre os distâncias\n",
    "            for angle, prop in zip(angles_labels, prop_distance):         # Itera sobre os ângulos\n",
    "                glcm_features[f'{property}_dist_{distance}_ang_{angle}'].append(prop)\n",
    "\n",
    "glcm_features_df = pd.DataFrame(glcm_features)\n",
    "glcm_features_df['pathology'] = labels\n",
    "glcm_features_df.to_csv(f'../../outputs/mamografia/mias/glcm_features{isRoi}_mias.csv', index=False)\n",
    "glcm_features_df['pathology'].value_counts(dropna=False)"
   ]
  }
 ],
 "metadata": {
  "kernelspec": {
   "display_name": "radiomica",
   "language": "python",
   "name": "python3"
  },
  "language_info": {
   "codemirror_mode": {
    "name": "ipython",
    "version": 3
   },
   "file_extension": ".py",
   "mimetype": "text/x-python",
   "name": "python",
   "nbconvert_exporter": "python",
   "pygments_lexer": "ipython3",
   "version": "3.10.12"
  },
  "orig_nbformat": 4
 },
 "nbformat": 4,
 "nbformat_minor": 2
}
