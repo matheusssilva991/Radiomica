{
 "cells": [
  {
   "cell_type": "code",
   "execution_count": 10,
   "metadata": {},
   "outputs": [],
   "source": [
    "from pathlib import Path\n",
    "\n",
    "import numpy as np\n",
    "import pandas as pd"
   ]
  },
  {
   "cell_type": "code",
   "execution_count": 13,
   "metadata": {},
   "outputs": [],
   "source": [
    "directory = Path(\"D:\\\\mathe\\\\Documents\\\\BancoDados_IC\\\\Termografia mama\")\n",
    "paths_txt_images = list(directory.rglob(\"*.txt*\"))\n",
    "\n",
    "images_size = []\n",
    "\n",
    "for path_txt_image in paths_txt_images:\n",
    "    img = []\n",
    "    \n",
    "    with open(path_txt_image, \"r\") as fd:\n",
    "        for line in fd:\n",
    "            tmp = line.replace(\"\\t\", \" \").replace(\",\", \".\").split(\" \")\n",
    "            tmp = [float(i) for i in tmp]\n",
    "            img.append(tmp)\n",
    "       \n",
    "    img = np.array(img)  \n",
    "    \n",
    "    images_size.append(round(img.nbytes / 1000000, 2))\n",
    "    \n",
    "df_termografia = pd.DataFrame({'size_mb': images_size, \"database\": \"DMR\"})\n",
    "df_termografia.to_csv(\"../../metadata/termografia/images_size.csv\", index=False)"
   ]
  }
 ],
 "metadata": {
  "kernelspec": {
   "display_name": "prov",
   "language": "python",
   "name": "python3"
  },
  "language_info": {
   "codemirror_mode": {
    "name": "ipython",
    "version": 3
   },
   "file_extension": ".py",
   "mimetype": "text/x-python",
   "name": "python",
   "nbconvert_exporter": "python",
   "pygments_lexer": "ipython3",
   "version": "3.10.6"
  },
  "orig_nbformat": 4
 },
 "nbformat": 4,
 "nbformat_minor": 2
}
