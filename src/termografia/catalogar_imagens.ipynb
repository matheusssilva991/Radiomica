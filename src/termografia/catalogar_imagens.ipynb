{
 "cells": [
  {
   "cell_type": "code",
   "execution_count": 2,
   "metadata": {},
   "outputs": [],
   "source": [
    "import os\n",
    "import sys\n",
    "from pathlib import Path\n",
    "\n",
    "import numpy as np\n",
    "import pandas as pd\n",
    "\n",
    "sys.path.insert(0, \"\\\\\".join(os.path.abspath(os.curdir).split(\"\\\\\")[:-2:]))\n",
    "\n",
    "from src.utils.utils import *"
   ]
  },
  {
   "cell_type": "markdown",
   "metadata": {},
   "source": [
    "## 1. MammoTherm"
   ]
  },
  {
   "cell_type": "code",
   "execution_count": 16,
   "metadata": {},
   "outputs": [],
   "source": [
    "folders_names = ['Cisto', 'Lesao Benigna', 'Lesao Maligna', 'Sem lesao']\n",
    "path = 'D:\\\\mathe\\\\Documents\\\\BancoDados_IC\\\\Termografia\\\\MammoTherm'\n",
    "\n",
    "metadata = {'id': [], 'image_path': [], 'pathology': [], 'image_view': []}\n",
    "\n",
    "for folder_name in folders_names:\n",
    "    folder_path = path + '\\\\' + folder_name + '\\\\'\n",
    "    directory = Path(folder_path)\n",
    "    images_path = list(directory.rglob(\"*.jpg*\"))\n",
    "    \n",
    "    for image_path in images_path:\n",
    "        image_id = str(image_path).split(\"\\\\\")[-1].replace('.jpg', '')\n",
    "        metadata['id'].append(image_id)\n",
    "        metadata['image_path'].append(str(image_path))\n",
    "        metadata['pathology'].append(folder_name.replace('Lesao ', '').replace('Sem lesao', 'Normal'))\n",
    "        \n",
    "        if 'LEMD' in image_id: metadata['image_view'].append('LEMD')\n",
    "        elif 'LEME' in image_id: metadata['image_view'].append('LEME')\n",
    "        elif 'LIMD' in image_id: metadata['image_view'].append('LIMD')\n",
    "        elif 'LIME' in image_id: metadata['image_view'].append('LIME')\n",
    "        elif 'MD' in image_id: metadata['image_view'].append('MD')\n",
    "        elif 'ME' in image_id: metadata['image_view'].append('ME')\n",
    "        elif 'T1' in image_id: metadata['image_view'].append('T1')\n",
    "        elif 'T2' in image_id: metadata['image_view'].append('T2')\n",
    "        \n",
    "metadata = pd.DataFrame(metadata)\n",
    "images_size = get_images_size(\"D:\\\\mathe\\\\Documents\\\\BancoDados_IC\\\\Termografia\\\\MammoTherm\", \"jpg\", True)\n",
    "metadata['image_size_mb'] = images_size\n",
    "\n",
    "metadata.to_csv('../../outputs/termografia/Mammotherm_metadata.csv', index=False)\n",
    "metadata.to_csv('D:\\\\mathe\\\\Documents\\\\BancoDados_IC\\\\Termografia\\\\Mammotherm_metadata.csv', index=False)"
   ]
  }
 ],
 "metadata": {
  "kernelspec": {
   "display_name": "radiomica",
   "language": "python",
   "name": "python3"
  },
  "language_info": {
   "codemirror_mode": {
    "name": "ipython",
    "version": 3
   },
   "file_extension": ".py",
   "mimetype": "text/x-python",
   "name": "python",
   "nbconvert_exporter": "python",
   "pygments_lexer": "ipython3",
   "version": "3.10.12"
  },
  "orig_nbformat": 4
 },
 "nbformat": 4,
 "nbformat_minor": 2
}
