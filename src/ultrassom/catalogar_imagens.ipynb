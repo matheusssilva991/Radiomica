{
 "cells": [
  {
   "cell_type": "code",
   "execution_count": 1,
   "metadata": {},
   "outputs": [],
   "source": [
    "\n",
    "import os\n",
    "import sys\n",
    "\n",
    "sys.path.insert(0, \"\\\\\".join(os.path.abspath(os.curdir).split(\"\\\\\")[:-2:]))\n",
    "import cv2\n",
    "\n",
    "from src.utils.utils import *"
   ]
  },
  {
   "cell_type": "markdown",
   "metadata": {},
   "source": [
    "# Catalogar Imagens médica de ultrassom"
   ]
  },
  {
   "cell_type": "markdown",
   "metadata": {},
   "source": [
    "### Banco de dados 1 - Dataset_BUSI_with_GT"
   ]
  },
  {
   "cell_type": "code",
   "execution_count": 2,
   "metadata": {},
   "outputs": [
    {
     "name": "stdout",
     "output_type": "stream",
     "text": [
      "benign: 437\n",
      "benign_mask: 454\n",
      "malignant: 210\n",
      "malignant_mask: 211\n",
      "normal: 133\n",
      "normal_mask: 133\n"
     ]
    }
   ],
   "source": [
    "path_dataset = \"D:\\mathe\\Documents\\BancoDados_IC\\Dataset_BUSI_with_GT\"\n",
    "folders = ['benign', 'malignant', 'normal']\n",
    "benign, malignant, normal = {}, {}, {}\n",
    "dict_count_pathology = {}\n",
    "dict_pathology = {'benign': [], 'malignant': [], 'normal': []}\n",
    "\n",
    "images_size_1 = []\n",
    "\n",
    "for pathology in folders:\n",
    "    path = path_dataset + f\"\\{pathology}\"\n",
    "    \n",
    "    original = [img for img in os.listdir(path) if \"mask\" not in img]\n",
    "    cropped = [img for img in os.listdir(path) if \"mask\" in img]\n",
    "    \n",
    "    dict_count_pathology[f'{pathology}'] = len(original)\n",
    "    dict_count_pathology[f'{pathology}_mask'] = len(cropped)\n",
    "    \n",
    "    for img_name in original:\n",
    "        image = cv2.imread(path + f\"\\{img_name}\")\n",
    "        image = cv2.cvtColor(image, cv2.COLOR_BGR2GRAY)\n",
    "        \n",
    "        images_size_1.append(get_images_size(path + f\"\\{img_name}\", \"png\", False))\n",
    "        \n",
    "        study = {'image_name': img_name.replace(\".png\", \"\").replace(\" \", \"_\").replace(\"(\", \"\").replace(\")\", \"\"), \n",
    "                 'rows': image.shape[0],\n",
    "                 'columns': image.shape[1], \n",
    "                 'max_value': int(image.max()),\n",
    "                 'image_path': path + f\"\\{img_name}\"}\n",
    "        \n",
    "        dict_pathology[pathology].append(study)\n",
    "        \n",
    "#save_json(\"ultrassom_1_metadata\", dict_pathology, \"../../metadata/ultrassom/extracted_metadata\")\n",
    "        \n",
    "for key, value in dict_count_pathology.items():\n",
    "    print(f\"{key}: {value}\") \n",
    "    \n",
    "images_size_1 = pd.DataFrame({\"size_mb\": images_size_1, \"database\": \"BUSI_with_GT\"})"
   ]
  },
  {
   "cell_type": "markdown",
   "metadata": {},
   "source": [
    "### Banco de dados 2"
   ]
  },
  {
   "cell_type": "code",
   "execution_count": 3,
   "metadata": {},
   "outputs": [
    {
     "name": "stdout",
     "output_type": "stream",
     "text": [
      "Benign: 4574\n",
      "Malignant: 4442\n"
     ]
    }
   ],
   "source": [
    "path_dataset = \"D:\\\\mathe\\\\Documents\\\\BancoDados_IC\\\\ultrasound_breast_classification\"\n",
    "dict_pathology = {'benign': [], 'malignant': []}\n",
    "\n",
    "images_size_2 = []\n",
    "\n",
    "for part in ['train', 'val']:\n",
    "    for pathology in ['benign', 'malignant']:\n",
    "        path = path_dataset + f'\\{part}\\{pathology}'\n",
    "        \n",
    "        images = os.listdir(path)\n",
    "        \n",
    "        for img_name in images:\n",
    "            image = cv2.imread(path + f\"\\{img_name}\")\n",
    "            image = cv2.cvtColor(image, cv2.COLOR_BGR2GRAY)\n",
    "            \n",
    "            images_size_2.append(get_images_size(path + f\"\\{img_name}\", \"png\", False))\n",
    "            \n",
    "            study = {'image_name': img_name.replace(\".png\", \"\").replace(\" \", \"_\").replace(\"(\", \"\").replace(\")\", \"\"), \n",
    "                 'rows': image.shape[0],\n",
    "                 'columns': image.shape[1], \n",
    "                 'max_value': int(image.max()),\n",
    "                 'image_path': path + f\"\\{img_name}\"}\n",
    "            \n",
    "            dict_pathology[pathology].append(study)\n",
    "\n",
    "save_json(\"ultrassom_2_metadata\", dict_pathology, \"../../metadata/ultrassom/extracted_metadata\")\n",
    "\n",
    "print(f\"Benign: {len(dict_pathology['benign'])}\")\n",
    "print(f\"Malignant: {len(dict_pathology['malignant'])}\")\n",
    "\n",
    "images_size_2 = pd.DataFrame({\"size_mb\": images_size_2, \"database\": \"Ultrasound_breast_classification\"})"
   ]
  },
  {
   "cell_type": "code",
   "execution_count": 4,
   "metadata": {},
   "outputs": [],
   "source": [
    "images_size = pd.concat([images_size_1, images_size_2], axis=0)\n",
    "images_size.to_csv(\"../../metadata/ultrassom/images_size.csv\", index=False)"
   ]
  }
 ],
 "metadata": {
  "kernelspec": {
   "display_name": "Python 3.10.6 ('prov')",
   "language": "python",
   "name": "python3"
  },
  "language_info": {
   "codemirror_mode": {
    "name": "ipython",
    "version": 3
   },
   "file_extension": ".py",
   "mimetype": "text/x-python",
   "name": "python",
   "nbconvert_exporter": "python",
   "pygments_lexer": "ipython3",
   "version": "3.10.6"
  },
  "orig_nbformat": 4,
  "vscode": {
   "interpreter": {
    "hash": "72b0e7aef17bfaf12a24a38efe1b5729927abea9daa7ebf89509f441d033e89a"
   }
  }
 },
 "nbformat": 4,
 "nbformat_minor": 2
}
