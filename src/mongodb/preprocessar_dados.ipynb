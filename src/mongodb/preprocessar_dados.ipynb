{
 "cells": [
  {
   "cell_type": "code",
   "execution_count": 1,
   "metadata": {},
   "outputs": [],
   "source": [
    "import pandas as pd\n",
    "import os, sys\n",
    "sys.path.insert(0, \"\\\\\".join(os.path.abspath(os.curdir).split(\"\\\\\")[:-2:]))\n",
    "from pathlib import Path\n",
    "\n",
    "from src.utils.utils import *"
   ]
  },
  {
   "attachments": {},
   "cell_type": "markdown",
   "metadata": {},
   "source": [
    "# Pré processar os metadados"
   ]
  },
  {
   "cell_type": "code",
   "execution_count": 2,
   "metadata": {},
   "outputs": [],
   "source": [
    "from copy import deepcopy\n",
    "\n",
    "def rename_keys(dictionary):\n",
    "    dict_keys_to_rename = {\n",
    "        \"id1\": \"patient_id\",\n",
    "        \"leftright\": \"left_or_right_breast\",\n",
    "        \"abnormality\": \"abnormality_type\",\n",
    "        \"classification\": \"pathology\",\n",
    "        \"reference_number\": \"patient_id\",\n",
    "        \"laterality\": \"left_or_right breast\",\n",
    "        \"view\": \"image_view\",\n",
    "        \"assessment\": \"bi-rads\",\n",
    "        \"age\": \"patient_age\",\n",
    "        \"acr\": \"breast_density\"\n",
    "    }\n",
    "\n",
    "    keys_order = dictionary.keys()\n",
    "    \n",
    "    for key in dictionary.keys():\n",
    "        key_lower = deepcopy(key)\n",
    "        key_lower = key_lower.lower().replace(\" \", \"_\")\n",
    "        \n",
    "        if key in dict_keys_to_rename.keys():\n",
    "            keys_order = list(map(lambda x: x.replace(key, dict_keys_to_rename[key_lower]), keys_order))\n",
    "            \n",
    "    new_dict = {}\n",
    "    for key_order, key in zip(keys_order, dictionary.keys()):\n",
    "        new_dict[key_order.lower()] = dictionary[key]\n",
    "           \n",
    "    return new_dict"
   ]
  },
  {
   "cell_type": "code",
   "execution_count": 3,
   "metadata": {},
   "outputs": [],
   "source": [
    "studies = []\n",
    "\n",
    "#DDSM\n",
    "json_names = ['calc_case_description_test_set', 'calc_case_description_train_set', \n",
    "              'mass_case_description_test_set', 'mass_case_description_train_set']\n",
    "\n",
    "for json_name in json_names:\n",
    "    list_metadata = load_json(json_name, \"../../metadata/extracted_metadata/csv_and_dicom_DSSM\")\n",
    "    \n",
    "    for metadata in list_metadata:\n",
    "        new_metadata = {}\n",
    "        new_metadata['database_name'] = 'DDSM'\n",
    "        new_metadata['study_name'] = metadata['study_name']\n",
    "        \n",
    "        metadata_csv = rename_keys(metadata['metadata_csv'])\n",
    "        \n",
    "        new_metadata = new_metadata | metadata_csv\n",
    "        new_metadata['metadata_dicom_files'] = metadata['metadata_dicom_files']\n",
    "        \n",
    "        studies.append(new_metadata)\n",
    "        \n",
    "#CMMD e INBREAST     \n",
    "database_names = ['CMMD', 'INBREAST']\n",
    "json_names = ['csv_and_dicom_CMMD', 'csv_and_dicom_INBREAST']\n",
    "\n",
    "for database_name, json_name in zip(database_names, json_names):\n",
    "    list_metadata = load_json(json_name, \"../../metadata/extracted_metadata\")\n",
    "    \n",
    "    for metadata in list_metadata: \n",
    "        new_metadata = {}\n",
    "        new_metadata['database_name'] = database_name\n",
    "        new_metadata['study_name'] = metadata['study_name']\n",
    "        \n",
    "        metadata_csv = rename_keys(metadata['metadata_csv'])\n",
    "    \n",
    "        new_metadata = new_metadata | metadata_csv\n",
    "        new_metadata['metadata_dicom_files'] = metadata['metadata_dicom_files']\n",
    "        \n",
    "        studies.append(new_metadata)\n",
    "    \n",
    "save_json(\"metadata\", studies, \"../../metadata/mongodb_database\")"
   ]
  }
 ],
 "metadata": {
  "kernelspec": {
   "display_name": "prov",
   "language": "python",
   "name": "python3"
  },
  "language_info": {
   "codemirror_mode": {
    "name": "ipython",
    "version": 3
   },
   "file_extension": ".py",
   "mimetype": "text/x-python",
   "name": "python",
   "nbconvert_exporter": "python",
   "pygments_lexer": "ipython3",
   "version": "3.10.6"
  },
  "orig_nbformat": 4,
  "vscode": {
   "interpreter": {
    "hash": "72b0e7aef17bfaf12a24a38efe1b5729927abea9daa7ebf89509f441d033e89a"
   }
  }
 },
 "nbformat": 4,
 "nbformat_minor": 2
}
