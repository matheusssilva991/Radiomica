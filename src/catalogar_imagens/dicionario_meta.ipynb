{
 "cells": [
  {
   "cell_type": "code",
   "execution_count": 1,
   "metadata": {},
   "outputs": [],
   "source": [
    "import os, sys\n",
    "sys.path.insert(0, \"\\\\\".join(os.path.abspath(os.curdir).split(\"\\\\\")[:-2:]))\n",
    "from pathlib import Path\n",
    "\n",
    "import matplotlib.pyplot as plt\n",
    "from pydicom import dcmread\n",
    "import pandas as pd\n",
    "import numpy as np\n",
    "import json\n",
    "\n",
    "from src.utils.utils import save_json, get_dicom_meta, preprocessing_path"
   ]
  },
  {
   "cell_type": "code",
   "execution_count": 3,
   "metadata": {},
   "outputs": [
    {
     "data": {
      "text/plain": [
       "{'all': {'study_id (0020, 0010)': 20,\n",
       "  'pixel_representation (0028, 0103)': 20,\n",
       "  'smallest_image_pixel_value (0028, 0106)': 20,\n",
       "  'study_date (0008, 0020)': 20,\n",
       "  'patient_id (0010, 0020)': 20,\n",
       "  'instance_number (0020, 0013)': 20,\n",
       "  'content_time (0008, 0033)': 20,\n",
       "  'study_time (0008, 0030)': 20,\n",
       "  'content_date (0008, 0023)': 20,\n",
       "  'modality (0008, 0060)': 20,\n",
       "  'photometric_interpretation (0028, 0004)': 20,\n",
       "  \"patient's_sex (0010, 0040)\": 20,\n",
       "  'private_tag_data (0013, 1010)': 20,\n",
       "  'sop_class_uid (0008, 0016)': 20,\n",
       "  'bits_allocated (0028, 0100)': 20,\n",
       "  'series_description (0008, 103e)': 20,\n",
       "  'private_creator (0013, 0010)': 20,\n",
       "  'sop_instance_uid (0008, 0018)': 20,\n",
       "  'samples_per_pixel (0028, 0002)': 20,\n",
       "  'high_bit (0028, 0102)': 20,\n",
       "  'conversion_type (0008, 0064)': 20,\n",
       "  \"patient's_name (0010, 0010)\": 20,\n",
       "  'series_number (0020, 0011)': 20,\n",
       "  'accession_number (0008, 0050)': 20,\n",
       "  'series_instance_uid (0020, 000e)': 20,\n",
       "  'study_instance_uid (0020, 000d)': 20,\n",
       "  'specific_character_set (0008, 0005)': 20,\n",
       "  \"patient's_birth_date (0010, 0030)\": 20,\n",
       "  \"secondary_capture_device_manufacturer's_model_name (0018, 1018)\": 20,\n",
       "  'largest_image_pixel_value (0028, 0107)': 20,\n",
       "  'private_tag_data (0013, 1013)': 20,\n",
       "  'bits_stored (0028, 0101)': 20,\n",
       "  'columns (0028, 0011)': 20,\n",
       "  'laterality (0020, 0060)': 20,\n",
       "  'secondary_capture_device_manufacturer (0018, 1016)': 20,\n",
       "  'patient_orientation (0020, 0020)': 20,\n",
       "  'body_part_examined (0018, 0015)': 20,\n",
       "  'rows (0028, 0010)': 20,\n",
       "  \"referring_physician's_name (0008, 0090)\": 20},\n",
       " 'empty': {\"patient's_sex (0010, 0040)\": 20,\n",
       "  'study_date (0008, 0020)': 5,\n",
       "  'accession_number (0008, 0050)': 20,\n",
       "  'study_time (0008, 0030)': 5,\n",
       "  \"referring_physician's_name (0008, 0090)\": 20,\n",
       "  \"patient's_birth_date (0010, 0030)\": 20}}"
      ]
     },
     "execution_count": 3,
     "metadata": {},
     "output_type": "execute_result"
    }
   ],
   "source": [
    "def update_count_tag(list_tags: list | set, dictionary_tags: dict) -> None:\n",
    "    for key in list_tags:\n",
    "        if key in dictionary_tags.keys():\n",
    "            dictionary_tags[key] += 1\n",
    "        else:\n",
    "            dictionary_tags[key] = 1\n",
    "\n",
    "metadata_files = ['calc_case_description_test_set',\n",
    "             'mass_case_description_train_set',\n",
    "             'calc_case_description_train_set',\n",
    "             'mass_case_description_test_set']\n",
    "\n",
    "dictionary_metadata = {}\n",
    "dictionary_empty_meta = {}\n",
    "\n",
    "for current_meta in metadata_files:\n",
    "    df = pd.read_csv(f\"../../metadata//{current_meta}.csv\").iloc[:5:, ::]\n",
    "    \n",
    "    for i in range(df.shape[0]):\n",
    "        original_image_path = df.iloc[i][11]\n",
    "        original_image_path = preprocessing_path(original_image_path)\n",
    "        \n",
    "        cropped_images_path = df.iloc[i][12]\n",
    "        cropped_images_path = preprocessing_path(cropped_images_path)\n",
    "        \n",
    "        all_image_path = {\"original\": original_image_path, \"cropped\":cropped_images_path}\n",
    "        dicom_files = []\n",
    "        \n",
    "        for key, path in all_image_path.items():\n",
    "            path_exam_files = f\"D:/mathe/Documents/BancoDados_IC/CBIS-DDSM/{path}/\"\n",
    "            directory = Path(path_exam_files)\n",
    "            paths_dicom_images = list(directory.rglob(\"*.dcm*\"))\n",
    "            \n",
    "            for path_dicom in paths_dicom_images:\n",
    "                dicom_file = dcmread(path_dicom)\n",
    "                dicom_files.append(get_dicom_meta(dicom_file))\n",
    "                \n",
    "        all_tags = set()\n",
    "        empty_tags = set()\n",
    "        \n",
    "        for dicom_file in dicom_files:\n",
    "            all_tags = all_tags | set(dicom_file.keys()) # união\n",
    "            empty_tags = empty_tags | set([key for key, value in dicom_file.items() if dicom_file[key] == \"\"]) # união\n",
    "            \n",
    "        update_count_tag(all_tags, dictionary_metadata)\n",
    "        update_count_tag(empty_tags, dictionary_empty_meta)\n",
    "        \n",
    "dictionary = {\"all\": dictionary_metadata, \"empty\": dictionary_empty_meta}\n",
    "#save_json(\"dictionary_metadata\", dictionary, f\"../../metadata/dictionary_metadata\")  \n",
    "dictionary "
   ]
  }
 ],
 "metadata": {
  "kernelspec": {
   "display_name": "Python 3.10.4 ('prov')",
   "language": "python",
   "name": "python3"
  },
  "language_info": {
   "codemirror_mode": {
    "name": "ipython",
    "version": 3
   },
   "file_extension": ".py",
   "mimetype": "text/x-python",
   "name": "python",
   "nbconvert_exporter": "python",
   "pygments_lexer": "ipython3",
   "version": "3.10.4"
  },
  "orig_nbformat": 4,
  "vscode": {
   "interpreter": {
    "hash": "72b0e7aef17bfaf12a24a38efe1b5729927abea9daa7ebf89509f441d033e89a"
   }
  }
 },
 "nbformat": 4,
 "nbformat_minor": 2
}
