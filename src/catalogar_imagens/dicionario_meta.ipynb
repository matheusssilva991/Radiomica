{
 "cells": [
  {
   "cell_type": "code",
   "execution_count": 1,
   "metadata": {},
   "outputs": [],
   "source": [
    "import os, sys\n",
    "sys.path.insert(0, \"\\\\\".join(os.path.abspath(os.curdir).split(\"\\\\\")[:-2:]))\n",
    "from pathlib import Path\n",
    "\n",
    "import matplotlib.pyplot as plt\n",
    "from pydicom import dcmread\n",
    "import pandas as pd\n",
    "import numpy as np\n",
    "import json\n",
    "\n",
    "from src.utils.utils import *"
   ]
  },
  {
   "cell_type": "markdown",
   "metadata": {},
   "source": [
    "# Dicionário de metadados"
   ]
  },
  {
   "cell_type": "markdown",
   "metadata": {},
   "source": [
    "## DDSM"
   ]
  },
  {
   "cell_type": "code",
   "execution_count": null,
   "metadata": {},
   "outputs": [],
   "source": [
    "metadata_files = ['calc_case_description_test_set',\n",
    "             'mass_case_description_train_set',\n",
    "             'calc_case_description_train_set',\n",
    "             'mass_case_description_test_set']\n",
    "\n",
    "dictionary_metadata = {}\n",
    "dictionary_empty_meta = {}\n",
    "\n",
    "for current_meta in metadata_files: # Itera sobre os json de metados\n",
    "    metadata_ddsm = load_json(current_meta,  \"../../metadata/DDSM/metadata_csv_and_dicom\")\n",
    "    \n",
    "    for current_meta_study in metadata_ddsm: # itera sobre os estudos\n",
    "        tmp_meta = current_meta_study['metadata_dicom_files']\n",
    "        \n",
    "        all_tags = set()\n",
    "        empty_tags = set()\n",
    "        \n",
    "        meta_dicom_files = tmp_meta['original'] + tmp_meta['cropped']\n",
    "        \n",
    "        for meta_dicom_file in meta_dicom_files: # Itera sobre os arquivos dicom no estudo\n",
    "            for key, value in meta_dicom_file.items(): # Iterar sobre as tags no arquivo dicom\n",
    "                all_tags = all_tags | set(meta_dicom_file.keys()) # união\n",
    "                empty_tags = empty_tags | set([key for key, value in meta_dicom_file.items() \n",
    "                                               if meta_dicom_file[key] == \"\"]) # união\n",
    "        update_count_tag(all_tags, dictionary_metadata)\n",
    "        update_count_tag(empty_tags, dictionary_empty_meta) \n",
    "        \n",
    "dictionary = {\"all\": dictionary_metadata, \"empty\": dictionary_empty_meta}\n",
    "save_json(\"dictionary_metadata\", dictionary, f\"../../metadata/DDSM\")"
   ]
  },
  {
   "cell_type": "markdown",
   "metadata": {},
   "source": [
    "## CMMD"
   ]
  },
  {
   "cell_type": "code",
   "execution_count": null,
   "metadata": {},
   "outputs": [],
   "source": [
    "metadata_cmmd = load_json(\"metadata_csv_and_dicom\", \"../../metadata/CMMD/\")\n",
    "\n",
    "dictionary_metadata = {}\n",
    "dictionary_empty_meta = {}\n",
    "\n",
    "for current_meta in metadata_cmmd: # Iterar sobre os estudos\n",
    "    meta_dicom_files = current_meta['metadata_dicom_files']\n",
    "    \n",
    "    all_tags = set()\n",
    "    empty_tags = set()\n",
    "    \n",
    "    for current_meta_dicom in meta_dicom_files: # Iterar sobre os arquivos dicom no estudo\n",
    "        for key, value in current_meta_dicom.items(): # Iterar sobre as tags no arquivo dicom\n",
    "            all_tags = all_tags | set(current_meta_dicom.keys()) # união\n",
    "            empty_tags = empty_tags | set([key for key, value in current_meta_dicom.items() \n",
    "                                           if current_meta_dicom[key] == \"\"]) # união\n",
    "    \n",
    "    update_count_tag(all_tags, dictionary_metadata)\n",
    "    update_count_tag(empty_tags, dictionary_empty_meta) \n",
    "      \n",
    "dictionary = {\"all\": dictionary_metadata, \"empty\": dictionary_empty_meta}\n",
    "save_json(\"dictionary_metadata_cmmd\", dictionary, f\"../../metadata/CMMD\") "
   ]
  },
  {
   "cell_type": "markdown",
   "metadata": {},
   "source": [
    "## Merge Dicionários de tags"
   ]
  },
  {
   "cell_type": "code",
   "execution_count": 4,
   "metadata": {},
   "outputs": [],
   "source": [
    "def merge_dictionary(left_dict, right_dict):\n",
    "    list_keys = list(left_dict.keys()) + list(right_dict.keys())\n",
    "    dictionary_merged = {}\n",
    "\n",
    "    for key in list_keys:\n",
    "        if key in set(left_dict.keys()) & set(right_dict.keys()): # key contido (left^right)\n",
    "            dictionary_merged[key] = left_dict[key] + right_dict[key]\n",
    "        elif key in left_dict.keys(): # key contido em left\n",
    "            dictionary_merged[key] = left_dict[key]\n",
    "        else: # key contido em right\n",
    "            dictionary_merged[key] = right_dict[key]\n",
    "            \n",
    "    return dictionary_merged\n",
    "\n",
    "dictionary_cmmd = load_json(\"dictionary_metadata_cmmd\", \"../../metadata/CMMD/\")\n",
    "dictionary_ddsm = load_json(\"dictionary_metadata_ddsm\", \"../../metadata/DDSM/\")\n",
    "\n",
    "full_dictionary = merge_dictionary(dictionary_cmmd['all'], dictionary_ddsm['all'])\n",
    "full_empty = merge_dictionary(dictionary_cmmd['empty'], dictionary_ddsm['empty'])\n",
    "\n",
    "dictionary = {'all': full_dictionary, 'empty': full_empty}\n",
    "save_json(\"dictionary_metadata_ddsm\", dictionary, f\"../../metadata\")"
   ]
  }
 ],
 "metadata": {
  "kernelspec": {
   "display_name": "Python 3.10.4 ('prov')",
   "language": "python",
   "name": "python3"
  },
  "language_info": {
   "codemirror_mode": {
    "name": "ipython",
    "version": 3
   },
   "file_extension": ".py",
   "mimetype": "text/x-python",
   "name": "python",
   "nbconvert_exporter": "python",
   "pygments_lexer": "ipython3",
   "version": "3.10.4"
  },
  "orig_nbformat": 4,
  "vscode": {
   "interpreter": {
    "hash": "72b0e7aef17bfaf12a24a38efe1b5729927abea9daa7ebf89509f441d033e89a"
   }
  }
 },
 "nbformat": 4,
 "nbformat_minor": 2
}
