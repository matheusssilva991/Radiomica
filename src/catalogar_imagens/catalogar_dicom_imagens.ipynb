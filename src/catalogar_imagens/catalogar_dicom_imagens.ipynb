{
 "cells": [
  {
   "cell_type": "code",
   "execution_count": 1,
   "metadata": {},
   "outputs": [],
   "source": [
    "import os, sys\n",
    "sys.path.insert(0, \"\\\\\".join(os.path.abspath(os.curdir).split(\"\\\\\")[:-2:]))\n",
    "from pathlib import Path\n",
    "\n",
    "import matplotlib.pyplot as plt\n",
    "from pydicom import dcmread\n",
    "import pandas as pd\n",
    "import numpy as np\n",
    "import json\n",
    "\n",
    "from src.utils.utils import *"
   ]
  },
  {
   "cell_type": "markdown",
   "metadata": {},
   "source": [
    "# Catalogar dados"
   ]
  },
  {
   "cell_type": "markdown",
   "metadata": {},
   "source": [
    "## DDSM"
   ]
  },
  {
   "cell_type": "markdown",
   "metadata": {},
   "source": [
    "### Pegar Metadados em csv e dicom"
   ]
  },
  {
   "cell_type": "code",
   "execution_count": 2,
   "metadata": {},
   "outputs": [],
   "source": [
    "def get_study_metadata(paths: dict, metadata_csv: object, indice: int) -> dict:\n",
    "    # Pega metadados no dataframe\n",
    "    dic_meta_in_csv = {}  \n",
    "    \n",
    "    for col in metadata_csv.iloc[::, :11:].columns.tolist():\n",
    "        if isinstance(metadata_csv[col][indice], np.integer):\n",
    "            dic_meta_in_csv[col] = int(metadata_csv[col][indice])\n",
    "        elif pd.isna(metadata_csv[col][indice]):\n",
    "            dic_meta_in_csv[col] = \"NaN\"\n",
    "        else:\n",
    "            dic_meta_in_csv[col] = metadata_csv[col][indice]\n",
    "    \n",
    "    # Pega metadados no objeto dicom\n",
    "    metadata_dicom_files = {\"original\": [], \"cropped\": []}\n",
    "    \n",
    "    for key, path in paths.items():\n",
    "        path_exam_files = f\"D:/mathe/Documents/BancoDados_IC/CBIS-DDSM/{path}/\"\n",
    "        directory = Path(path_exam_files)\n",
    "        paths_dicom_images = list(directory.rglob(\"*.dcm*\"))\n",
    "        \n",
    "        #Adicionar path da imagem no metadados do csv\n",
    "        dic_meta_in_csv[f'{key}_image_path'] = str(paths_dicom_images[0]).replace(\"\\\\\", \"/\").split(\"/\")\n",
    "        dic_meta_in_csv[f'{key}_image_path'].pop() # Retira o nome do arquivo Dicom do Path\n",
    "        dic_meta_in_csv[f'{key}_image_path'] = \"/\".join(dic_meta_in_csv[f'{key}_image_path'])\n",
    "        \n",
    "        for path_dicom in paths_dicom_images:\n",
    "            dicom_file = dcmread(path_dicom)\n",
    "            metadata_dicom_files[key].append(get_dicom_meta(dicom_file, False))\n",
    "    \n",
    "    return study_factory(paths['original'], dic_meta_in_csv, metadata_dicom_files)"
   ]
  },
  {
   "cell_type": "markdown",
   "metadata": {},
   "source": [
    "### Salvar metadados arquivos Json"
   ]
  },
  {
   "cell_type": "code",
   "execution_count": 4,
   "metadata": {},
   "outputs": [],
   "source": [
    "metadata_files = ['calc_case_description_test_set',\n",
    "             'mass_case_description_train_set',\n",
    "             'calc_case_description_train_set',\n",
    "             'mass_case_description_test_set']\n",
    "\n",
    "for current_meta in metadata_files:\n",
    "    df = pd.read_csv(f\"../../metadata/DDSM/raw_metadata/{current_meta}.csv\")\n",
    "    \n",
    "    studies = []\n",
    "    for i in range(df.shape[0]):\n",
    "        original_image_path = df.iloc[i][11]\n",
    "        cropped_images_path = df.iloc[i][12]\n",
    "        \n",
    "        original_image_path = preprocessing_path(original_image_path)\n",
    "        cropped_images_path = preprocessing_path(cropped_images_path)\n",
    "        \n",
    "        metadata = df.iloc[::, :11:]\n",
    "        all_image_path = {\"original\": original_image_path, \"cropped\":cropped_images_path}\n",
    "        \n",
    "        studies.append(get_study_metadata(all_image_path, metadata, i))\n",
    "    save_json(current_meta, studies, f\"../../metadata/DDSM/metadata_csv_and_dicom\")  "
   ]
  },
  {
   "cell_type": "markdown",
   "metadata": {},
   "source": [
    "## CMMD"
   ]
  },
  {
   "cell_type": "code",
   "execution_count": 6,
   "metadata": {},
   "outputs": [],
   "source": [
    "path_metadata = f\"../../metadata/CMMD/raw_metadata/CMMD_clinicaldata_revision.xlsx\"\n",
    "path_cmmd = path = f\"D:/mathe/Documents/BancoDados_IC/CMMD\"\n",
    "\n",
    "df = pd.read_excel(path_metadata)\n",
    "df = df.fillna(\"NaN\")\n",
    "\n",
    "studies = []\n",
    "\n",
    "left_or_right_breast = {'L': 'Left', 'R': 'Right'}\n",
    "abnormality = {'calcification': 'Calc', 'mass': 'Mass', 'both': 'Both'}\n",
    "\n",
    "for i in range(df.shape[0]):\n",
    "    # Pegar o nome do Estudo\n",
    "    study_name = [abnormality[df.iloc[i:i+1:, 4:5:].values[0][0]],\n",
    "                  df.iloc[i:i+1:, 0:1:].values[0][0],\n",
    "                  left_or_right_breast[df.iloc[i:i+1:, 1:2:].values[0][0]]]\n",
    "    study_name = \"_\".join(study_name)\n",
    "    \n",
    "    # Pegar metadados no csv\n",
    "    metadata_csv = {}\n",
    "    for column in df.columns:\n",
    "        if isinstance(df.loc[i, column], np.integer):\n",
    "            metadata_csv[column] = int(df.loc[i, column])\n",
    "        elif pd.isna(df.loc[i, column]):\n",
    "            metadata_csv[column] = \"NaN\"\n",
    "        else:\n",
    "            metadata_csv[column] = df.loc[i, column]\n",
    "     \n",
    "    # Pegar paths dos arquivo dicom   \n",
    "    path_exam_files = path_cmmd + f\"/{df.loc[i, 'ID1']}/\"\n",
    "    directory = Path(path_exam_files)\n",
    "    paths_dicom_images = list(directory.rglob(\"*.dcm*\"))\n",
    "    \n",
    "    # Pegar metadados dos arquivos dicom\n",
    "    metadata_dicom_files = []\n",
    "    \n",
    "    for path_dicom in paths_dicom_images:\n",
    "        dicom_file = dcmread(path_dicom)\n",
    "        metadata_dicom_files.append(get_dicom_meta(dicom_file, False))\n",
    "        \n",
    "    studies.append(study_factory(study_name, metadata_csv, metadata_dicom_files))\n",
    "  \n",
    "save_json(\"metadata_csv_and_dicom\", studies, f\"../../metadata/CMMD\" ) "
   ]
  }
 ],
 "metadata": {
  "kernelspec": {
   "display_name": "Python 3.10.4 ('prov')",
   "language": "python",
   "name": "python3"
  },
  "language_info": {
   "codemirror_mode": {
    "name": "ipython",
    "version": 3
   },
   "file_extension": ".py",
   "mimetype": "text/x-python",
   "name": "python",
   "nbconvert_exporter": "python",
   "pygments_lexer": "ipython3",
   "version": "3.10.4"
  },
  "orig_nbformat": 4,
  "vscode": {
   "interpreter": {
    "hash": "72b0e7aef17bfaf12a24a38efe1b5729927abea9daa7ebf89509f441d033e89a"
   }
  }
 },
 "nbformat": 4,
 "nbformat_minor": 2
}
