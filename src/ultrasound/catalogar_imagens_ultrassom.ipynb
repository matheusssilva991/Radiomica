{
 "cells": [
  {
   "cell_type": "code",
   "execution_count": 1,
   "metadata": {},
   "outputs": [],
   "source": [
    "#import pandas as pd\n",
    "#import numpy as np\n",
    "#import matplotlib.pyplot as plt\n",
    "import os, sys\n",
    "sys.path.insert(0, \"\\\\\".join(os.path.abspath(os.curdir).split(\"\\\\\")[:-2:]))\n",
    "import cv2\n",
    "\n",
    "from src.utils.utils import *"
   ]
  },
  {
   "cell_type": "markdown",
   "metadata": {},
   "source": [
    "# Catalogar Imagens médica de ultrassom"
   ]
  },
  {
   "cell_type": "markdown",
   "metadata": {},
   "source": [
    "### Banco de dados 1 - Dataset_BUSI_with_GT"
   ]
  },
  {
   "cell_type": "code",
   "execution_count": 2,
   "metadata": {},
   "outputs": [
    {
     "name": "stdout",
     "output_type": "stream",
     "text": [
      "benign: 437\n",
      "benign_mask: 454\n",
      "malignant: 210\n",
      "malignant_mask: 211\n",
      "normal: 133\n",
      "normal_mask: 133\n"
     ]
    }
   ],
   "source": [
    "path_dataset = \"D:\\mathe\\Documents\\BancoDados_IC\\Dataset_BUSI_with_GT\"\n",
    "folders = ['benign', 'malignant', 'normal']\n",
    "benign, malignant, normal = {}, {}, {}\n",
    "dict_count_pathology = {}\n",
    "dict_pathology = {'benign': [], 'malignant': [], 'normal': []}\n",
    "\n",
    "for pathology in folders:\n",
    "    path = path_dataset + f\"\\{pathology}\"\n",
    "    \n",
    "    original = [img for img in os.listdir(path) if \"mask\" not in img]\n",
    "    cropped = [img for img in os.listdir(path) if \"mask\" in img]\n",
    "    \n",
    "    dict_count_pathology[f'{pathology}'] = len(original)\n",
    "    dict_count_pathology[f'{pathology}_mask'] = len(cropped)\n",
    "    \n",
    "    for img_name in original:\n",
    "        image = cv2.imread(path + f\"\\{img_name}\")\n",
    "        image = cv2.cvtColor(image, cv2.COLOR_BGR2RGB)\n",
    "        \n",
    "        study = {'image_name': img_name.replace(\".png\", \"\").replace(\" \", \"_\").replace(\"(\", \"\").replace(\")\", \"\"), \n",
    "                 'rows': image.shape[0],\n",
    "                 'columns': image.shape[1], \n",
    "                 'channels': image.shape[2],\n",
    "                 'max_value': int(image.max()),\n",
    "                 'image_path': path + f\"\\{img_name}\"}\n",
    "        \n",
    "        dict_pathology[pathology].append(study)\n",
    "        \n",
    "save_json(\"ultrasound_1_metadata\", dict_pathology)\n",
    "        \n",
    "for key, value in dict_count_pathology.items():\n",
    "    print(f\"{key}: {value}\") "
   ]
  },
  {
   "cell_type": "markdown",
   "metadata": {},
   "source": [
    "### Banco de dados 2"
   ]
  },
  {
   "cell_type": "code",
   "execution_count": 3,
   "metadata": {},
   "outputs": [
    {
     "name": "stdout",
     "output_type": "stream",
     "text": [
      "Benign: 4574\n",
      "Malignant: 4442\n"
     ]
    }
   ],
   "source": [
    "path_dataset = \"D:\\\\mathe\\\\Documents\\\\BancoDados_IC\\\\ultrasound_breast_classification\"\n",
    "dict_pathology = {'benign': [], 'malignant': []}\n",
    "\n",
    "for part in ['train', 'val']:\n",
    "    for pathology in ['benign', 'malignant']:\n",
    "        path = path_dataset + f'\\{part}\\{pathology}'\n",
    "        \n",
    "        images = os.listdir(path)\n",
    "        \n",
    "        for img_name in images:\n",
    "            image = cv2.imread(path + f\"\\{img_name}\")\n",
    "            image = cv2.cvtColor(image, cv2.COLOR_BGR2RGB)\n",
    "            \n",
    "            study = {'image_name': img_name.replace(\".png\", \"\").replace(\" \", \"_\").replace(\"(\", \"\").replace(\")\", \"\"), \n",
    "                 'rows': image.shape[0],\n",
    "                 'columns': image.shape[1], \n",
    "                 'channels': image.shape[2],\n",
    "                 'max_value': int(image.max()),\n",
    "                 'image_path': path + f\"\\{img_name}\"}\n",
    "            \n",
    "            dict_pathology[pathology].append(study)\n",
    "\n",
    "save_json(\"ultrasound_2_metadata\", dict_pathology)\n",
    "\n",
    "print(f\"Benign: {len(dict_pathology['benign'])}\")\n",
    "print(f\"Malignant: {len(dict_pathology['malignant'])}\")"
   ]
  }
 ],
 "metadata": {
  "kernelspec": {
   "display_name": "Python 3.10.6 ('prov')",
   "language": "python",
   "name": "python3"
  },
  "language_info": {
   "codemirror_mode": {
    "name": "ipython",
    "version": 3
   },
   "file_extension": ".py",
   "mimetype": "text/x-python",
   "name": "python",
   "nbconvert_exporter": "python",
   "pygments_lexer": "ipython3",
   "version": "3.10.6"
  },
  "orig_nbformat": 4,
  "vscode": {
   "interpreter": {
    "hash": "72b0e7aef17bfaf12a24a38efe1b5729927abea9daa7ebf89509f441d033e89a"
   }
  }
 },
 "nbformat": 4,
 "nbformat_minor": 2
}
