{
 "cells": [
  {
   "cell_type": "code",
   "execution_count": null,
   "metadata": {},
   "outputs": [],
   "source": [
    "import matplotlib.pyplot as plt\n",
    "from pydicom import dcmread\n",
    "import pandas as pd\n",
    "import json\n",
    "import os\n",
    "from pathlib import Path"
   ]
  },
  {
   "cell_type": "markdown",
   "metadata": {},
   "source": [
    "### Salvar json com metadados agrupados por Pacientes com mesmo ID"
   ]
  },
  {
   "cell_type": "code",
   "execution_count": null,
   "metadata": {},
   "outputs": [],
   "source": [
    "metadata_files = ['calc_case_description_test_set',\n",
    "             'mass_case_description_train_set',\n",
    "             'calc_case_description_train_set',\n",
    "             'mass_case_description_test_set']\n",
    "\n",
    "for current_meta in metadata_files:\n",
    "    df = pd.read_csv(f\"../metadata//{current_meta}.csv\")\n",
    "    patients_id = set(df['patient_id'])\n",
    "    \n",
    "    metadata = []\n",
    "    \n",
    "    for current_patient_id in patients_id:\n",
    "        mask = df['patient_id'] == current_patient_id\n",
    "        df_aux = df[mask]\n",
    "        \n",
    "        patient = {'patient_id': current_patient_id,\n",
    "                   'studies':[]\n",
    "                   }\n",
    "        \n",
    "        for i in range(df_aux.shape[0]):\n",
    "            study = df_aux.iloc[i, 1::].to_dict()\n",
    "            \n",
    "            patient['studies'].append(study)\n",
    "            \n",
    "        metadata.append(patient)\n",
    "\n",
    "    metadata_json = json.dumps(metadata, indent=3)\n",
    "    with open(f\"../metadata/{current_meta}.json\", 'w') as json_file:\n",
    "        json_file.write(metadata_json)"
   ]
  }
 ],
 "metadata": {
  "kernelspec": {
   "display_name": "Python 3.10.4 ('prov')",
   "language": "python",
   "name": "python3"
  },
  "language_info": {
   "name": "python",
   "version": "3.10.4"
  },
  "orig_nbformat": 4,
  "vscode": {
   "interpreter": {
    "hash": "72b0e7aef17bfaf12a24a38efe1b5729927abea9daa7ebf89509f441d033e89a"
   }
  }
 },
 "nbformat": 4,
 "nbformat_minor": 2
}
